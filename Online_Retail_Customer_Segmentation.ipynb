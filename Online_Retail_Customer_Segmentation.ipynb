{
  "nbformat": 4,
  "nbformat_minor": 0,
  "metadata": {
    "colab": {
      "provenance": [],
      "collapsed_sections": [
        "mDgbUHAGgjLW",
        "QHF8YVU7Yuh3",
        "GwzvFGzlYuh3",
        "qYpmQ266Yuh3",
        "OH-pJp9IphqM",
        "bbFf2-_FphqN",
        "_ouA3fa0phqN",
        "Seke61FWphqN",
        "PIIx-8_IphqN",
        "t27r6nlMphqO",
        "r2jJGEOYphqO",
        "b0JNsNcRphqO",
        "BZR9WyysphqO",
        "jj7wYXLtphqO",
        "eZrbJ2SmphqO",
        "rFu4xreNphqO",
        "YJ55k-q6phqO",
        "gCFgpxoyphqP",
        "OVtJsKN_phqQ",
        "lssrdh5qphqQ",
        "U2RJ9gkRphqQ",
        "1M8mcRywphqQ",
        "tgIPom80phqQ",
        "JMzcOPDDphqR",
        "x-EpHcCOp1ci",
        "X_VqEhTip1ck",
        "8zGJKyg5p1ck",
        "PVzmfK_Ep1ck",
        "n3dbpmDWp1ck",
        "ylSl6qgtp1ck",
        "ZWILFDl5p1ck",
        "M7G43BXep1ck",
        "Ag9LCva-p1cl",
        "E6MkPsBcp1cl",
        "2cELzS2fp1cl",
        "3MPXvC8up1cl",
        "NC_X3p0fY2L0",
        "UV0SzAkaZNRQ",
        "YPEH6qLeZNRQ",
        "q29F0dvdveiT",
        "EXh0U9oCveiU",
        "22aHeOlLveiV",
        "g-ATYxFrGrvw",
        "Yfr_Vlr8HBkt",
        "8yEUt7NnHlrM",
        "tEA2Xm5dHt1r",
        "I79__PHVH19G",
        "Ou-I18pAyIpj",
        "fF3858GYyt-u",
        "4_0_7-oCpUZd",
        "hwyV_J3ipUZe",
        "3yB-zSqbpUZe",
        "dEUvejAfpUZe",
        "Fd15vwWVpUZf",
        "bn_IUdTipZyH",
        "49K5P_iCpZyH",
        "Nff-vKELpZyI",
        "kLW572S8pZyI",
        "dWbDXHzopZyI",
        "xiyOF9F70UgQ",
        "7wuGOrhz0itI",
        "id1riN9m0vUs",
        "578E2V7j08f6",
        "89xtkJwZ18nB",
        "67NQN5KX2AMe",
        "Iwf50b-R2tYG",
        "GMQiZwjn3iu7",
        "WVIkgGqN3qsr",
        "XkPnILGE3zoT",
        "Hlsf0x5436Go",
        "mT9DMSJo4nBL",
        "c49ITxTc407N",
        "OeJFEK0N496M",
        "9ExmJH0g5HBk",
        "cJNqERVU536h",
        "k5UmGsbsOxih",
        "T0VqWOYE6DLQ",
        "qBMux9mC6MCf",
        "-oLEiFgy-5Pf",
        "C74aWNz2AliB",
        "2DejudWSA-a0",
        "pEMng2IbBLp7",
        "rAdphbQ9Bhjc",
        "TNVZ9zx19K6k",
        "nqoHp30x9hH9",
        "rMDnDkt2B6du",
        "yiiVWRdJDDil",
        "1UUpS68QDMuG",
        "kexQrXU-DjzY",
        "T5CmagL3EC8N",
        "BhH2vgX9EjGr",
        "qjKvONjwE8ra",
        "P1XJ9OREExlT",
        "VFOzZv6IFROw",
        "TIqpNgepFxVj",
        "VfCC591jGiD4",
        "OB4l2ZhMeS1U",
        "ArJBuiUVfxKd",
        "4qY1EAkEfxKe",
        "PiV4Ypx8fxKe",
        "TfvqoZmBfxKf",
        "dJ2tPlVmpsJ0",
        "JWYfwnehpsJ1",
        "-jK_YjpMpsJ2",
        "HAih1iBOpsJ2",
        "zVGeBEFhpsJ2",
        "bmKjuQ-FpsJ3",
        "Fze-IPXLpx6K",
        "7AN1z2sKpx6M",
        "9PIHJqyupx6M",
        "_-qAgymDpx6N",
        "Z-hykwinpx6N",
        "h_CCil-SKHpo",
        "cBFFvTBNJzUa",
        "HvGl1hHyA_VK",
        "EyNgTHvd2WFk",
        "KH5McJBi2d8v",
        "iW_Lq9qf2h6X",
        "-Kee-DAl2viO",
        "gCX9965dhzqZ",
        "gIfDvo9L0UH2"
      ],
      "include_colab_link": true
    },
    "kernelspec": {
      "name": "python3",
      "display_name": "Python 3"
    },
    "language_info": {
      "name": "python"
    },
    "gpuClass": "standard"
  },
  "cells": [
    {
      "cell_type": "markdown",
      "metadata": {
        "id": "view-in-github",
        "colab_type": "text"
      },
      "source": [
        "<a href=\"https://colab.research.google.com/github/kd0176/Online-Retail-Customer-Segmentation/blob/main/Online_Retail_Customer_Segmentation.ipynb\" target=\"_parent\"><img src=\"https://colab.research.google.com/assets/colab-badge.svg\" alt=\"Open In Colab\"/></a>"
      ]
    },
    {
      "cell_type": "markdown",
      "source": [
        "# **Project Name    - Online Retail Customer Segmentation**\n",
        "\n"
      ],
      "metadata": {
        "id": "vncDsAP0Gaoa"
      }
    },
    {
      "cell_type": "markdown",
      "source": [
        "##### **Project Type**    - Unsupervised\n",
        "##### **Contribution**    - Individual\n",
        "##### **Individual Name -** Kuldeep Singh"
      ],
      "metadata": {
        "id": "beRrZCGUAJYm"
      }
    },
    {
      "cell_type": "markdown",
      "source": [
        "# **Project Summary -**"
      ],
      "metadata": {
        "id": "FJNUwmbgGyua"
      }
    },
    {
      "cell_type": "markdown",
      "source": [
        "This is a AlmaBetter's capstone project and the topic is Online Retail Customer Segmentation, which is a unsupervised machine learning task.\n",
        "\n",
        "Unsupervised machine learning (ML) is a type of ML that involves learning patterns and relationships in data without the use of explicit labels or supervision. In other words, the goal of unsupervised learning is to identify structure and patterns within data sets without any prior knowledge of what those patterns might be.\n",
        "\n",
        "The goal of this project is to identify major customer segments.\n",
        "\n",
        "Customer segmentation is the process of dividing a customer base into distinct groups based on their characteristics, behavior, or demographics. This allows businesses to create targeted marketing campaigns, personalize their messaging, and improve the customer experience.\n",
        "\n",
        "There are several ways to segment customers, including:\n",
        "\n",
        "1. Demographic segmentation: Dividing customers based on their age, gender, income, education, occupation, and other demographic factors.\n",
        "\n",
        "2. Geographic segmentation: Dividing customers based on their location, such as country, region, city, or postal code.\n",
        "\n",
        "3. Psychographic segmentation: Dividing customers based on their personality, values, beliefs, and lifestyle.\n",
        "\n",
        "4. Behavioral segmentation: Dividing customers based on their behavior, such as purchase history, frequency of purchases, brand loyalty, and product usage.\n",
        "\n",
        "By segmenting customers, businesses can better understand the needs and preferences of different groups, and tailor their marketing strategies to meet those needs. For example, a business may create different marketing campaigns for different age groups or geographic regions, or offer personalized product recommendations based on a customer's purchase history.\n",
        "\n",
        "Customer segmentation can be performed manually by analyzing customer data, or using machine learning algorithms to automatically segment customers based on patterns in their data. Regardless of the approach used, customer segmentation is a valuable tool for businesses to improve their marketing efforts and provide better customer experiences."
      ],
      "metadata": {
        "id": "F6v_1wHtG2nS"
      }
    },
    {
      "cell_type": "markdown",
      "source": [
        "# **GitHub Link -**"
      ],
      "metadata": {
        "id": "w6K7xa23Elo4"
      }
    },
    {
      "cell_type": "markdown",
      "source": [
        "https://github.com/kd0176/Online-Retail-Customer-Segmentation"
      ],
      "metadata": {
        "id": "h1o69JH3Eqqn"
      }
    },
    {
      "cell_type": "markdown",
      "source": [
        "# **Problem Statement**\n"
      ],
      "metadata": {
        "id": "yQaldy8SH6Dl"
      }
    },
    {
      "cell_type": "markdown",
      "source": [
        "In this project, your task is to identify major customer segments on a transnational data set which contains all the transactions occurring between 01/12/2010 and 09/12/2011 for a UK-based and registered non-store online retail.The company mainly sells unique all-occasion gifts. Many customers of the company are wholesalers."
      ],
      "metadata": {
        "id": "DpeJGUA3kjGy"
      }
    },
    {
      "cell_type": "markdown",
      "source": [
        "Dataset Description :\n",
        "\n",
        "![Unsupervised_ML_Online_Retail_Customer_Segmentation_985e582faa.png](data:image/png;base64,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)"
      ],
      "metadata": {
        "id": "Ow36eT_405hW"
      }
    },
    {
      "cell_type": "markdown",
      "source": [
        "# **General Guidelines** : -  "
      ],
      "metadata": {
        "id": "mDgbUHAGgjLW"
      }
    },
    {
      "cell_type": "markdown",
      "source": [
        "1.   Well-structured, formatted, and commented code is required. \n",
        "2.   Exception Handling, Production Grade Code & Deployment Ready Code will be a plus. Those students will be awarded some additional credits. \n",
        "     \n",
        "     The additional credits will have advantages over other students during Star Student selection.\n",
        "       \n",
        "             [ Note: - Deployment Ready Code is defined as, the whole .ipynb notebook should be executable in one go\n",
        "                       without a single error logged. ]\n",
        "\n",
        "3.   Each and every logic should have proper comments.\n",
        "4. You may add as many number of charts you want. Make Sure for each and every chart the following format should be answered.\n",
        "        \n",
        "\n",
        "```\n",
        "# Chart visualization code\n",
        "```\n",
        "            \n",
        "\n",
        "*   Why did you pick the specific chart?\n",
        "*   What is/are the insight(s) found from the chart?\n",
        "* Will the gained insights help creating a positive business impact? \n",
        "Are there any insights that lead to negative growth? Justify with specific reason.\n",
        "\n",
        "5. You have to create at least 15 logical & meaningful charts having important insights.\n",
        "\n",
        "\n",
        "[ Hints : - Do the Vizualization in  a structured way while following \"UBM\" Rule. \n",
        "\n",
        "U - Univariate Analysis,\n",
        "\n",
        "B - Bivariate Analysis (Numerical - Categorical, Numerical - Numerical, Categorical - Categorical)\n",
        "\n",
        "M - Multivariate Analysis\n",
        " ]\n",
        "\n",
        "\n",
        "\n",
        "\n",
        "\n",
        "6. You may add more ml algorithms for model creation. Make sure for each and every algorithm, the following format should be answered.\n",
        "\n",
        "\n",
        "*   Explain the ML Model used and it's performance using Evaluation metric Score Chart.\n",
        "\n",
        "\n",
        "*   Cross- Validation & Hyperparameter Tuning\n",
        "\n",
        "*   Have you seen any improvement? Note down the improvement with updates Evaluation metric Score Chart.\n",
        "\n",
        "*   Explain each evaluation metric's indication towards business and the business impact pf the ML model used.\n",
        "\n",
        "\n",
        "\n",
        "\n",
        "\n",
        "\n",
        "\n",
        "\n",
        "\n",
        "\n",
        "\n",
        "\n",
        "\n",
        "\n",
        "\n",
        "\n",
        "\n",
        "\n"
      ],
      "metadata": {
        "id": "ZrxVaUj-hHfC"
      }
    },
    {
      "cell_type": "markdown",
      "source": [
        "# ***Let's Begin !***"
      ],
      "metadata": {
        "id": "O_i_v8NEhb9l"
      }
    },
    {
      "cell_type": "markdown",
      "source": [
        "## ***1. Know Your Data***"
      ],
      "metadata": {
        "id": "HhfV-JJviCcP"
      }
    },
    {
      "cell_type": "markdown",
      "source": [
        "### Import Libraries"
      ],
      "metadata": {
        "id": "Y3lxredqlCYt"
      }
    },
    {
      "cell_type": "code",
      "source": [
        "# Import Libraries\n",
        "\n",
        "import numpy as np                              # for numerical computations\n",
        "import pandas as pd                             # for data manipulation and analysis\n",
        "\n",
        "import seaborn as sns                           # for data visualization\n",
        "import matplotlib.pyplot as plt\n",
        "\n",
        "import warnings\n",
        "warnings.filterwarnings('ignore')               # ignore warnings"
      ],
      "metadata": {
        "id": "M8Vqi-pPk-HR"
      },
      "execution_count": 1,
      "outputs": []
    },
    {
      "cell_type": "markdown",
      "source": [
        "### Dataset Loading"
      ],
      "metadata": {
        "id": "3RnN4peoiCZX"
      }
    },
    {
      "cell_type": "code",
      "source": [
        "# Load Dataset\n",
        "url='https://docs.google.com/spreadsheets/d/15QeOK8Cp1gn98UGoAtjYKOjpYn5tS8Q2/edit?usp=share_link&ouid=112152660510254781901&rtpof=true&sd=true'\n",
        "url='https://drive.google.com/uc?id=' + url.split('/')[-2]\n",
        "df = pd.read_excel(url)"
      ],
      "metadata": {
        "id": "4CkvbW_SlZ_R"
      },
      "execution_count": 2,
      "outputs": []
    },
    {
      "cell_type": "markdown",
      "source": [
        "### Dataset First View"
      ],
      "metadata": {
        "id": "x71ZqKXriCWQ"
      }
    },
    {
      "cell_type": "code",
      "source": [
        "# Dataset First Look\n",
        "df.head(10)"
      ],
      "metadata": {
        "id": "LWNFOSvLl09H",
        "colab": {
          "base_uri": "https://localhost:8080/",
          "height": 363
        },
        "outputId": "695c241a-305d-4076-80ab-9f79815058bf"
      },
      "execution_count": 3,
      "outputs": [
        {
          "output_type": "execute_result",
          "data": {
            "text/plain": [
              "  InvoiceNo StockCode                          Description  Quantity  \\\n",
              "0    536365    85123A   WHITE HANGING HEART T-LIGHT HOLDER         6   \n",
              "1    536365     71053                  WHITE METAL LANTERN         6   \n",
              "2    536365    84406B       CREAM CUPID HEARTS COAT HANGER         8   \n",
              "3    536365    84029G  KNITTED UNION FLAG HOT WATER BOTTLE         6   \n",
              "4    536365    84029E       RED WOOLLY HOTTIE WHITE HEART.         6   \n",
              "5    536365     22752         SET 7 BABUSHKA NESTING BOXES         2   \n",
              "6    536365     21730    GLASS STAR FROSTED T-LIGHT HOLDER         6   \n",
              "7    536366     22633               HAND WARMER UNION JACK         6   \n",
              "8    536366     22632            HAND WARMER RED POLKA DOT         6   \n",
              "9    536367     84879        ASSORTED COLOUR BIRD ORNAMENT        32   \n",
              "\n",
              "          InvoiceDate  UnitPrice  CustomerID         Country  \n",
              "0 2010-12-01 08:26:00       2.55     17850.0  United Kingdom  \n",
              "1 2010-12-01 08:26:00       3.39     17850.0  United Kingdom  \n",
              "2 2010-12-01 08:26:00       2.75     17850.0  United Kingdom  \n",
              "3 2010-12-01 08:26:00       3.39     17850.0  United Kingdom  \n",
              "4 2010-12-01 08:26:00       3.39     17850.0  United Kingdom  \n",
              "5 2010-12-01 08:26:00       7.65     17850.0  United Kingdom  \n",
              "6 2010-12-01 08:26:00       4.25     17850.0  United Kingdom  \n",
              "7 2010-12-01 08:28:00       1.85     17850.0  United Kingdom  \n",
              "8 2010-12-01 08:28:00       1.85     17850.0  United Kingdom  \n",
              "9 2010-12-01 08:34:00       1.69     13047.0  United Kingdom  "
            ],
            "text/html": [
              "\n",
              "  <div id=\"df-2767da27-878c-4238-87cc-9899dc890fe7\">\n",
              "    <div class=\"colab-df-container\">\n",
              "      <div>\n",
              "<style scoped>\n",
              "    .dataframe tbody tr th:only-of-type {\n",
              "        vertical-align: middle;\n",
              "    }\n",
              "\n",
              "    .dataframe tbody tr th {\n",
              "        vertical-align: top;\n",
              "    }\n",
              "\n",
              "    .dataframe thead th {\n",
              "        text-align: right;\n",
              "    }\n",
              "</style>\n",
              "<table border=\"1\" class=\"dataframe\">\n",
              "  <thead>\n",
              "    <tr style=\"text-align: right;\">\n",
              "      <th></th>\n",
              "      <th>InvoiceNo</th>\n",
              "      <th>StockCode</th>\n",
              "      <th>Description</th>\n",
              "      <th>Quantity</th>\n",
              "      <th>InvoiceDate</th>\n",
              "      <th>UnitPrice</th>\n",
              "      <th>CustomerID</th>\n",
              "      <th>Country</th>\n",
              "    </tr>\n",
              "  </thead>\n",
              "  <tbody>\n",
              "    <tr>\n",
              "      <th>0</th>\n",
              "      <td>536365</td>\n",
              "      <td>85123A</td>\n",
              "      <td>WHITE HANGING HEART T-LIGHT HOLDER</td>\n",
              "      <td>6</td>\n",
              "      <td>2010-12-01 08:26:00</td>\n",
              "      <td>2.55</td>\n",
              "      <td>17850.0</td>\n",
              "      <td>United Kingdom</td>\n",
              "    </tr>\n",
              "    <tr>\n",
              "      <th>1</th>\n",
              "      <td>536365</td>\n",
              "      <td>71053</td>\n",
              "      <td>WHITE METAL LANTERN</td>\n",
              "      <td>6</td>\n",
              "      <td>2010-12-01 08:26:00</td>\n",
              "      <td>3.39</td>\n",
              "      <td>17850.0</td>\n",
              "      <td>United Kingdom</td>\n",
              "    </tr>\n",
              "    <tr>\n",
              "      <th>2</th>\n",
              "      <td>536365</td>\n",
              "      <td>84406B</td>\n",
              "      <td>CREAM CUPID HEARTS COAT HANGER</td>\n",
              "      <td>8</td>\n",
              "      <td>2010-12-01 08:26:00</td>\n",
              "      <td>2.75</td>\n",
              "      <td>17850.0</td>\n",
              "      <td>United Kingdom</td>\n",
              "    </tr>\n",
              "    <tr>\n",
              "      <th>3</th>\n",
              "      <td>536365</td>\n",
              "      <td>84029G</td>\n",
              "      <td>KNITTED UNION FLAG HOT WATER BOTTLE</td>\n",
              "      <td>6</td>\n",
              "      <td>2010-12-01 08:26:00</td>\n",
              "      <td>3.39</td>\n",
              "      <td>17850.0</td>\n",
              "      <td>United Kingdom</td>\n",
              "    </tr>\n",
              "    <tr>\n",
              "      <th>4</th>\n",
              "      <td>536365</td>\n",
              "      <td>84029E</td>\n",
              "      <td>RED WOOLLY HOTTIE WHITE HEART.</td>\n",
              "      <td>6</td>\n",
              "      <td>2010-12-01 08:26:00</td>\n",
              "      <td>3.39</td>\n",
              "      <td>17850.0</td>\n",
              "      <td>United Kingdom</td>\n",
              "    </tr>\n",
              "    <tr>\n",
              "      <th>5</th>\n",
              "      <td>536365</td>\n",
              "      <td>22752</td>\n",
              "      <td>SET 7 BABUSHKA NESTING BOXES</td>\n",
              "      <td>2</td>\n",
              "      <td>2010-12-01 08:26:00</td>\n",
              "      <td>7.65</td>\n",
              "      <td>17850.0</td>\n",
              "      <td>United Kingdom</td>\n",
              "    </tr>\n",
              "    <tr>\n",
              "      <th>6</th>\n",
              "      <td>536365</td>\n",
              "      <td>21730</td>\n",
              "      <td>GLASS STAR FROSTED T-LIGHT HOLDER</td>\n",
              "      <td>6</td>\n",
              "      <td>2010-12-01 08:26:00</td>\n",
              "      <td>4.25</td>\n",
              "      <td>17850.0</td>\n",
              "      <td>United Kingdom</td>\n",
              "    </tr>\n",
              "    <tr>\n",
              "      <th>7</th>\n",
              "      <td>536366</td>\n",
              "      <td>22633</td>\n",
              "      <td>HAND WARMER UNION JACK</td>\n",
              "      <td>6</td>\n",
              "      <td>2010-12-01 08:28:00</td>\n",
              "      <td>1.85</td>\n",
              "      <td>17850.0</td>\n",
              "      <td>United Kingdom</td>\n",
              "    </tr>\n",
              "    <tr>\n",
              "      <th>8</th>\n",
              "      <td>536366</td>\n",
              "      <td>22632</td>\n",
              "      <td>HAND WARMER RED POLKA DOT</td>\n",
              "      <td>6</td>\n",
              "      <td>2010-12-01 08:28:00</td>\n",
              "      <td>1.85</td>\n",
              "      <td>17850.0</td>\n",
              "      <td>United Kingdom</td>\n",
              "    </tr>\n",
              "    <tr>\n",
              "      <th>9</th>\n",
              "      <td>536367</td>\n",
              "      <td>84879</td>\n",
              "      <td>ASSORTED COLOUR BIRD ORNAMENT</td>\n",
              "      <td>32</td>\n",
              "      <td>2010-12-01 08:34:00</td>\n",
              "      <td>1.69</td>\n",
              "      <td>13047.0</td>\n",
              "      <td>United Kingdom</td>\n",
              "    </tr>\n",
              "  </tbody>\n",
              "</table>\n",
              "</div>\n",
              "      <button class=\"colab-df-convert\" onclick=\"convertToInteractive('df-2767da27-878c-4238-87cc-9899dc890fe7')\"\n",
              "              title=\"Convert this dataframe to an interactive table.\"\n",
              "              style=\"display:none;\">\n",
              "        \n",
              "  <svg xmlns=\"http://www.w3.org/2000/svg\" height=\"24px\"viewBox=\"0 0 24 24\"\n",
              "       width=\"24px\">\n",
              "    <path d=\"M0 0h24v24H0V0z\" fill=\"none\"/>\n",
              "    <path d=\"M18.56 5.44l.94 2.06.94-2.06 2.06-.94-2.06-.94-.94-2.06-.94 2.06-2.06.94zm-11 1L8.5 8.5l.94-2.06 2.06-.94-2.06-.94L8.5 2.5l-.94 2.06-2.06.94zm10 10l.94 2.06.94-2.06 2.06-.94-2.06-.94-.94-2.06-.94 2.06-2.06.94z\"/><path d=\"M17.41 7.96l-1.37-1.37c-.4-.4-.92-.59-1.43-.59-.52 0-1.04.2-1.43.59L10.3 9.45l-7.72 7.72c-.78.78-.78 2.05 0 2.83L4 21.41c.39.39.9.59 1.41.59.51 0 1.02-.2 1.41-.59l7.78-7.78 2.81-2.81c.8-.78.8-2.07 0-2.86zM5.41 20L4 18.59l7.72-7.72 1.47 1.35L5.41 20z\"/>\n",
              "  </svg>\n",
              "      </button>\n",
              "      \n",
              "  <style>\n",
              "    .colab-df-container {\n",
              "      display:flex;\n",
              "      flex-wrap:wrap;\n",
              "      gap: 12px;\n",
              "    }\n",
              "\n",
              "    .colab-df-convert {\n",
              "      background-color: #E8F0FE;\n",
              "      border: none;\n",
              "      border-radius: 50%;\n",
              "      cursor: pointer;\n",
              "      display: none;\n",
              "      fill: #1967D2;\n",
              "      height: 32px;\n",
              "      padding: 0 0 0 0;\n",
              "      width: 32px;\n",
              "    }\n",
              "\n",
              "    .colab-df-convert:hover {\n",
              "      background-color: #E2EBFA;\n",
              "      box-shadow: 0px 1px 2px rgba(60, 64, 67, 0.3), 0px 1px 3px 1px rgba(60, 64, 67, 0.15);\n",
              "      fill: #174EA6;\n",
              "    }\n",
              "\n",
              "    [theme=dark] .colab-df-convert {\n",
              "      background-color: #3B4455;\n",
              "      fill: #D2E3FC;\n",
              "    }\n",
              "\n",
              "    [theme=dark] .colab-df-convert:hover {\n",
              "      background-color: #434B5C;\n",
              "      box-shadow: 0px 1px 3px 1px rgba(0, 0, 0, 0.15);\n",
              "      filter: drop-shadow(0px 1px 2px rgba(0, 0, 0, 0.3));\n",
              "      fill: #FFFFFF;\n",
              "    }\n",
              "  </style>\n",
              "\n",
              "      <script>\n",
              "        const buttonEl =\n",
              "          document.querySelector('#df-2767da27-878c-4238-87cc-9899dc890fe7 button.colab-df-convert');\n",
              "        buttonEl.style.display =\n",
              "          google.colab.kernel.accessAllowed ? 'block' : 'none';\n",
              "\n",
              "        async function convertToInteractive(key) {\n",
              "          const element = document.querySelector('#df-2767da27-878c-4238-87cc-9899dc890fe7');\n",
              "          const dataTable =\n",
              "            await google.colab.kernel.invokeFunction('convertToInteractive',\n",
              "                                                     [key], {});\n",
              "          if (!dataTable) return;\n",
              "\n",
              "          const docLinkHtml = 'Like what you see? Visit the ' +\n",
              "            '<a target=\"_blank\" href=https://colab.research.google.com/notebooks/data_table.ipynb>data table notebook</a>'\n",
              "            + ' to learn more about interactive tables.';\n",
              "          element.innerHTML = '';\n",
              "          dataTable['output_type'] = 'display_data';\n",
              "          await google.colab.output.renderOutput(dataTable, element);\n",
              "          const docLink = document.createElement('div');\n",
              "          docLink.innerHTML = docLinkHtml;\n",
              "          element.appendChild(docLink);\n",
              "        }\n",
              "      </script>\n",
              "    </div>\n",
              "  </div>\n",
              "  "
            ]
          },
          "metadata": {},
          "execution_count": 3
        }
      ]
    },
    {
      "cell_type": "code",
      "source": [
        "df.tail(10)"
      ],
      "metadata": {
        "colab": {
          "base_uri": "https://localhost:8080/",
          "height": 363
        },
        "id": "E7L4q732W6OO",
        "outputId": "b117efc2-0672-407c-fd05-e492e83aee01"
      },
      "execution_count": 4,
      "outputs": [
        {
          "output_type": "execute_result",
          "data": {
            "text/plain": [
              "       InvoiceNo StockCode                      Description  Quantity  \\\n",
              "541899    581587     22726       ALARM CLOCK BAKELIKE GREEN         4   \n",
              "541900    581587     22730       ALARM CLOCK BAKELIKE IVORY         4   \n",
              "541901    581587     22367  CHILDRENS APRON SPACEBOY DESIGN         8   \n",
              "541902    581587     22629              SPACEBOY LUNCH BOX         12   \n",
              "541903    581587     23256      CHILDRENS CUTLERY SPACEBOY          4   \n",
              "541904    581587     22613      PACK OF 20 SPACEBOY NAPKINS        12   \n",
              "541905    581587     22899     CHILDREN'S APRON DOLLY GIRL          6   \n",
              "541906    581587     23254    CHILDRENS CUTLERY DOLLY GIRL          4   \n",
              "541907    581587     23255  CHILDRENS CUTLERY CIRCUS PARADE         4   \n",
              "541908    581587     22138    BAKING SET 9 PIECE RETROSPOT          3   \n",
              "\n",
              "               InvoiceDate  UnitPrice  CustomerID Country  \n",
              "541899 2011-12-09 12:50:00       3.75     12680.0  France  \n",
              "541900 2011-12-09 12:50:00       3.75     12680.0  France  \n",
              "541901 2011-12-09 12:50:00       1.95     12680.0  France  \n",
              "541902 2011-12-09 12:50:00       1.95     12680.0  France  \n",
              "541903 2011-12-09 12:50:00       4.15     12680.0  France  \n",
              "541904 2011-12-09 12:50:00       0.85     12680.0  France  \n",
              "541905 2011-12-09 12:50:00       2.10     12680.0  France  \n",
              "541906 2011-12-09 12:50:00       4.15     12680.0  France  \n",
              "541907 2011-12-09 12:50:00       4.15     12680.0  France  \n",
              "541908 2011-12-09 12:50:00       4.95     12680.0  France  "
            ],
            "text/html": [
              "\n",
              "  <div id=\"df-1bd182ff-5e62-45ea-b8a0-5386d04c184d\">\n",
              "    <div class=\"colab-df-container\">\n",
              "      <div>\n",
              "<style scoped>\n",
              "    .dataframe tbody tr th:only-of-type {\n",
              "        vertical-align: middle;\n",
              "    }\n",
              "\n",
              "    .dataframe tbody tr th {\n",
              "        vertical-align: top;\n",
              "    }\n",
              "\n",
              "    .dataframe thead th {\n",
              "        text-align: right;\n",
              "    }\n",
              "</style>\n",
              "<table border=\"1\" class=\"dataframe\">\n",
              "  <thead>\n",
              "    <tr style=\"text-align: right;\">\n",
              "      <th></th>\n",
              "      <th>InvoiceNo</th>\n",
              "      <th>StockCode</th>\n",
              "      <th>Description</th>\n",
              "      <th>Quantity</th>\n",
              "      <th>InvoiceDate</th>\n",
              "      <th>UnitPrice</th>\n",
              "      <th>CustomerID</th>\n",
              "      <th>Country</th>\n",
              "    </tr>\n",
              "  </thead>\n",
              "  <tbody>\n",
              "    <tr>\n",
              "      <th>541899</th>\n",
              "      <td>581587</td>\n",
              "      <td>22726</td>\n",
              "      <td>ALARM CLOCK BAKELIKE GREEN</td>\n",
              "      <td>4</td>\n",
              "      <td>2011-12-09 12:50:00</td>\n",
              "      <td>3.75</td>\n",
              "      <td>12680.0</td>\n",
              "      <td>France</td>\n",
              "    </tr>\n",
              "    <tr>\n",
              "      <th>541900</th>\n",
              "      <td>581587</td>\n",
              "      <td>22730</td>\n",
              "      <td>ALARM CLOCK BAKELIKE IVORY</td>\n",
              "      <td>4</td>\n",
              "      <td>2011-12-09 12:50:00</td>\n",
              "      <td>3.75</td>\n",
              "      <td>12680.0</td>\n",
              "      <td>France</td>\n",
              "    </tr>\n",
              "    <tr>\n",
              "      <th>541901</th>\n",
              "      <td>581587</td>\n",
              "      <td>22367</td>\n",
              "      <td>CHILDRENS APRON SPACEBOY DESIGN</td>\n",
              "      <td>8</td>\n",
              "      <td>2011-12-09 12:50:00</td>\n",
              "      <td>1.95</td>\n",
              "      <td>12680.0</td>\n",
              "      <td>France</td>\n",
              "    </tr>\n",
              "    <tr>\n",
              "      <th>541902</th>\n",
              "      <td>581587</td>\n",
              "      <td>22629</td>\n",
              "      <td>SPACEBOY LUNCH BOX</td>\n",
              "      <td>12</td>\n",
              "      <td>2011-12-09 12:50:00</td>\n",
              "      <td>1.95</td>\n",
              "      <td>12680.0</td>\n",
              "      <td>France</td>\n",
              "    </tr>\n",
              "    <tr>\n",
              "      <th>541903</th>\n",
              "      <td>581587</td>\n",
              "      <td>23256</td>\n",
              "      <td>CHILDRENS CUTLERY SPACEBOY</td>\n",
              "      <td>4</td>\n",
              "      <td>2011-12-09 12:50:00</td>\n",
              "      <td>4.15</td>\n",
              "      <td>12680.0</td>\n",
              "      <td>France</td>\n",
              "    </tr>\n",
              "    <tr>\n",
              "      <th>541904</th>\n",
              "      <td>581587</td>\n",
              "      <td>22613</td>\n",
              "      <td>PACK OF 20 SPACEBOY NAPKINS</td>\n",
              "      <td>12</td>\n",
              "      <td>2011-12-09 12:50:00</td>\n",
              "      <td>0.85</td>\n",
              "      <td>12680.0</td>\n",
              "      <td>France</td>\n",
              "    </tr>\n",
              "    <tr>\n",
              "      <th>541905</th>\n",
              "      <td>581587</td>\n",
              "      <td>22899</td>\n",
              "      <td>CHILDREN'S APRON DOLLY GIRL</td>\n",
              "      <td>6</td>\n",
              "      <td>2011-12-09 12:50:00</td>\n",
              "      <td>2.10</td>\n",
              "      <td>12680.0</td>\n",
              "      <td>France</td>\n",
              "    </tr>\n",
              "    <tr>\n",
              "      <th>541906</th>\n",
              "      <td>581587</td>\n",
              "      <td>23254</td>\n",
              "      <td>CHILDRENS CUTLERY DOLLY GIRL</td>\n",
              "      <td>4</td>\n",
              "      <td>2011-12-09 12:50:00</td>\n",
              "      <td>4.15</td>\n",
              "      <td>12680.0</td>\n",
              "      <td>France</td>\n",
              "    </tr>\n",
              "    <tr>\n",
              "      <th>541907</th>\n",
              "      <td>581587</td>\n",
              "      <td>23255</td>\n",
              "      <td>CHILDRENS CUTLERY CIRCUS PARADE</td>\n",
              "      <td>4</td>\n",
              "      <td>2011-12-09 12:50:00</td>\n",
              "      <td>4.15</td>\n",
              "      <td>12680.0</td>\n",
              "      <td>France</td>\n",
              "    </tr>\n",
              "    <tr>\n",
              "      <th>541908</th>\n",
              "      <td>581587</td>\n",
              "      <td>22138</td>\n",
              "      <td>BAKING SET 9 PIECE RETROSPOT</td>\n",
              "      <td>3</td>\n",
              "      <td>2011-12-09 12:50:00</td>\n",
              "      <td>4.95</td>\n",
              "      <td>12680.0</td>\n",
              "      <td>France</td>\n",
              "    </tr>\n",
              "  </tbody>\n",
              "</table>\n",
              "</div>\n",
              "      <button class=\"colab-df-convert\" onclick=\"convertToInteractive('df-1bd182ff-5e62-45ea-b8a0-5386d04c184d')\"\n",
              "              title=\"Convert this dataframe to an interactive table.\"\n",
              "              style=\"display:none;\">\n",
              "        \n",
              "  <svg xmlns=\"http://www.w3.org/2000/svg\" height=\"24px\"viewBox=\"0 0 24 24\"\n",
              "       width=\"24px\">\n",
              "    <path d=\"M0 0h24v24H0V0z\" fill=\"none\"/>\n",
              "    <path d=\"M18.56 5.44l.94 2.06.94-2.06 2.06-.94-2.06-.94-.94-2.06-.94 2.06-2.06.94zm-11 1L8.5 8.5l.94-2.06 2.06-.94-2.06-.94L8.5 2.5l-.94 2.06-2.06.94zm10 10l.94 2.06.94-2.06 2.06-.94-2.06-.94-.94-2.06-.94 2.06-2.06.94z\"/><path d=\"M17.41 7.96l-1.37-1.37c-.4-.4-.92-.59-1.43-.59-.52 0-1.04.2-1.43.59L10.3 9.45l-7.72 7.72c-.78.78-.78 2.05 0 2.83L4 21.41c.39.39.9.59 1.41.59.51 0 1.02-.2 1.41-.59l7.78-7.78 2.81-2.81c.8-.78.8-2.07 0-2.86zM5.41 20L4 18.59l7.72-7.72 1.47 1.35L5.41 20z\"/>\n",
              "  </svg>\n",
              "      </button>\n",
              "      \n",
              "  <style>\n",
              "    .colab-df-container {\n",
              "      display:flex;\n",
              "      flex-wrap:wrap;\n",
              "      gap: 12px;\n",
              "    }\n",
              "\n",
              "    .colab-df-convert {\n",
              "      background-color: #E8F0FE;\n",
              "      border: none;\n",
              "      border-radius: 50%;\n",
              "      cursor: pointer;\n",
              "      display: none;\n",
              "      fill: #1967D2;\n",
              "      height: 32px;\n",
              "      padding: 0 0 0 0;\n",
              "      width: 32px;\n",
              "    }\n",
              "\n",
              "    .colab-df-convert:hover {\n",
              "      background-color: #E2EBFA;\n",
              "      box-shadow: 0px 1px 2px rgba(60, 64, 67, 0.3), 0px 1px 3px 1px rgba(60, 64, 67, 0.15);\n",
              "      fill: #174EA6;\n",
              "    }\n",
              "\n",
              "    [theme=dark] .colab-df-convert {\n",
              "      background-color: #3B4455;\n",
              "      fill: #D2E3FC;\n",
              "    }\n",
              "\n",
              "    [theme=dark] .colab-df-convert:hover {\n",
              "      background-color: #434B5C;\n",
              "      box-shadow: 0px 1px 3px 1px rgba(0, 0, 0, 0.15);\n",
              "      filter: drop-shadow(0px 1px 2px rgba(0, 0, 0, 0.3));\n",
              "      fill: #FFFFFF;\n",
              "    }\n",
              "  </style>\n",
              "\n",
              "      <script>\n",
              "        const buttonEl =\n",
              "          document.querySelector('#df-1bd182ff-5e62-45ea-b8a0-5386d04c184d button.colab-df-convert');\n",
              "        buttonEl.style.display =\n",
              "          google.colab.kernel.accessAllowed ? 'block' : 'none';\n",
              "\n",
              "        async function convertToInteractive(key) {\n",
              "          const element = document.querySelector('#df-1bd182ff-5e62-45ea-b8a0-5386d04c184d');\n",
              "          const dataTable =\n",
              "            await google.colab.kernel.invokeFunction('convertToInteractive',\n",
              "                                                     [key], {});\n",
              "          if (!dataTable) return;\n",
              "\n",
              "          const docLinkHtml = 'Like what you see? Visit the ' +\n",
              "            '<a target=\"_blank\" href=https://colab.research.google.com/notebooks/data_table.ipynb>data table notebook</a>'\n",
              "            + ' to learn more about interactive tables.';\n",
              "          element.innerHTML = '';\n",
              "          dataTable['output_type'] = 'display_data';\n",
              "          await google.colab.output.renderOutput(dataTable, element);\n",
              "          const docLink = document.createElement('div');\n",
              "          docLink.innerHTML = docLinkHtml;\n",
              "          element.appendChild(docLink);\n",
              "        }\n",
              "      </script>\n",
              "    </div>\n",
              "  </div>\n",
              "  "
            ]
          },
          "metadata": {},
          "execution_count": 4
        }
      ]
    },
    {
      "cell_type": "markdown",
      "source": [
        "### Dataset Rows & Columns count"
      ],
      "metadata": {
        "id": "7hBIi_osiCS2"
      }
    },
    {
      "cell_type": "code",
      "source": [
        "# Dataset Rows & Columns count\n",
        "df.shape"
      ],
      "metadata": {
        "id": "Kllu7SJgmLij",
        "colab": {
          "base_uri": "https://localhost:8080/"
        },
        "outputId": "1a477f65-15e2-4e17-df93-ff62c57e42e6"
      },
      "execution_count": 5,
      "outputs": [
        {
          "output_type": "execute_result",
          "data": {
            "text/plain": [
              "(541909, 8)"
            ]
          },
          "metadata": {},
          "execution_count": 5
        }
      ]
    },
    {
      "cell_type": "markdown",
      "source": [
        "### Dataset Information"
      ],
      "metadata": {
        "id": "JlHwYmJAmNHm"
      }
    },
    {
      "cell_type": "code",
      "source": [
        "# Dataset Info\n",
        "df.info()"
      ],
      "metadata": {
        "id": "e9hRXRi6meOf",
        "colab": {
          "base_uri": "https://localhost:8080/"
        },
        "outputId": "7e78305b-85f9-489d-ad32-e87f6e57ebba"
      },
      "execution_count": 6,
      "outputs": [
        {
          "output_type": "stream",
          "name": "stdout",
          "text": [
            "<class 'pandas.core.frame.DataFrame'>\n",
            "RangeIndex: 541909 entries, 0 to 541908\n",
            "Data columns (total 8 columns):\n",
            " #   Column       Non-Null Count   Dtype         \n",
            "---  ------       --------------   -----         \n",
            " 0   InvoiceNo    541909 non-null  object        \n",
            " 1   StockCode    541909 non-null  object        \n",
            " 2   Description  540455 non-null  object        \n",
            " 3   Quantity     541909 non-null  int64         \n",
            " 4   InvoiceDate  541909 non-null  datetime64[ns]\n",
            " 5   UnitPrice    541909 non-null  float64       \n",
            " 6   CustomerID   406829 non-null  float64       \n",
            " 7   Country      541909 non-null  object        \n",
            "dtypes: datetime64[ns](1), float64(2), int64(1), object(4)\n",
            "memory usage: 33.1+ MB\n"
          ]
        }
      ]
    },
    {
      "cell_type": "markdown",
      "source": [
        "#### Duplicate Values"
      ],
      "metadata": {
        "id": "35m5QtbWiB9F"
      }
    },
    {
      "cell_type": "code",
      "source": [
        "# Dataset Duplicate Value Count\n",
        "df[df.duplicated()]"
      ],
      "metadata": {
        "id": "1sLdpKYkmox0",
        "colab": {
          "base_uri": "https://localhost:8080/",
          "height": 424
        },
        "outputId": "0789dfa1-6cee-45d4-d30d-bfa16aa56954"
      },
      "execution_count": 7,
      "outputs": [
        {
          "output_type": "execute_result",
          "data": {
            "text/plain": [
              "       InvoiceNo StockCode                        Description  Quantity  \\\n",
              "517       536409     21866        UNION JACK FLAG LUGGAGE TAG         1   \n",
              "527       536409     22866      HAND WARMER SCOTTY DOG DESIGN         1   \n",
              "537       536409     22900    SET 2 TEA TOWELS I LOVE LONDON          1   \n",
              "539       536409     22111       SCOTTIE DOG HOT WATER BOTTLE         1   \n",
              "555       536412     22327  ROUND SNACK BOXES SET OF 4 SKULLS         1   \n",
              "...          ...       ...                                ...       ...   \n",
              "541675    581538     22068        BLACK PIRATE TREASURE CHEST         1   \n",
              "541689    581538     23318     BOX OF 6 MINI VINTAGE CRACKERS         1   \n",
              "541692    581538     22992             REVOLVER WOODEN RULER          1   \n",
              "541699    581538     22694                       WICKER STAR          1   \n",
              "541701    581538     23343       JUMBO BAG VINTAGE CHRISTMAS          1   \n",
              "\n",
              "               InvoiceDate  UnitPrice  CustomerID         Country  \n",
              "517    2010-12-01 11:45:00       1.25     17908.0  United Kingdom  \n",
              "527    2010-12-01 11:45:00       2.10     17908.0  United Kingdom  \n",
              "537    2010-12-01 11:45:00       2.95     17908.0  United Kingdom  \n",
              "539    2010-12-01 11:45:00       4.95     17908.0  United Kingdom  \n",
              "555    2010-12-01 11:49:00       2.95     17920.0  United Kingdom  \n",
              "...                    ...        ...         ...             ...  \n",
              "541675 2011-12-09 11:34:00       0.39     14446.0  United Kingdom  \n",
              "541689 2011-12-09 11:34:00       2.49     14446.0  United Kingdom  \n",
              "541692 2011-12-09 11:34:00       1.95     14446.0  United Kingdom  \n",
              "541699 2011-12-09 11:34:00       2.10     14446.0  United Kingdom  \n",
              "541701 2011-12-09 11:34:00       2.08     14446.0  United Kingdom  \n",
              "\n",
              "[5268 rows x 8 columns]"
            ],
            "text/html": [
              "\n",
              "  <div id=\"df-7a1b7ef1-9919-454c-b97b-259c71e05949\">\n",
              "    <div class=\"colab-df-container\">\n",
              "      <div>\n",
              "<style scoped>\n",
              "    .dataframe tbody tr th:only-of-type {\n",
              "        vertical-align: middle;\n",
              "    }\n",
              "\n",
              "    .dataframe tbody tr th {\n",
              "        vertical-align: top;\n",
              "    }\n",
              "\n",
              "    .dataframe thead th {\n",
              "        text-align: right;\n",
              "    }\n",
              "</style>\n",
              "<table border=\"1\" class=\"dataframe\">\n",
              "  <thead>\n",
              "    <tr style=\"text-align: right;\">\n",
              "      <th></th>\n",
              "      <th>InvoiceNo</th>\n",
              "      <th>StockCode</th>\n",
              "      <th>Description</th>\n",
              "      <th>Quantity</th>\n",
              "      <th>InvoiceDate</th>\n",
              "      <th>UnitPrice</th>\n",
              "      <th>CustomerID</th>\n",
              "      <th>Country</th>\n",
              "    </tr>\n",
              "  </thead>\n",
              "  <tbody>\n",
              "    <tr>\n",
              "      <th>517</th>\n",
              "      <td>536409</td>\n",
              "      <td>21866</td>\n",
              "      <td>UNION JACK FLAG LUGGAGE TAG</td>\n",
              "      <td>1</td>\n",
              "      <td>2010-12-01 11:45:00</td>\n",
              "      <td>1.25</td>\n",
              "      <td>17908.0</td>\n",
              "      <td>United Kingdom</td>\n",
              "    </tr>\n",
              "    <tr>\n",
              "      <th>527</th>\n",
              "      <td>536409</td>\n",
              "      <td>22866</td>\n",
              "      <td>HAND WARMER SCOTTY DOG DESIGN</td>\n",
              "      <td>1</td>\n",
              "      <td>2010-12-01 11:45:00</td>\n",
              "      <td>2.10</td>\n",
              "      <td>17908.0</td>\n",
              "      <td>United Kingdom</td>\n",
              "    </tr>\n",
              "    <tr>\n",
              "      <th>537</th>\n",
              "      <td>536409</td>\n",
              "      <td>22900</td>\n",
              "      <td>SET 2 TEA TOWELS I LOVE LONDON</td>\n",
              "      <td>1</td>\n",
              "      <td>2010-12-01 11:45:00</td>\n",
              "      <td>2.95</td>\n",
              "      <td>17908.0</td>\n",
              "      <td>United Kingdom</td>\n",
              "    </tr>\n",
              "    <tr>\n",
              "      <th>539</th>\n",
              "      <td>536409</td>\n",
              "      <td>22111</td>\n",
              "      <td>SCOTTIE DOG HOT WATER BOTTLE</td>\n",
              "      <td>1</td>\n",
              "      <td>2010-12-01 11:45:00</td>\n",
              "      <td>4.95</td>\n",
              "      <td>17908.0</td>\n",
              "      <td>United Kingdom</td>\n",
              "    </tr>\n",
              "    <tr>\n",
              "      <th>555</th>\n",
              "      <td>536412</td>\n",
              "      <td>22327</td>\n",
              "      <td>ROUND SNACK BOXES SET OF 4 SKULLS</td>\n",
              "      <td>1</td>\n",
              "      <td>2010-12-01 11:49:00</td>\n",
              "      <td>2.95</td>\n",
              "      <td>17920.0</td>\n",
              "      <td>United Kingdom</td>\n",
              "    </tr>\n",
              "    <tr>\n",
              "      <th>...</th>\n",
              "      <td>...</td>\n",
              "      <td>...</td>\n",
              "      <td>...</td>\n",
              "      <td>...</td>\n",
              "      <td>...</td>\n",
              "      <td>...</td>\n",
              "      <td>...</td>\n",
              "      <td>...</td>\n",
              "    </tr>\n",
              "    <tr>\n",
              "      <th>541675</th>\n",
              "      <td>581538</td>\n",
              "      <td>22068</td>\n",
              "      <td>BLACK PIRATE TREASURE CHEST</td>\n",
              "      <td>1</td>\n",
              "      <td>2011-12-09 11:34:00</td>\n",
              "      <td>0.39</td>\n",
              "      <td>14446.0</td>\n",
              "      <td>United Kingdom</td>\n",
              "    </tr>\n",
              "    <tr>\n",
              "      <th>541689</th>\n",
              "      <td>581538</td>\n",
              "      <td>23318</td>\n",
              "      <td>BOX OF 6 MINI VINTAGE CRACKERS</td>\n",
              "      <td>1</td>\n",
              "      <td>2011-12-09 11:34:00</td>\n",
              "      <td>2.49</td>\n",
              "      <td>14446.0</td>\n",
              "      <td>United Kingdom</td>\n",
              "    </tr>\n",
              "    <tr>\n",
              "      <th>541692</th>\n",
              "      <td>581538</td>\n",
              "      <td>22992</td>\n",
              "      <td>REVOLVER WOODEN RULER</td>\n",
              "      <td>1</td>\n",
              "      <td>2011-12-09 11:34:00</td>\n",
              "      <td>1.95</td>\n",
              "      <td>14446.0</td>\n",
              "      <td>United Kingdom</td>\n",
              "    </tr>\n",
              "    <tr>\n",
              "      <th>541699</th>\n",
              "      <td>581538</td>\n",
              "      <td>22694</td>\n",
              "      <td>WICKER STAR</td>\n",
              "      <td>1</td>\n",
              "      <td>2011-12-09 11:34:00</td>\n",
              "      <td>2.10</td>\n",
              "      <td>14446.0</td>\n",
              "      <td>United Kingdom</td>\n",
              "    </tr>\n",
              "    <tr>\n",
              "      <th>541701</th>\n",
              "      <td>581538</td>\n",
              "      <td>23343</td>\n",
              "      <td>JUMBO BAG VINTAGE CHRISTMAS</td>\n",
              "      <td>1</td>\n",
              "      <td>2011-12-09 11:34:00</td>\n",
              "      <td>2.08</td>\n",
              "      <td>14446.0</td>\n",
              "      <td>United Kingdom</td>\n",
              "    </tr>\n",
              "  </tbody>\n",
              "</table>\n",
              "<p>5268 rows × 8 columns</p>\n",
              "</div>\n",
              "      <button class=\"colab-df-convert\" onclick=\"convertToInteractive('df-7a1b7ef1-9919-454c-b97b-259c71e05949')\"\n",
              "              title=\"Convert this dataframe to an interactive table.\"\n",
              "              style=\"display:none;\">\n",
              "        \n",
              "  <svg xmlns=\"http://www.w3.org/2000/svg\" height=\"24px\"viewBox=\"0 0 24 24\"\n",
              "       width=\"24px\">\n",
              "    <path d=\"M0 0h24v24H0V0z\" fill=\"none\"/>\n",
              "    <path d=\"M18.56 5.44l.94 2.06.94-2.06 2.06-.94-2.06-.94-.94-2.06-.94 2.06-2.06.94zm-11 1L8.5 8.5l.94-2.06 2.06-.94-2.06-.94L8.5 2.5l-.94 2.06-2.06.94zm10 10l.94 2.06.94-2.06 2.06-.94-2.06-.94-.94-2.06-.94 2.06-2.06.94z\"/><path d=\"M17.41 7.96l-1.37-1.37c-.4-.4-.92-.59-1.43-.59-.52 0-1.04.2-1.43.59L10.3 9.45l-7.72 7.72c-.78.78-.78 2.05 0 2.83L4 21.41c.39.39.9.59 1.41.59.51 0 1.02-.2 1.41-.59l7.78-7.78 2.81-2.81c.8-.78.8-2.07 0-2.86zM5.41 20L4 18.59l7.72-7.72 1.47 1.35L5.41 20z\"/>\n",
              "  </svg>\n",
              "      </button>\n",
              "      \n",
              "  <style>\n",
              "    .colab-df-container {\n",
              "      display:flex;\n",
              "      flex-wrap:wrap;\n",
              "      gap: 12px;\n",
              "    }\n",
              "\n",
              "    .colab-df-convert {\n",
              "      background-color: #E8F0FE;\n",
              "      border: none;\n",
              "      border-radius: 50%;\n",
              "      cursor: pointer;\n",
              "      display: none;\n",
              "      fill: #1967D2;\n",
              "      height: 32px;\n",
              "      padding: 0 0 0 0;\n",
              "      width: 32px;\n",
              "    }\n",
              "\n",
              "    .colab-df-convert:hover {\n",
              "      background-color: #E2EBFA;\n",
              "      box-shadow: 0px 1px 2px rgba(60, 64, 67, 0.3), 0px 1px 3px 1px rgba(60, 64, 67, 0.15);\n",
              "      fill: #174EA6;\n",
              "    }\n",
              "\n",
              "    [theme=dark] .colab-df-convert {\n",
              "      background-color: #3B4455;\n",
              "      fill: #D2E3FC;\n",
              "    }\n",
              "\n",
              "    [theme=dark] .colab-df-convert:hover {\n",
              "      background-color: #434B5C;\n",
              "      box-shadow: 0px 1px 3px 1px rgba(0, 0, 0, 0.15);\n",
              "      filter: drop-shadow(0px 1px 2px rgba(0, 0, 0, 0.3));\n",
              "      fill: #FFFFFF;\n",
              "    }\n",
              "  </style>\n",
              "\n",
              "      <script>\n",
              "        const buttonEl =\n",
              "          document.querySelector('#df-7a1b7ef1-9919-454c-b97b-259c71e05949 button.colab-df-convert');\n",
              "        buttonEl.style.display =\n",
              "          google.colab.kernel.accessAllowed ? 'block' : 'none';\n",
              "\n",
              "        async function convertToInteractive(key) {\n",
              "          const element = document.querySelector('#df-7a1b7ef1-9919-454c-b97b-259c71e05949');\n",
              "          const dataTable =\n",
              "            await google.colab.kernel.invokeFunction('convertToInteractive',\n",
              "                                                     [key], {});\n",
              "          if (!dataTable) return;\n",
              "\n",
              "          const docLinkHtml = 'Like what you see? Visit the ' +\n",
              "            '<a target=\"_blank\" href=https://colab.research.google.com/notebooks/data_table.ipynb>data table notebook</a>'\n",
              "            + ' to learn more about interactive tables.';\n",
              "          element.innerHTML = '';\n",
              "          dataTable['output_type'] = 'display_data';\n",
              "          await google.colab.output.renderOutput(dataTable, element);\n",
              "          const docLink = document.createElement('div');\n",
              "          docLink.innerHTML = docLinkHtml;\n",
              "          element.appendChild(docLink);\n",
              "        }\n",
              "      </script>\n",
              "    </div>\n",
              "  </div>\n",
              "  "
            ]
          },
          "metadata": {},
          "execution_count": 7
        }
      ]
    },
    {
      "cell_type": "markdown",
      "source": [
        "#### Missing Values/Null Values"
      ],
      "metadata": {
        "id": "PoPl-ycgm1ru"
      }
    },
    {
      "cell_type": "code",
      "source": [
        "# Missing Values/Null Values Count\n",
        "df.isnull().sum()"
      ],
      "metadata": {
        "id": "GgHWkxvamxVg",
        "colab": {
          "base_uri": "https://localhost:8080/"
        },
        "outputId": "4445b639-83c5-4aee-84e9-2d3cdc64afea"
      },
      "execution_count": 8,
      "outputs": [
        {
          "output_type": "execute_result",
          "data": {
            "text/plain": [
              "InvoiceNo           0\n",
              "StockCode           0\n",
              "Description      1454\n",
              "Quantity            0\n",
              "InvoiceDate         0\n",
              "UnitPrice           0\n",
              "CustomerID     135080\n",
              "Country             0\n",
              "dtype: int64"
            ]
          },
          "metadata": {},
          "execution_count": 8
        }
      ]
    },
    {
      "cell_type": "code",
      "source": [
        "# Missing Values/Null Values percentage\n",
        "df.isnull().sum()/df.shape[0]*100"
      ],
      "metadata": {
        "colab": {
          "base_uri": "https://localhost:8080/"
        },
        "id": "FqvsMc3yX4GO",
        "outputId": "54eac37d-3b11-4d17-9e8c-226faab6c53e"
      },
      "execution_count": 9,
      "outputs": [
        {
          "output_type": "execute_result",
          "data": {
            "text/plain": [
              "InvoiceNo       0.000000\n",
              "StockCode       0.000000\n",
              "Description     0.268311\n",
              "Quantity        0.000000\n",
              "InvoiceDate     0.000000\n",
              "UnitPrice       0.000000\n",
              "CustomerID     24.926694\n",
              "Country         0.000000\n",
              "dtype: float64"
            ]
          },
          "metadata": {},
          "execution_count": 9
        }
      ]
    },
    {
      "cell_type": "code",
      "source": [
        "# Visualizing the missing values\n",
        "plt.figure(figsize = (8,6))\n",
        "sns.heatmap(df.isnull(), cbar=True, annot=False, yticklabels=False)\n",
        "plt.title('Visualizing the missing values', fontsize = 15)"
      ],
      "metadata": {
        "id": "3q5wnI3om9sJ",
        "colab": {
          "base_uri": "https://localhost:8080/",
          "height": 632
        },
        "outputId": "a306a665-7d4f-409f-8ec1-b427bbb3dde6"
      },
      "execution_count": 10,
      "outputs": [
        {
          "output_type": "execute_result",
          "data": {
            "text/plain": [
              "Text(0.5, 1.0, 'Visualizing the missing values')"
            ]
          },
          "metadata": {},
          "execution_count": 10
        },
        {
          "output_type": "display_data",
          "data": {
            "text/plain": [
              "<Figure size 800x600 with 2 Axes>"
            ],
            "image/png": "[encoded data removed]"
          },
          "metadata": {}
        }
      ]
    },
    {
      "cell_type": "markdown",
      "source": [
        "### What did you know about your dataset?"
      ],
      "metadata": {
        "id": "H0kj-8xxnORC"
      }
    },
    {
      "cell_type": "markdown",
      "source": [
        "* Given dataset has 541909 rows and 8 columns.\n",
        "* It has 5268 duplicated rows.\n",
        "* CustomerID column contains approx 25% of missing values.\n",
        "* Description column also contains some null values about of 0.26%."
      ],
      "metadata": {
        "id": "gfoNAAC-nUe_"
      }
    },
    {
      "cell_type": "markdown",
      "source": [
        "## ***2. Understanding Your Variables***"
      ],
      "metadata": {
        "id": "nA9Y7ga8ng1Z"
      }
    },
    {
      "cell_type": "code",
      "source": [
        "# Dataset Columns\n",
        "df.columns"
      ],
      "metadata": {
        "id": "j7xfkqrt5Ag5",
        "colab": {
          "base_uri": "https://localhost:8080/"
        },
        "outputId": "fc661c3b-f9ea-489f-b249-5ba45a1d20c1"
      },
      "execution_count": 11,
      "outputs": [
        {
          "output_type": "execute_result",
          "data": {
            "text/plain": [
              "Index(['InvoiceNo', 'StockCode', 'Description', 'Quantity', 'InvoiceDate',\n",
              "       'UnitPrice', 'CustomerID', 'Country'],\n",
              "      dtype='object')"
            ]
          },
          "metadata": {},
          "execution_count": 11
        }
      ]
    },
    {
      "cell_type": "code",
      "source": [
        "# Dataset Describe\n",
        "df.describe(include = 'all')"
      ],
      "metadata": {
        "id": "DnOaZdaE5Q5t",
        "colab": {
          "base_uri": "https://localhost:8080/",
          "height": 457
        },
        "outputId": "154b6672-17de-4e98-a7d2-0229b755e6a5"
      },
      "execution_count": 12,
      "outputs": [
        {
          "output_type": "execute_result",
          "data": {
            "text/plain": [
              "        InvoiceNo StockCode                         Description  \\\n",
              "count    541909.0    541909                              540455   \n",
              "unique    25900.0      4070                                4223   \n",
              "top      573585.0    85123A  WHITE HANGING HEART T-LIGHT HOLDER   \n",
              "freq       1114.0      2313                                2369   \n",
              "first         NaN       NaN                                 NaN   \n",
              "last          NaN       NaN                                 NaN   \n",
              "mean          NaN       NaN                                 NaN   \n",
              "std           NaN       NaN                                 NaN   \n",
              "min           NaN       NaN                                 NaN   \n",
              "25%           NaN       NaN                                 NaN   \n",
              "50%           NaN       NaN                                 NaN   \n",
              "75%           NaN       NaN                                 NaN   \n",
              "max           NaN       NaN                                 NaN   \n",
              "\n",
              "             Quantity          InvoiceDate      UnitPrice     CustomerID  \\\n",
              "count   541909.000000               541909  541909.000000  406829.000000   \n",
              "unique            NaN                23260            NaN            NaN   \n",
              "top               NaN  2011-10-31 14:41:00            NaN            NaN   \n",
              "freq              NaN                 1114            NaN            NaN   \n",
              "first             NaN  2010-12-01 08:26:00            NaN            NaN   \n",
              "last              NaN  2011-12-09 12:50:00            NaN            NaN   \n",
              "mean         9.552250                  NaN       4.611114   15287.690570   \n",
              "std        218.081158                  NaN      96.759853    1713.600303   \n",
              "min     -80995.000000                  NaN  -11062.060000   12346.000000   \n",
              "25%          1.000000                  NaN       1.250000   13953.000000   \n",
              "50%          3.000000                  NaN       2.080000   15152.000000   \n",
              "75%         10.000000                  NaN       4.130000   16791.000000   \n",
              "max      80995.000000                  NaN   38970.000000   18287.000000   \n",
              "\n",
              "               Country  \n",
              "count           541909  \n",
              "unique              38  \n",
              "top     United Kingdom  \n",
              "freq            495478  \n",
              "first              NaN  \n",
              "last               NaN  \n",
              "mean               NaN  \n",
              "std                NaN  \n",
              "min                NaN  \n",
              "25%                NaN  \n",
              "50%                NaN  \n",
              "75%                NaN  \n",
              "max                NaN  "
            ],
            "text/html": [
              "\n",
              "  <div id=\"df-4fa5c121-44a1-4d8f-82ff-1bcb44578a09\">\n",
              "    <div class=\"colab-df-container\">\n",
              "      <div>\n",
              "<style scoped>\n",
              "    .dataframe tbody tr th:only-of-type {\n",
              "        vertical-align: middle;\n",
              "    }\n",
              "\n",
              "    .dataframe tbody tr th {\n",
              "        vertical-align: top;\n",
              "    }\n",
              "\n",
              "    .dataframe thead th {\n",
              "        text-align: right;\n",
              "    }\n",
              "</style>\n",
              "<table border=\"1\" class=\"dataframe\">\n",
              "  <thead>\n",
              "    <tr style=\"text-align: right;\">\n",
              "      <th></th>\n",
              "      <th>InvoiceNo</th>\n",
              "      <th>StockCode</th>\n",
              "      <th>Description</th>\n",
              "      <th>Quantity</th>\n",
              "      <th>InvoiceDate</th>\n",
              "      <th>UnitPrice</th>\n",
              "      <th>CustomerID</th>\n",
              "      <th>Country</th>\n",
              "    </tr>\n",
              "  </thead>\n",
              "  <tbody>\n",
              "    <tr>\n",
              "      <th>count</th>\n",
              "      <td>541909.0</td>\n",
              "      <td>541909</td>\n",
              "      <td>540455</td>\n",
              "      <td>541909.000000</td>\n",
              "      <td>541909</td>\n",
              "      <td>541909.000000</td>\n",
              "      <td>406829.000000</td>\n",
              "      <td>541909</td>\n",
              "    </tr>\n",
              "    <tr>\n",
              "      <th>unique</th>\n",
              "      <td>25900.0</td>\n",
              "      <td>4070</td>\n",
              "      <td>4223</td>\n",
              "      <td>NaN</td>\n",
              "      <td>23260</td>\n",
              "      <td>NaN</td>\n",
              "      <td>NaN</td>\n",
              "      <td>38</td>\n",
              "    </tr>\n",
              "    <tr>\n",
              "      <th>top</th>\n",
              "      <td>573585.0</td>\n",
              "      <td>85123A</td>\n",
              "      <td>WHITE HANGING HEART T-LIGHT HOLDER</td>\n",
              "      <td>NaN</td>\n",
              "      <td>2011-10-31 14:41:00</td>\n",
              "      <td>NaN</td>\n",
              "      <td>NaN</td>\n",
              "      <td>United Kingdom</td>\n",
              "    </tr>\n",
              "    <tr>\n",
              "      <th>freq</th>\n",
              "      <td>1114.0</td>\n",
              "      <td>2313</td>\n",
              "      <td>2369</td>\n",
              "      <td>NaN</td>\n",
              "      <td>1114</td>\n",
              "      <td>NaN</td>\n",
              "      <td>NaN</td>\n",
              "      <td>495478</td>\n",
              "    </tr>\n",
              "    <tr>\n",
              "      <th>first</th>\n",
              "      <td>NaN</td>\n",
              "      <td>NaN</td>\n",
              "      <td>NaN</td>\n",
              "      <td>NaN</td>\n",
              "      <td>2010-12-01 08:26:00</td>\n",
              "      <td>NaN</td>\n",
              "      <td>NaN</td>\n",
              "      <td>NaN</td>\n",
              "    </tr>\n",
              "    <tr>\n",
              "      <th>last</th>\n",
              "      <td>NaN</td>\n",
              "      <td>NaN</td>\n",
              "      <td>NaN</td>\n",
              "      <td>NaN</td>\n",
              "      <td>2011-12-09 12:50:00</td>\n",
              "      <td>NaN</td>\n",
              "      <td>NaN</td>\n",
              "      <td>NaN</td>\n",
              "    </tr>\n",
              "    <tr>\n",
              "      <th>mean</th>\n",
              "      <td>NaN</td>\n",
              "      <td>NaN</td>\n",
              "      <td>NaN</td>\n",
              "      <td>9.552250</td>\n",
              "      <td>NaN</td>\n",
              "      <td>4.611114</td>\n",
              "      <td>15287.690570</td>\n",
              "      <td>NaN</td>\n",
              "    </tr>\n",
              "    <tr>\n",
              "      <th>std</th>\n",
              "      <td>NaN</td>\n",
              "      <td>NaN</td>\n",
              "      <td>NaN</td>\n",
              "      <td>218.081158</td>\n",
              "      <td>NaN</td>\n",
              "      <td>96.759853</td>\n",
              "      <td>1713.600303</td>\n",
              "      <td>NaN</td>\n",
              "    </tr>\n",
              "    <tr>\n",
              "      <th>min</th>\n",
              "      <td>NaN</td>\n",
              "      <td>NaN</td>\n",
              "      <td>NaN</td>\n",
              "      <td>-80995.000000</td>\n",
              "      <td>NaN</td>\n",
              "      <td>-11062.060000</td>\n",
              "      <td>12346.000000</td>\n",
              "      <td>NaN</td>\n",
              "    </tr>\n",
              "    <tr>\n",
              "      <th>25%</th>\n",
              "      <td>NaN</td>\n",
              "      <td>NaN</td>\n",
              "      <td>NaN</td>\n",
              "      <td>1.000000</td>\n",
              "      <td>NaN</td>\n",
              "      <td>1.250000</td>\n",
              "      <td>13953.000000</td>\n",
              "      <td>NaN</td>\n",
              "    </tr>\n",
              "    <tr>\n",
              "      <th>50%</th>\n",
              "      <td>NaN</td>\n",
              "      <td>NaN</td>\n",
              "      <td>NaN</td>\n",
              "      <td>3.000000</td>\n",
              "      <td>NaN</td>\n",
              "      <td>2.080000</td>\n",
              "      <td>15152.000000</td>\n",
              "      <td>NaN</td>\n",
              "    </tr>\n",
              "    <tr>\n",
              "      <th>75%</th>\n",
              "      <td>NaN</td>\n",
              "      <td>NaN</td>\n",
              "      <td>NaN</td>\n",
              "      <td>10.000000</td>\n",
              "      <td>NaN</td>\n",
              "      <td>4.130000</td>\n",
              "      <td>16791.000000</td>\n",
              "      <td>NaN</td>\n",
              "    </tr>\n",
              "    <tr>\n",
              "      <th>max</th>\n",
              "      <td>NaN</td>\n",
              "      <td>NaN</td>\n",
              "      <td>NaN</td>\n",
              "      <td>80995.000000</td>\n",
              "      <td>NaN</td>\n",
              "      <td>38970.000000</td>\n",
              "      <td>18287.000000</td>\n",
              "      <td>NaN</td>\n",
              "    </tr>\n",
              "  </tbody>\n",
              "</table>\n",
              "</div>\n",
              "      <button class=\"colab-df-convert\" onclick=\"convertToInteractive('df-4fa5c121-44a1-4d8f-82ff-1bcb44578a09')\"\n",
              "              title=\"Convert this dataframe to an interactive table.\"\n",
              "              style=\"display:none;\">\n",
              "        \n",
              "  <svg xmlns=\"http://www.w3.org/2000/svg\" height=\"24px\"viewBox=\"0 0 24 24\"\n",
              "       width=\"24px\">\n",
              "    <path d=\"M0 0h24v24H0V0z\" fill=\"none\"/>\n",
              "    <path d=\"M18.56 5.44l.94 2.06.94-2.06 2.06-.94-2.06-.94-.94-2.06-.94 2.06-2.06.94zm-11 1L8.5 8.5l.94-2.06 2.06-.94-2.06-.94L8.5 2.5l-.94 2.06-2.06.94zm10 10l.94 2.06.94-2.06 2.06-.94-2.06-.94-.94-2.06-.94 2.06-2.06.94z\"/><path d=\"M17.41 7.96l-1.37-1.37c-.4-.4-.92-.59-1.43-.59-.52 0-1.04.2-1.43.59L10.3 9.45l-7.72 7.72c-.78.78-.78 2.05 0 2.83L4 21.41c.39.39.9.59 1.41.59.51 0 1.02-.2 1.41-.59l7.78-7.78 2.81-2.81c.8-.78.8-2.07 0-2.86zM5.41 20L4 18.59l7.72-7.72 1.47 1.35L5.41 20z\"/>\n",
              "  </svg>\n",
              "      </button>\n",
              "      \n",
              "  <style>\n",
              "    .colab-df-container {\n",
              "      display:flex;\n",
              "      flex-wrap:wrap;\n",
              "      gap: 12px;\n",
              "    }\n",
              "\n",
              "    .colab-df-convert {\n",
              "      background-color: #E8F0FE;\n",
              "      border: none;\n",
              "      border-radius: 50%;\n",
              "      cursor: pointer;\n",
              "      display: none;\n",
              "      fill: #1967D2;\n",
              "      height: 32px;\n",
              "      padding: 0 0 0 0;\n",
              "      width: 32px;\n",
              "    }\n",
              "\n",
              "    .colab-df-convert:hover {\n",
              "      background-color: #E2EBFA;\n",
              "      box-shadow: 0px 1px 2px rgba(60, 64, 67, 0.3), 0px 1px 3px 1px rgba(60, 64, 67, 0.15);\n",
              "      fill: #174EA6;\n",
              "    }\n",
              "\n",
              "    [theme=dark] .colab-df-convert {\n",
              "      background-color: #3B4455;\n",
              "      fill: #D2E3FC;\n",
              "    }\n",
              "\n",
              "    [theme=dark] .colab-df-convert:hover {\n",
              "      background-color: #434B5C;\n",
              "      box-shadow: 0px 1px 3px 1px rgba(0, 0, 0, 0.15);\n",
              "      filter: drop-shadow(0px 1px 2px rgba(0, 0, 0, 0.3));\n",
              "      fill: #FFFFFF;\n",
              "    }\n",
              "  </style>\n",
              "\n",
              "      <script>\n",
              "        const buttonEl =\n",
              "          document.querySelector('#df-4fa5c121-44a1-4d8f-82ff-1bcb44578a09 button.colab-df-convert');\n",
              "        buttonEl.style.display =\n",
              "          google.colab.kernel.accessAllowed ? 'block' : 'none';\n",
              "\n",
              "        async function convertToInteractive(key) {\n",
              "          const element = document.querySelector('#df-4fa5c121-44a1-4d8f-82ff-1bcb44578a09');\n",
              "          const dataTable =\n",
              "            await google.colab.kernel.invokeFunction('convertToInteractive',\n",
              "                                                     [key], {});\n",
              "          if (!dataTable) return;\n",
              "\n",
              "          const docLinkHtml = 'Like what you see? Visit the ' +\n",
              "            '<a target=\"_blank\" href=https://colab.research.google.com/notebooks/data_table.ipynb>data table notebook</a>'\n",
              "            + ' to learn more about interactive tables.';\n",
              "          element.innerHTML = '';\n",
              "          dataTable['output_type'] = 'display_data';\n",
              "          await google.colab.output.renderOutput(dataTable, element);\n",
              "          const docLink = document.createElement('div');\n",
              "          docLink.innerHTML = docLinkHtml;\n",
              "          element.appendChild(docLink);\n",
              "        }\n",
              "      </script>\n",
              "    </div>\n",
              "  </div>\n",
              "  "
            ]
          },
          "metadata": {},
          "execution_count": 12
        }
      ]
    },
    {
      "cell_type": "code",
      "source": [
        "# transactions with negative 'Quantity'\n",
        "(df[df['Quantity'] < 0])"
      ],
      "metadata": {
        "colab": {
          "base_uri": "https://localhost:8080/",
          "height": 424
        },
        "id": "JKQlxZE3jg8w",
        "outputId": "e11ad57c-1d4e-4578-d1db-0cf04fdc176e"
      },
      "execution_count": 13,
      "outputs": [
        {
          "output_type": "execute_result",
          "data": {
            "text/plain": [
              "       InvoiceNo StockCode                       Description  Quantity  \\\n",
              "141      C536379         D                          Discount        -1   \n",
              "154      C536383    35004C   SET OF 3 COLOURED  FLYING DUCKS        -1   \n",
              "235      C536391     22556    PLASTERS IN TIN CIRCUS PARADE        -12   \n",
              "236      C536391     21984  PACK OF 12 PINK PAISLEY TISSUES        -24   \n",
              "237      C536391     21983  PACK OF 12 BLUE PAISLEY TISSUES        -24   \n",
              "...          ...       ...                               ...       ...   \n",
              "540449   C581490     23144   ZINC T-LIGHT HOLDER STARS SMALL       -11   \n",
              "541541   C581499         M                            Manual        -1   \n",
              "541715   C581568     21258        VICTORIAN SEWING BOX LARGE        -5   \n",
              "541716   C581569     84978  HANGING HEART JAR T-LIGHT HOLDER        -1   \n",
              "541717   C581569     20979     36 PENCILS TUBE RED RETROSPOT        -5   \n",
              "\n",
              "               InvoiceDate  UnitPrice  CustomerID         Country  \n",
              "141    2010-12-01 09:41:00      27.50     14527.0  United Kingdom  \n",
              "154    2010-12-01 09:49:00       4.65     15311.0  United Kingdom  \n",
              "235    2010-12-01 10:24:00       1.65     17548.0  United Kingdom  \n",
              "236    2010-12-01 10:24:00       0.29     17548.0  United Kingdom  \n",
              "237    2010-12-01 10:24:00       0.29     17548.0  United Kingdom  \n",
              "...                    ...        ...         ...             ...  \n",
              "540449 2011-12-09 09:57:00       0.83     14397.0  United Kingdom  \n",
              "541541 2011-12-09 10:28:00     224.69     15498.0  United Kingdom  \n",
              "541715 2011-12-09 11:57:00      10.95     15311.0  United Kingdom  \n",
              "541716 2011-12-09 11:58:00       1.25     17315.0  United Kingdom  \n",
              "541717 2011-12-09 11:58:00       1.25     17315.0  United Kingdom  \n",
              "\n",
              "[10624 rows x 8 columns]"
            ],
            "text/html": [
              "\n",
              "  <div id=\"df-cc9fa4e3-903e-49c3-a75f-ab2068831370\">\n",
              "    <div class=\"colab-df-container\">\n",
              "      <div>\n",
              "<style scoped>\n",
              "    .dataframe tbody tr th:only-of-type {\n",
              "        vertical-align: middle;\n",
              "    }\n",
              "\n",
              "    .dataframe tbody tr th {\n",
              "        vertical-align: top;\n",
              "    }\n",
              "\n",
              "    .dataframe thead th {\n",
              "        text-align: right;\n",
              "    }\n",
              "</style>\n",
              "<table border=\"1\" class=\"dataframe\">\n",
              "  <thead>\n",
              "    <tr style=\"text-align: right;\">\n",
              "      <th></th>\n",
              "      <th>InvoiceNo</th>\n",
              "      <th>StockCode</th>\n",
              "      <th>Description</th>\n",
              "      <th>Quantity</th>\n",
              "      <th>InvoiceDate</th>\n",
              "      <th>UnitPrice</th>\n",
              "      <th>CustomerID</th>\n",
              "      <th>Country</th>\n",
              "    </tr>\n",
              "  </thead>\n",
              "  <tbody>\n",
              "    <tr>\n",
              "      <th>141</th>\n",
              "      <td>C536379</td>\n",
              "      <td>D</td>\n",
              "      <td>Discount</td>\n",
              "      <td>-1</td>\n",
              "      <td>2010-12-01 09:41:00</td>\n",
              "      <td>27.50</td>\n",
              "      <td>14527.0</td>\n",
              "      <td>United Kingdom</td>\n",
              "    </tr>\n",
              "    <tr>\n",
              "      <th>154</th>\n",
              "      <td>C536383</td>\n",
              "      <td>35004C</td>\n",
              "      <td>SET OF 3 COLOURED  FLYING DUCKS</td>\n",
              "      <td>-1</td>\n",
              "      <td>2010-12-01 09:49:00</td>\n",
              "      <td>4.65</td>\n",
              "      <td>15311.0</td>\n",
              "      <td>United Kingdom</td>\n",
              "    </tr>\n",
              "    <tr>\n",
              "      <th>235</th>\n",
              "      <td>C536391</td>\n",
              "      <td>22556</td>\n",
              "      <td>PLASTERS IN TIN CIRCUS PARADE</td>\n",
              "      <td>-12</td>\n",
              "      <td>2010-12-01 10:24:00</td>\n",
              "      <td>1.65</td>\n",
              "      <td>17548.0</td>\n",
              "      <td>United Kingdom</td>\n",
              "    </tr>\n",
              "    <tr>\n",
              "      <th>236</th>\n",
              "      <td>C536391</td>\n",
              "      <td>21984</td>\n",
              "      <td>PACK OF 12 PINK PAISLEY TISSUES</td>\n",
              "      <td>-24</td>\n",
              "      <td>2010-12-01 10:24:00</td>\n",
              "      <td>0.29</td>\n",
              "      <td>17548.0</td>\n",
              "      <td>United Kingdom</td>\n",
              "    </tr>\n",
              "    <tr>\n",
              "      <th>237</th>\n",
              "      <td>C536391</td>\n",
              "      <td>21983</td>\n",
              "      <td>PACK OF 12 BLUE PAISLEY TISSUES</td>\n",
              "      <td>-24</td>\n",
              "      <td>2010-12-01 10:24:00</td>\n",
              "      <td>0.29</td>\n",
              "      <td>17548.0</td>\n",
              "      <td>United Kingdom</td>\n",
              "    </tr>\n",
              "    <tr>\n",
              "      <th>...</th>\n",
              "      <td>...</td>\n",
              "      <td>...</td>\n",
              "      <td>...</td>\n",
              "      <td>...</td>\n",
              "      <td>...</td>\n",
              "      <td>...</td>\n",
              "      <td>...</td>\n",
              "      <td>...</td>\n",
              "    </tr>\n",
              "    <tr>\n",
              "      <th>540449</th>\n",
              "      <td>C581490</td>\n",
              "      <td>23144</td>\n",
              "      <td>ZINC T-LIGHT HOLDER STARS SMALL</td>\n",
              "      <td>-11</td>\n",
              "      <td>2011-12-09 09:57:00</td>\n",
              "      <td>0.83</td>\n",
              "      <td>14397.0</td>\n",
              "      <td>United Kingdom</td>\n",
              "    </tr>\n",
              "    <tr>\n",
              "      <th>541541</th>\n",
              "      <td>C581499</td>\n",
              "      <td>M</td>\n",
              "      <td>Manual</td>\n",
              "      <td>-1</td>\n",
              "      <td>2011-12-09 10:28:00</td>\n",
              "      <td>224.69</td>\n",
              "      <td>15498.0</td>\n",
              "      <td>United Kingdom</td>\n",
              "    </tr>\n",
              "    <tr>\n",
              "      <th>541715</th>\n",
              "      <td>C581568</td>\n",
              "      <td>21258</td>\n",
              "      <td>VICTORIAN SEWING BOX LARGE</td>\n",
              "      <td>-5</td>\n",
              "      <td>2011-12-09 11:57:00</td>\n",
              "      <td>10.95</td>\n",
              "      <td>15311.0</td>\n",
              "      <td>United Kingdom</td>\n",
              "    </tr>\n",
              "    <tr>\n",
              "      <th>541716</th>\n",
              "      <td>C581569</td>\n",
              "      <td>84978</td>\n",
              "      <td>HANGING HEART JAR T-LIGHT HOLDER</td>\n",
              "      <td>-1</td>\n",
              "      <td>2011-12-09 11:58:00</td>\n",
              "      <td>1.25</td>\n",
              "      <td>17315.0</td>\n",
              "      <td>United Kingdom</td>\n",
              "    </tr>\n",
              "    <tr>\n",
              "      <th>541717</th>\n",
              "      <td>C581569</td>\n",
              "      <td>20979</td>\n",
              "      <td>36 PENCILS TUBE RED RETROSPOT</td>\n",
              "      <td>-5</td>\n",
              "      <td>2011-12-09 11:58:00</td>\n",
              "      <td>1.25</td>\n",
              "      <td>17315.0</td>\n",
              "      <td>United Kingdom</td>\n",
              "    </tr>\n",
              "  </tbody>\n",
              "</table>\n",
              "<p>10624 rows × 8 columns</p>\n",
              "</div>\n",
              "      <button class=\"colab-df-convert\" onclick=\"convertToInteractive('df-cc9fa4e3-903e-49c3-a75f-ab2068831370')\"\n",
              "              title=\"Convert this dataframe to an interactive table.\"\n",
              "              style=\"display:none;\">\n",
              "        \n",
              "  <svg xmlns=\"http://www.w3.org/2000/svg\" height=\"24px\"viewBox=\"0 0 24 24\"\n",
              "       width=\"24px\">\n",
              "    <path d=\"M0 0h24v24H0V0z\" fill=\"none\"/>\n",
              "    <path d=\"M18.56 5.44l.94 2.06.94-2.06 2.06-.94-2.06-.94-.94-2.06-.94 2.06-2.06.94zm-11 1L8.5 8.5l.94-2.06 2.06-.94-2.06-.94L8.5 2.5l-.94 2.06-2.06.94zm10 10l.94 2.06.94-2.06 2.06-.94-2.06-.94-.94-2.06-.94 2.06-2.06.94z\"/><path d=\"M17.41 7.96l-1.37-1.37c-.4-.4-.92-.59-1.43-.59-.52 0-1.04.2-1.43.59L10.3 9.45l-7.72 7.72c-.78.78-.78 2.05 0 2.83L4 21.41c.39.39.9.59 1.41.59.51 0 1.02-.2 1.41-.59l7.78-7.78 2.81-2.81c.8-.78.8-2.07 0-2.86zM5.41 20L4 18.59l7.72-7.72 1.47 1.35L5.41 20z\"/>\n",
              "  </svg>\n",
              "      </button>\n",
              "      \n",
              "  <style>\n",
              "    .colab-df-container {\n",
              "      display:flex;\n",
              "      flex-wrap:wrap;\n",
              "      gap: 12px;\n",
              "    }\n",
              "\n",
              "    .colab-df-convert {\n",
              "      background-color: #E8F0FE;\n",
              "      border: none;\n",
              "      border-radius: 50%;\n",
              "      cursor: pointer;\n",
              "      display: none;\n",
              "      fill: #1967D2;\n",
              "      height: 32px;\n",
              "      padding: 0 0 0 0;\n",
              "      width: 32px;\n",
              "    }\n",
              "\n",
              "    .colab-df-convert:hover {\n",
              "      background-color: #E2EBFA;\n",
              "      box-shadow: 0px 1px 2px rgba(60, 64, 67, 0.3), 0px 1px 3px 1px rgba(60, 64, 67, 0.15);\n",
              "      fill: #174EA6;\n",
              "    }\n",
              "\n",
              "    [theme=dark] .colab-df-convert {\n",
              "      background-color: #3B4455;\n",
              "      fill: #D2E3FC;\n",
              "    }\n",
              "\n",
              "    [theme=dark] .colab-df-convert:hover {\n",
              "      background-color: #434B5C;\n",
              "      box-shadow: 0px 1px 3px 1px rgba(0, 0, 0, 0.15);\n",
              "      filter: drop-shadow(0px 1px 2px rgba(0, 0, 0, 0.3));\n",
              "      fill: #FFFFFF;\n",
              "    }\n",
              "  </style>\n",
              "\n",
              "      <script>\n",
              "        const buttonEl =\n",
              "          document.querySelector('#df-cc9fa4e3-903e-49c3-a75f-ab2068831370 button.colab-df-convert');\n",
              "        buttonEl.style.display =\n",
              "          google.colab.kernel.accessAllowed ? 'block' : 'none';\n",
              "\n",
              "        async function convertToInteractive(key) {\n",
              "          const element = document.querySelector('#df-cc9fa4e3-903e-49c3-a75f-ab2068831370');\n",
              "          const dataTable =\n",
              "            await google.colab.kernel.invokeFunction('convertToInteractive',\n",
              "                                                     [key], {});\n",
              "          if (!dataTable) return;\n",
              "\n",
              "          const docLinkHtml = 'Like what you see? Visit the ' +\n",
              "            '<a target=\"_blank\" href=https://colab.research.google.com/notebooks/data_table.ipynb>data table notebook</a>'\n",
              "            + ' to learn more about interactive tables.';\n",
              "          element.innerHTML = '';\n",
              "          dataTable['output_type'] = 'display_data';\n",
              "          await google.colab.output.renderOutput(dataTable, element);\n",
              "          const docLink = document.createElement('div');\n",
              "          docLink.innerHTML = docLinkHtml;\n",
              "          element.appendChild(docLink);\n",
              "        }\n",
              "      </script>\n",
              "    </div>\n",
              "  </div>\n",
              "  "
            ]
          },
          "metadata": {},
          "execution_count": 13
        }
      ]
    },
    {
      "cell_type": "markdown",
      "source": [
        "### Variables Description "
      ],
      "metadata": {
        "id": "PBTbrJXOngz2"
      }
    },
    {
      "cell_type": "markdown",
      "source": [
        "* ### InvoiceNo: Invoice number. Nominal, a 6-digit integral number uniquely assigned to each transaction. If this code starts with letter 'c', it indicates a cancellation.\n",
        "* ### StockCode: Product (item) code. Nominal, a 5-digit integral number uniquely assigned to each distinct product.\n",
        "* ### Description: Product (item) name. Nominal.\n",
        "* ### Quantity: The quantities of each product (item) per transaction. Numeric.\n",
        "* ### InvoiceDate: Invice Date and time. Numeric, the day and time when each transaction was generated.\n",
        "* ### UnitPrice: Unit price. Numeric, Product price per unit in sterling.\n",
        "* ### CustomerID: Customer number. Nominal, a 5-digit integral number uniquely assigned to each customer.\n",
        "* ### Country: Country name. Nominal, the name of the country where each customer resides."
      ],
      "metadata": {
        "id": "zN3GYqn4hre5"
      }
    },
    {
      "cell_type": "markdown",
      "source": [
        "### Check Unique Values for each variable."
      ],
      "metadata": {
        "id": "u3PMJOP6ngxN"
      }
    },
    {
      "cell_type": "code",
      "source": [
        "# Check Unique Values for each variable.\n",
        "unique_df=pd.DataFrame()\n",
        "unique_df['column name']=df.columns\n",
        "unique_count=[]\n",
        "for i in df.columns:\n",
        "  unique_count.append(df[i].nunique())\n",
        "unique_df['unique_count']=unique_count\n",
        "\n",
        "\n",
        "\n",
        "plt.figure(figsize = (12,6))\n",
        "\n",
        "splot = sns.barplot(x=unique_df['column name'], y=unique_df['unique_count'])\n",
        "for p in splot.patches:\n",
        "    splot.annotate(format(p.get_height(), '.0f'), (p.get_x() + p.get_width() / 2., p.get_height()), ha = 'center',\n",
        "                   va = 'center', xytext = (0, 9), textcoords = 'offset points')\n",
        "plt.title('Number of unique values in each column',weight='bold', size=15)\n",
        "plt.ylabel('Unique Count', size=12, weight='bold')\n",
        "plt.xlabel('column name', size=12, weight='bold')\n",
        "plt.xticks(rotation=90)\n",
        "plt.show()"
      ],
      "metadata": {
        "id": "zms12Yq5n-jE",
        "colab": {
          "base_uri": "https://localhost:8080/",
          "height": 639
        },
        "outputId": "5d2cfe78-4068-4896-942f-695db0a76150"
      },
      "execution_count": 14,
      "outputs": [
        {
          "output_type": "display_data",
          "data": {
            "text/plain": [
              "<Figure size 1200x600 with 1 Axes>"
            ],
            "image/png": "[encoded data removed]"
          },
          "metadata": {}
        }
      ]
    },
    {
      "cell_type": "code",
      "source": [
        "# get unique values for 'Country'\n",
        "df['Country'].unique()"
      ],
      "metadata": {
        "colab": {
          "base_uri": "https://localhost:8080/"
        },
        "id": "vcZqy7smfJrZ",
        "outputId": "d6da0d05-75a8-4903-e673-27271a56ee65"
      },
      "execution_count": 15,
      "outputs": [
        {
          "output_type": "execute_result",
          "data": {
            "text/plain": [
              "array(['United Kingdom', 'France', 'Australia', 'Netherlands', 'Germany',\n",
              "       'Norway', 'EIRE', 'Switzerland', 'Spain', 'Poland', 'Portugal',\n",
              "       'Italy', 'Belgium', 'Lithuania', 'Japan', 'Iceland',\n",
              "       'Channel Islands', 'Denmark', 'Cyprus', 'Sweden', 'Austria',\n",
              "       'Israel', 'Finland', 'Bahrain', 'Greece', 'Hong Kong', 'Singapore',\n",
              "       'Lebanon', 'United Arab Emirates', 'Saudi Arabia',\n",
              "       'Czech Republic', 'Canada', 'Unspecified', 'Brazil', 'USA',\n",
              "       'European Community', 'Malta', 'RSA'], dtype=object)"
            ]
          },
          "metadata": {},
          "execution_count": 15
        }
      ]
    },
    {
      "cell_type": "markdown",
      "source": [
        "## 3. ***Data Wrangling***"
      ],
      "metadata": {
        "id": "dauF4eBmngu3"
      }
    },
    {
      "cell_type": "markdown",
      "source": [
        "### Write your code to make your dataset analysis ready.\n"
      ],
      "metadata": {
        "id": "bKJF3rekwFvQ"
      }
    },
    {
      "cell_type": "markdown",
      "source": [
        "### Remove the duplicated rows as these are not neccessary for our analysis."
      ],
      "metadata": {
        "id": "EFX4TLzMvand"
      }
    },
    {
      "cell_type": "code",
      "source": [
        "# droping duplicates\n",
        "df.drop_duplicates(inplace = True)"
      ],
      "metadata": {
        "id": "RBu4tfz8iouT"
      },
      "execution_count": 16,
      "outputs": []
    },
    {
      "cell_type": "code",
      "source": [
        "df[df.duplicated()]"
      ],
      "metadata": {
        "colab": {
          "base_uri": "https://localhost:8080/",
          "height": 49
        },
        "id": "qrN4SxRywwxa",
        "outputId": "719599bc-7557-4133-cf68-fa45b8478f4e"
      },
      "execution_count": 17,
      "outputs": [
        {
          "output_type": "execute_result",
          "data": {
            "text/plain": [
              "Empty DataFrame\n",
              "Columns: [InvoiceNo, StockCode, Description, Quantity, InvoiceDate, UnitPrice, CustomerID, Country]\n",
              "Index: []"
            ],
            "text/html": [
              "\n",
              "  <div id=\"df-f94989b7-3ec9-4320-9094-f23d2ef89f84\">\n",
              "    <div class=\"colab-df-container\">\n",
              "      <div>\n",
              "<style scoped>\n",
              "    .dataframe tbody tr th:only-of-type {\n",
              "        vertical-align: middle;\n",
              "    }\n",
              "\n",
              "    .dataframe tbody tr th {\n",
              "        vertical-align: top;\n",
              "    }\n",
              "\n",
              "    .dataframe thead th {\n",
              "        text-align: right;\n",
              "    }\n",
              "</style>\n",
              "<table border=\"1\" class=\"dataframe\">\n",
              "  <thead>\n",
              "    <tr style=\"text-align: right;\">\n",
              "      <th></th>\n",
              "      <th>InvoiceNo</th>\n",
              "      <th>StockCode</th>\n",
              "      <th>Description</th>\n",
              "      <th>Quantity</th>\n",
              "      <th>InvoiceDate</th>\n",
              "      <th>UnitPrice</th>\n",
              "      <th>CustomerID</th>\n",
              "      <th>Country</th>\n",
              "    </tr>\n",
              "  </thead>\n",
              "  <tbody>\n",
              "  </tbody>\n",
              "</table>\n",
              "</div>\n",
              "      <button class=\"colab-df-convert\" onclick=\"convertToInteractive('df-f94989b7-3ec9-4320-9094-f23d2ef89f84')\"\n",
              "              title=\"Convert this dataframe to an interactive table.\"\n",
              "              style=\"display:none;\">\n",
              "        \n",
              "  <svg xmlns=\"http://www.w3.org/2000/svg\" height=\"24px\"viewBox=\"0 0 24 24\"\n",
              "       width=\"24px\">\n",
              "    <path d=\"M0 0h24v24H0V0z\" fill=\"none\"/>\n",
              "    <path d=\"M18.56 5.44l.94 2.06.94-2.06 2.06-.94-2.06-.94-.94-2.06-.94 2.06-2.06.94zm-11 1L8.5 8.5l.94-2.06 2.06-.94-2.06-.94L8.5 2.5l-.94 2.06-2.06.94zm10 10l.94 2.06.94-2.06 2.06-.94-2.06-.94-.94-2.06-.94 2.06-2.06.94z\"/><path d=\"M17.41 7.96l-1.37-1.37c-.4-.4-.92-.59-1.43-.59-.52 0-1.04.2-1.43.59L10.3 9.45l-7.72 7.72c-.78.78-.78 2.05 0 2.83L4 21.41c.39.39.9.59 1.41.59.51 0 1.02-.2 1.41-.59l7.78-7.78 2.81-2.81c.8-.78.8-2.07 0-2.86zM5.41 20L4 18.59l7.72-7.72 1.47 1.35L5.41 20z\"/>\n",
              "  </svg>\n",
              "      </button>\n",
              "      \n",
              "  <style>\n",
              "    .colab-df-container {\n",
              "      display:flex;\n",
              "      flex-wrap:wrap;\n",
              "      gap: 12px;\n",
              "    }\n",
              "\n",
              "    .colab-df-convert {\n",
              "      background-color: #E8F0FE;\n",
              "      border: none;\n",
              "      border-radius: 50%;\n",
              "      cursor: pointer;\n",
              "      display: none;\n",
              "      fill: #1967D2;\n",
              "      height: 32px;\n",
              "      padding: 0 0 0 0;\n",
              "      width: 32px;\n",
              "    }\n",
              "\n",
              "    .colab-df-convert:hover {\n",
              "      background-color: #E2EBFA;\n",
              "      box-shadow: 0px 1px 2px rgba(60, 64, 67, 0.3), 0px 1px 3px 1px rgba(60, 64, 67, 0.15);\n",
              "      fill: #174EA6;\n",
              "    }\n",
              "\n",
              "    [theme=dark] .colab-df-convert {\n",
              "      background-color: #3B4455;\n",
              "      fill: #D2E3FC;\n",
              "    }\n",
              "\n",
              "    [theme=dark] .colab-df-convert:hover {\n",
              "      background-color: #434B5C;\n",
              "      box-shadow: 0px 1px 3px 1px rgba(0, 0, 0, 0.15);\n",
              "      filter: drop-shadow(0px 1px 2px rgba(0, 0, 0, 0.3));\n",
              "      fill: #FFFFFF;\n",
              "    }\n",
              "  </style>\n",
              "\n",
              "      <script>\n",
              "        const buttonEl =\n",
              "          document.querySelector('#df-f94989b7-3ec9-4320-9094-f23d2ef89f84 button.colab-df-convert');\n",
              "        buttonEl.style.display =\n",
              "          google.colab.kernel.accessAllowed ? 'block' : 'none';\n",
              "\n",
              "        async function convertToInteractive(key) {\n",
              "          const element = document.querySelector('#df-f94989b7-3ec9-4320-9094-f23d2ef89f84');\n",
              "          const dataTable =\n",
              "            await google.colab.kernel.invokeFunction('convertToInteractive',\n",
              "                                                     [key], {});\n",
              "          if (!dataTable) return;\n",
              "\n",
              "          const docLinkHtml = 'Like what you see? Visit the ' +\n",
              "            '<a target=\"_blank\" href=https://colab.research.google.com/notebooks/data_table.ipynb>data table notebook</a>'\n",
              "            + ' to learn more about interactive tables.';\n",
              "          element.innerHTML = '';\n",
              "          dataTable['output_type'] = 'display_data';\n",
              "          await google.colab.output.renderOutput(dataTable, element);\n",
              "          const docLink = document.createElement('div');\n",
              "          docLink.innerHTML = docLinkHtml;\n",
              "          element.appendChild(docLink);\n",
              "        }\n",
              "      </script>\n",
              "    </div>\n",
              "  </div>\n",
              "  "
            ]
          },
          "metadata": {},
          "execution_count": 17
        }
      ]
    },
    {
      "cell_type": "markdown",
      "source": [
        "### Handling Missing Values"
      ],
      "metadata": {
        "id": "ctcx7eRtxOm4"
      }
    },
    {
      "cell_type": "markdown",
      "source": [
        "Drop missing values present in 'CustomerID' as we cannot replace it with mode value beacuse it will affect while aggregation."
      ],
      "metadata": {
        "id": "p6rvSqgL15aT"
      }
    },
    {
      "cell_type": "code",
      "source": [
        "# droping missing values 'CustomerID' \n",
        "df.dropna(subset = ['CustomerID'], inplace=True)"
      ],
      "metadata": {
        "id": "P6PcZajTyF2o"
      },
      "execution_count": 18,
      "outputs": []
    },
    {
      "cell_type": "markdown",
      "source": [
        "dropping NA in 'CustomerID' column also removed NA in 'Description' column."
      ],
      "metadata": {
        "id": "tSUxSqfX6TAR"
      }
    },
    {
      "cell_type": "code",
      "source": [
        "df.isnull().sum()"
      ],
      "metadata": {
        "colab": {
          "base_uri": "https://localhost:8080/"
        },
        "id": "8hIckNOUxXGI",
        "outputId": "ea67344a-ae78-45a9-bc5c-10e5e6f60e34"
      },
      "execution_count": 19,
      "outputs": [
        {
          "output_type": "execute_result",
          "data": {
            "text/plain": [
              "InvoiceNo      0\n",
              "StockCode      0\n",
              "Description    0\n",
              "Quantity       0\n",
              "InvoiceDate    0\n",
              "UnitPrice      0\n",
              "CustomerID     0\n",
              "Country        0\n",
              "dtype: int64"
            ]
          },
          "metadata": {},
          "execution_count": 19
        }
      ]
    },
    {
      "cell_type": "code",
      "source": [
        "# shape of dataset after removing duplicates and null values\n",
        "df.shape"
      ],
      "metadata": {
        "colab": {
          "base_uri": "https://localhost:8080/"
        },
        "id": "wqafyWe36ynq",
        "outputId": "90df4cbb-7bc5-4083-c827-6a69479012e5"
      },
      "execution_count": 20,
      "outputs": [
        {
          "output_type": "execute_result",
          "data": {
            "text/plain": [
              "(401604, 8)"
            ]
          },
          "metadata": {},
          "execution_count": 20
        }
      ]
    },
    {
      "cell_type": "markdown",
      "source": [
        "### InvoiceNo which are starts with 'c' indicates cancellation, create a new dataframe for cancelled transactions for later analysis."
      ],
      "metadata": {
        "id": "yB5qs-l1oBG-"
      }
    },
    {
      "cell_type": "code",
      "source": [
        "#  converting data type to 'str'\n",
        "df['InvoiceNo'] = df['InvoiceNo'].astype('str')\n",
        "\n",
        "# creating separate dataframe for cancelled transactions \n",
        "cancel_df = df.loc[df['InvoiceNo'].str.contains('C')]\n"
      ],
      "metadata": {
        "id": "6YKR9b5Zllpt"
      },
      "execution_count": 21,
      "outputs": []
    },
    {
      "cell_type": "code",
      "source": [
        "# cancellation percentage\n",
        "transaction_count = df.loc[~df['InvoiceNo'].str.contains('C')].shape[0]\n",
        "cancel_percent = round((cancel_df.shape[0] / transaction_count * 100), 2)\n",
        "print(f'Approx {cancel_percent}% transactions was cancelled.')"
      ],
      "metadata": {
        "colab": {
          "base_uri": "https://localhost:8080/"
        },
        "id": "elzYb-2JoBSk",
        "outputId": "d5741463-8e5b-4ea9-d577-91ff85ca13e6"
      },
      "execution_count": 22,
      "outputs": [
        {
          "output_type": "stream",
          "name": "stdout",
          "text": [
            "Approx 2.26% transactions was cancelled.\n"
          ]
        }
      ]
    },
    {
      "cell_type": "markdown",
      "source": [
        "### Approx 2.26% transactions was cancelled."
      ],
      "metadata": {
        "id": "G_WRc__rp437"
      }
    },
    {
      "cell_type": "markdown",
      "source": [
        "## check for outliers"
      ],
      "metadata": {
        "id": "BYEFHLVC3JWB"
      }
    },
    {
      "cell_type": "code",
      "source": [
        "# data summary\n",
        "df[['Quantity', 'UnitPrice']].describe()"
      ],
      "metadata": {
        "colab": {
          "base_uri": "https://localhost:8080/",
          "height": 300
        },
        "id": "0oH69bZV2b8G",
        "outputId": "2d813e31-1705-4bae-a8bf-864c8937e351"
      },
      "execution_count": 23,
      "outputs": [
        {
          "output_type": "execute_result",
          "data": {
            "text/plain": [
              "            Quantity      UnitPrice\n",
              "count  401604.000000  401604.000000\n",
              "mean       12.183273       3.474064\n",
              "std       250.283037      69.764035\n",
              "min    -80995.000000       0.000000\n",
              "25%         2.000000       1.250000\n",
              "50%         5.000000       1.950000\n",
              "75%        12.000000       3.750000\n",
              "max     80995.000000   38970.000000"
            ],
            "text/html": [
              "\n",
              "  <div id=\"df-4916246f-62a6-492d-b3d9-724104c329e9\">\n",
              "    <div class=\"colab-df-container\">\n",
              "      <div>\n",
              "<style scoped>\n",
              "    .dataframe tbody tr th:only-of-type {\n",
              "        vertical-align: middle;\n",
              "    }\n",
              "\n",
              "    .dataframe tbody tr th {\n",
              "        vertical-align: top;\n",
              "    }\n",
              "\n",
              "    .dataframe thead th {\n",
              "        text-align: right;\n",
              "    }\n",
              "</style>\n",
              "<table border=\"1\" class=\"dataframe\">\n",
              "  <thead>\n",
              "    <tr style=\"text-align: right;\">\n",
              "      <th></th>\n",
              "      <th>Quantity</th>\n",
              "      <th>UnitPrice</th>\n",
              "    </tr>\n",
              "  </thead>\n",
              "  <tbody>\n",
              "    <tr>\n",
              "      <th>count</th>\n",
              "      <td>401604.000000</td>\n",
              "      <td>401604.000000</td>\n",
              "    </tr>\n",
              "    <tr>\n",
              "      <th>mean</th>\n",
              "      <td>12.183273</td>\n",
              "      <td>3.474064</td>\n",
              "    </tr>\n",
              "    <tr>\n",
              "      <th>std</th>\n",
              "      <td>250.283037</td>\n",
              "      <td>69.764035</td>\n",
              "    </tr>\n",
              "    <tr>\n",
              "      <th>min</th>\n",
              "      <td>-80995.000000</td>\n",
              "      <td>0.000000</td>\n",
              "    </tr>\n",
              "    <tr>\n",
              "      <th>25%</th>\n",
              "      <td>2.000000</td>\n",
              "      <td>1.250000</td>\n",
              "    </tr>\n",
              "    <tr>\n",
              "      <th>50%</th>\n",
              "      <td>5.000000</td>\n",
              "      <td>1.950000</td>\n",
              "    </tr>\n",
              "    <tr>\n",
              "      <th>75%</th>\n",
              "      <td>12.000000</td>\n",
              "      <td>3.750000</td>\n",
              "    </tr>\n",
              "    <tr>\n",
              "      <th>max</th>\n",
              "      <td>80995.000000</td>\n",
              "      <td>38970.000000</td>\n",
              "    </tr>\n",
              "  </tbody>\n",
              "</table>\n",
              "</div>\n",
              "      <button class=\"colab-df-convert\" onclick=\"convertToInteractive('df-4916246f-62a6-492d-b3d9-724104c329e9')\"\n",
              "              title=\"Convert this dataframe to an interactive table.\"\n",
              "              style=\"display:none;\">\n",
              "        \n",
              "  <svg xmlns=\"http://www.w3.org/2000/svg\" height=\"24px\"viewBox=\"0 0 24 24\"\n",
              "       width=\"24px\">\n",
              "    <path d=\"M0 0h24v24H0V0z\" fill=\"none\"/>\n",
              "    <path d=\"M18.56 5.44l.94 2.06.94-2.06 2.06-.94-2.06-.94-.94-2.06-.94 2.06-2.06.94zm-11 1L8.5 8.5l.94-2.06 2.06-.94-2.06-.94L8.5 2.5l-.94 2.06-2.06.94zm10 10l.94 2.06.94-2.06 2.06-.94-2.06-.94-.94-2.06-.94 2.06-2.06.94z\"/><path d=\"M17.41 7.96l-1.37-1.37c-.4-.4-.92-.59-1.43-.59-.52 0-1.04.2-1.43.59L10.3 9.45l-7.72 7.72c-.78.78-.78 2.05 0 2.83L4 21.41c.39.39.9.59 1.41.59.51 0 1.02-.2 1.41-.59l7.78-7.78 2.81-2.81c.8-.78.8-2.07 0-2.86zM5.41 20L4 18.59l7.72-7.72 1.47 1.35L5.41 20z\"/>\n",
              "  </svg>\n",
              "      </button>\n",
              "      \n",
              "  <style>\n",
              "    .colab-df-container {\n",
              "      display:flex;\n",
              "      flex-wrap:wrap;\n",
              "      gap: 12px;\n",
              "    }\n",
              "\n",
              "    .colab-df-convert {\n",
              "      background-color: #E8F0FE;\n",
              "      border: none;\n",
              "      border-radius: 50%;\n",
              "      cursor: pointer;\n",
              "      display: none;\n",
              "      fill: #1967D2;\n",
              "      height: 32px;\n",
              "      padding: 0 0 0 0;\n",
              "      width: 32px;\n",
              "    }\n",
              "\n",
              "    .colab-df-convert:hover {\n",
              "      background-color: #E2EBFA;\n",
              "      box-shadow: 0px 1px 2px rgba(60, 64, 67, 0.3), 0px 1px 3px 1px rgba(60, 64, 67, 0.15);\n",
              "      fill: #174EA6;\n",
              "    }\n",
              "\n",
              "    [theme=dark] .colab-df-convert {\n",
              "      background-color: #3B4455;\n",
              "      fill: #D2E3FC;\n",
              "    }\n",
              "\n",
              "    [theme=dark] .colab-df-convert:hover {\n",
              "      background-color: #434B5C;\n",
              "      box-shadow: 0px 1px 3px 1px rgba(0, 0, 0, 0.15);\n",
              "      filter: drop-shadow(0px 1px 2px rgba(0, 0, 0, 0.3));\n",
              "      fill: #FFFFFF;\n",
              "    }\n",
              "  </style>\n",
              "\n",
              "      <script>\n",
              "        const buttonEl =\n",
              "          document.querySelector('#df-4916246f-62a6-492d-b3d9-724104c329e9 button.colab-df-convert');\n",
              "        buttonEl.style.display =\n",
              "          google.colab.kernel.accessAllowed ? 'block' : 'none';\n",
              "\n",
              "        async function convertToInteractive(key) {\n",
              "          const element = document.querySelector('#df-4916246f-62a6-492d-b3d9-724104c329e9');\n",
              "          const dataTable =\n",
              "            await google.colab.kernel.invokeFunction('convertToInteractive',\n",
              "                                                     [key], {});\n",
              "          if (!dataTable) return;\n",
              "\n",
              "          const docLinkHtml = 'Like what you see? Visit the ' +\n",
              "            '<a target=\"_blank\" href=https://colab.research.google.com/notebooks/data_table.ipynb>data table notebook</a>'\n",
              "            + ' to learn more about interactive tables.';\n",
              "          element.innerHTML = '';\n",
              "          dataTable['output_type'] = 'display_data';\n",
              "          await google.colab.output.renderOutput(dataTable, element);\n",
              "          const docLink = document.createElement('div');\n",
              "          docLink.innerHTML = docLinkHtml;\n",
              "          element.appendChild(docLink);\n",
              "        }\n",
              "      </script>\n",
              "    </div>\n",
              "  </div>\n",
              "  "
            ]
          },
          "metadata": {},
          "execution_count": 23
        }
      ]
    },
    {
      "cell_type": "markdown",
      "source": [
        "### ploting box plot to check outliers"
      ],
      "metadata": {
        "id": "1eqVOhQzL70F"
      }
    },
    {
      "cell_type": "code",
      "source": [
        "# box plots for 'Quantity'\n",
        "fig = plt.figure(figsize=(15,3))\n",
        "plt.subplot(1, 2, 1)\n",
        "plt.xlabel('Quantity', fontsize = 12)\n",
        "sns.boxplot(x='Quantity',data=df)\n",
        "\n",
        "# box plot for 'UnitPrice'\n",
        "plt.subplot(1, 2, 2)\n",
        "plt.xlabel('UnitPrice', fontsize = 12)\n",
        "sns.boxplot(x='UnitPrice',data=df)\n",
        "plt.tight_layout()"
      ],
      "metadata": {
        "colab": {
          "base_uri": "https://localhost:8080/",
          "height": 260
        },
        "id": "I8PSicP2OLyD",
        "outputId": "10fe155c-56ec-404e-878c-33fdac8ca4a1"
      },
      "execution_count": 24,
      "outputs": [
        {
          "output_type": "display_data",
          "data": {
            "text/plain": [
              "<Figure size 1500x300 with 2 Axes>"
            ],
            "image/png": "[encoded data removed]"
          },
          "metadata": {}
        }
      ]
    },
    {
      "cell_type": "markdown",
      "source": [
        "### checking transactions with 'Quantity' more than 5000 and less than -5000."
      ],
      "metadata": {
        "id": "ETnxTZO-MQtp"
      }
    },
    {
      "cell_type": "code",
      "source": [
        "df[df['Quantity'] > 5000]"
      ],
      "metadata": {
        "colab": {
          "base_uri": "https://localhost:8080/",
          "height": 143
        },
        "id": "bS6bRT-WE5gA",
        "outputId": "246a586a-1d1e-4ae3-e716-bf69bc53a757"
      },
      "execution_count": 25,
      "outputs": [
        {
          "output_type": "execute_result",
          "data": {
            "text/plain": [
              "       InvoiceNo StockCode                     Description  Quantity  \\\n",
              "61619     541431     23166  MEDIUM CERAMIC TOP STORAGE JAR     74215   \n",
              "502122    578841     84826  ASSTD DESIGN 3D PAPER STICKERS     12540   \n",
              "540421    581483     23843     PAPER CRAFT , LITTLE BIRDIE     80995   \n",
              "\n",
              "               InvoiceDate  UnitPrice  CustomerID         Country  \n",
              "61619  2011-01-18 10:01:00       1.04     12346.0  United Kingdom  \n",
              "502122 2011-11-25 15:57:00       0.00     13256.0  United Kingdom  \n",
              "540421 2011-12-09 09:15:00       2.08     16446.0  United Kingdom  "
            ],
            "text/html": [
              "\n",
              "  <div id=\"df-038cabf8-7c74-4016-a006-27228c64dd89\">\n",
              "    <div class=\"colab-df-container\">\n",
              "      <div>\n",
              "<style scoped>\n",
              "    .dataframe tbody tr th:only-of-type {\n",
              "        vertical-align: middle;\n",
              "    }\n",
              "\n",
              "    .dataframe tbody tr th {\n",
              "        vertical-align: top;\n",
              "    }\n",
              "\n",
              "    .dataframe thead th {\n",
              "        text-align: right;\n",
              "    }\n",
              "</style>\n",
              "<table border=\"1\" class=\"dataframe\">\n",
              "  <thead>\n",
              "    <tr style=\"text-align: right;\">\n",
              "      <th></th>\n",
              "      <th>InvoiceNo</th>\n",
              "      <th>StockCode</th>\n",
              "      <th>Description</th>\n",
              "      <th>Quantity</th>\n",
              "      <th>InvoiceDate</th>\n",
              "      <th>UnitPrice</th>\n",
              "      <th>CustomerID</th>\n",
              "      <th>Country</th>\n",
              "    </tr>\n",
              "  </thead>\n",
              "  <tbody>\n",
              "    <tr>\n",
              "      <th>61619</th>\n",
              "      <td>541431</td>\n",
              "      <td>23166</td>\n",
              "      <td>MEDIUM CERAMIC TOP STORAGE JAR</td>\n",
              "      <td>74215</td>\n",
              "      <td>2011-01-18 10:01:00</td>\n",
              "      <td>1.04</td>\n",
              "      <td>12346.0</td>\n",
              "      <td>United Kingdom</td>\n",
              "    </tr>\n",
              "    <tr>\n",
              "      <th>502122</th>\n",
              "      <td>578841</td>\n",
              "      <td>84826</td>\n",
              "      <td>ASSTD DESIGN 3D PAPER STICKERS</td>\n",
              "      <td>12540</td>\n",
              "      <td>2011-11-25 15:57:00</td>\n",
              "      <td>0.00</td>\n",
              "      <td>13256.0</td>\n",
              "      <td>United Kingdom</td>\n",
              "    </tr>\n",
              "    <tr>\n",
              "      <th>540421</th>\n",
              "      <td>581483</td>\n",
              "      <td>23843</td>\n",
              "      <td>PAPER CRAFT , LITTLE BIRDIE</td>\n",
              "      <td>80995</td>\n",
              "      <td>2011-12-09 09:15:00</td>\n",
              "      <td>2.08</td>\n",
              "      <td>16446.0</td>\n",
              "      <td>United Kingdom</td>\n",
              "    </tr>\n",
              "  </tbody>\n",
              "</table>\n",
              "</div>\n",
              "      <button class=\"colab-df-convert\" onclick=\"convertToInteractive('df-038cabf8-7c74-4016-a006-27228c64dd89')\"\n",
              "              title=\"Convert this dataframe to an interactive table.\"\n",
              "              style=\"display:none;\">\n",
              "        \n",
              "  <svg xmlns=\"http://www.w3.org/2000/svg\" height=\"24px\"viewBox=\"0 0 24 24\"\n",
              "       width=\"24px\">\n",
              "    <path d=\"M0 0h24v24H0V0z\" fill=\"none\"/>\n",
              "    <path d=\"M18.56 5.44l.94 2.06.94-2.06 2.06-.94-2.06-.94-.94-2.06-.94 2.06-2.06.94zm-11 1L8.5 8.5l.94-2.06 2.06-.94-2.06-.94L8.5 2.5l-.94 2.06-2.06.94zm10 10l.94 2.06.94-2.06 2.06-.94-2.06-.94-.94-2.06-.94 2.06-2.06.94z\"/><path d=\"M17.41 7.96l-1.37-1.37c-.4-.4-.92-.59-1.43-.59-.52 0-1.04.2-1.43.59L10.3 9.45l-7.72 7.72c-.78.78-.78 2.05 0 2.83L4 21.41c.39.39.9.59 1.41.59.51 0 1.02-.2 1.41-.59l7.78-7.78 2.81-2.81c.8-.78.8-2.07 0-2.86zM5.41 20L4 18.59l7.72-7.72 1.47 1.35L5.41 20z\"/>\n",
              "  </svg>\n",
              "      </button>\n",
              "      \n",
              "  <style>\n",
              "    .colab-df-container {\n",
              "      display:flex;\n",
              "      flex-wrap:wrap;\n",
              "      gap: 12px;\n",
              "    }\n",
              "\n",
              "    .colab-df-convert {\n",
              "      background-color: #E8F0FE;\n",
              "      border: none;\n",
              "      border-radius: 50%;\n",
              "      cursor: pointer;\n",
              "      display: none;\n",
              "      fill: #1967D2;\n",
              "      height: 32px;\n",
              "      padding: 0 0 0 0;\n",
              "      width: 32px;\n",
              "    }\n",
              "\n",
              "    .colab-df-convert:hover {\n",
              "      background-color: #E2EBFA;\n",
              "      box-shadow: 0px 1px 2px rgba(60, 64, 67, 0.3), 0px 1px 3px 1px rgba(60, 64, 67, 0.15);\n",
              "      fill: #174EA6;\n",
              "    }\n",
              "\n",
              "    [theme=dark] .colab-df-convert {\n",
              "      background-color: #3B4455;\n",
              "      fill: #D2E3FC;\n",
              "    }\n",
              "\n",
              "    [theme=dark] .colab-df-convert:hover {\n",
              "      background-color: #434B5C;\n",
              "      box-shadow: 0px 1px 3px 1px rgba(0, 0, 0, 0.15);\n",
              "      filter: drop-shadow(0px 1px 2px rgba(0, 0, 0, 0.3));\n",
              "      fill: #FFFFFF;\n",
              "    }\n",
              "  </style>\n",
              "\n",
              "      <script>\n",
              "        const buttonEl =\n",
              "          document.querySelector('#df-038cabf8-7c74-4016-a006-27228c64dd89 button.colab-df-convert');\n",
              "        buttonEl.style.display =\n",
              "          google.colab.kernel.accessAllowed ? 'block' : 'none';\n",
              "\n",
              "        async function convertToInteractive(key) {\n",
              "          const element = document.querySelector('#df-038cabf8-7c74-4016-a006-27228c64dd89');\n",
              "          const dataTable =\n",
              "            await google.colab.kernel.invokeFunction('convertToInteractive',\n",
              "                                                     [key], {});\n",
              "          if (!dataTable) return;\n",
              "\n",
              "          const docLinkHtml = 'Like what you see? Visit the ' +\n",
              "            '<a target=\"_blank\" href=https://colab.research.google.com/notebooks/data_table.ipynb>data table notebook</a>'\n",
              "            + ' to learn more about interactive tables.';\n",
              "          element.innerHTML = '';\n",
              "          dataTable['output_type'] = 'display_data';\n",
              "          await google.colab.output.renderOutput(dataTable, element);\n",
              "          const docLink = document.createElement('div');\n",
              "          docLink.innerHTML = docLinkHtml;\n",
              "          element.appendChild(docLink);\n",
              "        }\n",
              "      </script>\n",
              "    </div>\n",
              "  </div>\n",
              "  "
            ]
          },
          "metadata": {},
          "execution_count": 25
        }
      ]
    },
    {
      "cell_type": "code",
      "source": [
        "df[df['Quantity'] < -5000]"
      ],
      "metadata": {
        "colab": {
          "base_uri": "https://localhost:8080/",
          "height": 143
        },
        "id": "azMgnHTKFBaM",
        "outputId": "29e140d9-4fb9-4d7c-e99e-c7295c1ccaae"
      },
      "execution_count": 26,
      "outputs": [
        {
          "output_type": "execute_result",
          "data": {
            "text/plain": [
              "       InvoiceNo StockCode                          Description  Quantity  \\\n",
              "4287     C536757     84347  ROTATING SILVER ANGELS T-LIGHT HLDR     -9360   \n",
              "61624    C541433     23166       MEDIUM CERAMIC TOP STORAGE JAR    -74215   \n",
              "540422   C581484     23843          PAPER CRAFT , LITTLE BIRDIE    -80995   \n",
              "\n",
              "               InvoiceDate  UnitPrice  CustomerID         Country  \n",
              "4287   2010-12-02 14:23:00       0.03     15838.0  United Kingdom  \n",
              "61624  2011-01-18 10:17:00       1.04     12346.0  United Kingdom  \n",
              "540422 2011-12-09 09:27:00       2.08     16446.0  United Kingdom  "
            ],
            "text/html": [
              "\n",
              "  <div id=\"df-90f4f511-c80f-436c-ba46-10c3cc989359\">\n",
              "    <div class=\"colab-df-container\">\n",
              "      <div>\n",
              "<style scoped>\n",
              "    .dataframe tbody tr th:only-of-type {\n",
              "        vertical-align: middle;\n",
              "    }\n",
              "\n",
              "    .dataframe tbody tr th {\n",
              "        vertical-align: top;\n",
              "    }\n",
              "\n",
              "    .dataframe thead th {\n",
              "        text-align: right;\n",
              "    }\n",
              "</style>\n",
              "<table border=\"1\" class=\"dataframe\">\n",
              "  <thead>\n",
              "    <tr style=\"text-align: right;\">\n",
              "      <th></th>\n",
              "      <th>InvoiceNo</th>\n",
              "      <th>StockCode</th>\n",
              "      <th>Description</th>\n",
              "      <th>Quantity</th>\n",
              "      <th>InvoiceDate</th>\n",
              "      <th>UnitPrice</th>\n",
              "      <th>CustomerID</th>\n",
              "      <th>Country</th>\n",
              "    </tr>\n",
              "  </thead>\n",
              "  <tbody>\n",
              "    <tr>\n",
              "      <th>4287</th>\n",
              "      <td>C536757</td>\n",
              "      <td>84347</td>\n",
              "      <td>ROTATING SILVER ANGELS T-LIGHT HLDR</td>\n",
              "      <td>-9360</td>\n",
              "      <td>2010-12-02 14:23:00</td>\n",
              "      <td>0.03</td>\n",
              "      <td>15838.0</td>\n",
              "      <td>United Kingdom</td>\n",
              "    </tr>\n",
              "    <tr>\n",
              "      <th>61624</th>\n",
              "      <td>C541433</td>\n",
              "      <td>23166</td>\n",
              "      <td>MEDIUM CERAMIC TOP STORAGE JAR</td>\n",
              "      <td>-74215</td>\n",
              "      <td>2011-01-18 10:17:00</td>\n",
              "      <td>1.04</td>\n",
              "      <td>12346.0</td>\n",
              "      <td>United Kingdom</td>\n",
              "    </tr>\n",
              "    <tr>\n",
              "      <th>540422</th>\n",
              "      <td>C581484</td>\n",
              "      <td>23843</td>\n",
              "      <td>PAPER CRAFT , LITTLE BIRDIE</td>\n",
              "      <td>-80995</td>\n",
              "      <td>2011-12-09 09:27:00</td>\n",
              "      <td>2.08</td>\n",
              "      <td>16446.0</td>\n",
              "      <td>United Kingdom</td>\n",
              "    </tr>\n",
              "  </tbody>\n",
              "</table>\n",
              "</div>\n",
              "      <button class=\"colab-df-convert\" onclick=\"convertToInteractive('df-90f4f511-c80f-436c-ba46-10c3cc989359')\"\n",
              "              title=\"Convert this dataframe to an interactive table.\"\n",
              "              style=\"display:none;\">\n",
              "        \n",
              "  <svg xmlns=\"http://www.w3.org/2000/svg\" height=\"24px\"viewBox=\"0 0 24 24\"\n",
              "       width=\"24px\">\n",
              "    <path d=\"M0 0h24v24H0V0z\" fill=\"none\"/>\n",
              "    <path d=\"M18.56 5.44l.94 2.06.94-2.06 2.06-.94-2.06-.94-.94-2.06-.94 2.06-2.06.94zm-11 1L8.5 8.5l.94-2.06 2.06-.94-2.06-.94L8.5 2.5l-.94 2.06-2.06.94zm10 10l.94 2.06.94-2.06 2.06-.94-2.06-.94-.94-2.06-.94 2.06-2.06.94z\"/><path d=\"M17.41 7.96l-1.37-1.37c-.4-.4-.92-.59-1.43-.59-.52 0-1.04.2-1.43.59L10.3 9.45l-7.72 7.72c-.78.78-.78 2.05 0 2.83L4 21.41c.39.39.9.59 1.41.59.51 0 1.02-.2 1.41-.59l7.78-7.78 2.81-2.81c.8-.78.8-2.07 0-2.86zM5.41 20L4 18.59l7.72-7.72 1.47 1.35L5.41 20z\"/>\n",
              "  </svg>\n",
              "      </button>\n",
              "      \n",
              "  <style>\n",
              "    .colab-df-container {\n",
              "      display:flex;\n",
              "      flex-wrap:wrap;\n",
              "      gap: 12px;\n",
              "    }\n",
              "\n",
              "    .colab-df-convert {\n",
              "      background-color: #E8F0FE;\n",
              "      border: none;\n",
              "      border-radius: 50%;\n",
              "      cursor: pointer;\n",
              "      display: none;\n",
              "      fill: #1967D2;\n",
              "      height: 32px;\n",
              "      padding: 0 0 0 0;\n",
              "      width: 32px;\n",
              "    }\n",
              "\n",
              "    .colab-df-convert:hover {\n",
              "      background-color: #E2EBFA;\n",
              "      box-shadow: 0px 1px 2px rgba(60, 64, 67, 0.3), 0px 1px 3px 1px rgba(60, 64, 67, 0.15);\n",
              "      fill: #174EA6;\n",
              "    }\n",
              "\n",
              "    [theme=dark] .colab-df-convert {\n",
              "      background-color: #3B4455;\n",
              "      fill: #D2E3FC;\n",
              "    }\n",
              "\n",
              "    [theme=dark] .colab-df-convert:hover {\n",
              "      background-color: #434B5C;\n",
              "      box-shadow: 0px 1px 3px 1px rgba(0, 0, 0, 0.15);\n",
              "      filter: drop-shadow(0px 1px 2px rgba(0, 0, 0, 0.3));\n",
              "      fill: #FFFFFF;\n",
              "    }\n",
              "  </style>\n",
              "\n",
              "      <script>\n",
              "        const buttonEl =\n",
              "          document.querySelector('#df-90f4f511-c80f-436c-ba46-10c3cc989359 button.colab-df-convert');\n",
              "        buttonEl.style.display =\n",
              "          google.colab.kernel.accessAllowed ? 'block' : 'none';\n",
              "\n",
              "        async function convertToInteractive(key) {\n",
              "          const element = document.querySelector('#df-90f4f511-c80f-436c-ba46-10c3cc989359');\n",
              "          const dataTable =\n",
              "            await google.colab.kernel.invokeFunction('convertToInteractive',\n",
              "                                                     [key], {});\n",
              "          if (!dataTable) return;\n",
              "\n",
              "          const docLinkHtml = 'Like what you see? Visit the ' +\n",
              "            '<a target=\"_blank\" href=https://colab.research.google.com/notebooks/data_table.ipynb>data table notebook</a>'\n",
              "            + ' to learn more about interactive tables.';\n",
              "          element.innerHTML = '';\n",
              "          dataTable['output_type'] = 'display_data';\n",
              "          await google.colab.output.renderOutput(dataTable, element);\n",
              "          const docLink = document.createElement('div');\n",
              "          docLink.innerHTML = docLinkHtml;\n",
              "          element.appendChild(docLink);\n",
              "        }\n",
              "      </script>\n",
              "    </div>\n",
              "  </div>\n",
              "  "
            ]
          },
          "metadata": {},
          "execution_count": 26
        }
      ]
    },
    {
      "cell_type": "markdown",
      "source": [
        "* Transactions with extreme 'Quantity' more than 5000 was already cancelled, maybe these orders was placed by mistake.\n",
        "* for rest of the extreme quantity values which are less than 5000, cannot consider them as outliers because most of the customers are wholeseller, so it is possible they buy in thousands of quantity.  "
      ],
      "metadata": {
        "id": "1WRysZKGPqAq"
      }
    },
    {
      "cell_type": "markdown",
      "source": [
        "### checking transactions with 'UnitPrice' more than 1000 dollar."
      ],
      "metadata": {
        "id": "ixsCqkDBq2Vy"
      }
    },
    {
      "cell_type": "code",
      "source": [
        "df[(df['UnitPrice'] > 1000) & (~df['InvoiceNo'].str.contains('C'))]"
      ],
      "metadata": {
        "colab": {
          "base_uri": "https://localhost:8080/",
          "height": 708
        },
        "id": "wk65DoOzRa2Y",
        "outputId": "c321b160-a17e-477d-91db-f3f12f7c5b99"
      },
      "execution_count": 27,
      "outputs": [
        {
          "output_type": "execute_result",
          "data": {
            "text/plain": [
              "       InvoiceNo StockCode     Description  Quantity         InvoiceDate  \\\n",
              "117054    546328         M          Manual         1 2011-03-11 10:19:00   \n",
              "117055    546329         M          Manual         1 2011-03-11 10:22:00   \n",
              "144826    548813         M          Manual         1 2011-04-04 13:03:00   \n",
              "144828    548813         M          Manual         1 2011-04-04 13:03:00   \n",
              "144829    548820         M          Manual         1 2011-04-04 13:04:00   \n",
              "145831    548913         M          Manual         1 2011-04-05 09:45:00   \n",
              "150615    549468         M          Manual         1 2011-04-08 14:27:00   \n",
              "173382    551697      POST         POSTAGE         1 2011-05-03 13:46:00   \n",
              "200745    554155         M          Manual         1 2011-05-23 11:26:00   \n",
              "201553    554301         M          Manual         1 2011-05-23 14:46:00   \n",
              "297438    562946         M          Manual         1 2011-08-11 09:38:00   \n",
              "343000    566927         M          Manual         1 2011-09-15 15:20:00   \n",
              "374542    569382         M          Manual         1 2011-10-03 16:44:00   \n",
              "406406    571751         M          Manual         1 2011-10-19 11:18:00   \n",
              "406407    571751         M          Manual         1 2011-10-19 11:18:00   \n",
              "422351    573077         M          Manual         1 2011-10-27 14:13:00   \n",
              "422376    573080         M          Manual         1 2011-10-27 14:20:00   \n",
              "467436    576339       DOT  DOTCOM POSTAGE         1 2011-11-14 15:27:00   \n",
              "494728    578270       DOT  DOTCOM POSTAGE         1 2011-11-23 13:39:00   \n",
              "508459    579196       DOT  DOTCOM POSTAGE         1 2011-11-28 15:54:00   \n",
              "528082    580727       DOT  DOTCOM POSTAGE         1 2011-12-05 17:17:00   \n",
              "\n",
              "        UnitPrice  CustomerID         Country  \n",
              "117054    1687.17     14911.0            EIRE  \n",
              "117055    1687.17     14911.0            EIRE  \n",
              "144826    2382.92     12744.0       Singapore  \n",
              "144828    1252.95     12744.0       Singapore  \n",
              "144829    2053.07     12744.0       Singapore  \n",
              "145831    1136.30     12669.0          France  \n",
              "150615    1867.86     17940.0  United Kingdom  \n",
              "173382    8142.75     16029.0  United Kingdom  \n",
              "200745    1241.98     12757.0        Portugal  \n",
              "201553    1241.98     12757.0        Portugal  \n",
              "297438    2500.00     15581.0  United Kingdom  \n",
              "343000    2033.10     17846.0  United Kingdom  \n",
              "374542    3155.95     15502.0  United Kingdom  \n",
              "406406    3949.32     12744.0       Singapore  \n",
              "406407    2118.74     12744.0       Singapore  \n",
              "422351    4161.06     12536.0          France  \n",
              "422376    4161.06     12536.0          France  \n",
              "467436    1500.36     14096.0  United Kingdom  \n",
              "494728    1270.06     14096.0  United Kingdom  \n",
              "508459    1526.76     14096.0  United Kingdom  \n",
              "528082    1599.26     14096.0  United Kingdom  "
            ],
            "text/html": [
              "\n",
              "  <div id=\"df-2d975737-beb8-479c-8d11-80bb2905f941\">\n",
              "    <div class=\"colab-df-container\">\n",
              "      <div>\n",
              "<style scoped>\n",
              "    .dataframe tbody tr th:only-of-type {\n",
              "        vertical-align: middle;\n",
              "    }\n",
              "\n",
              "    .dataframe tbody tr th {\n",
              "        vertical-align: top;\n",
              "    }\n",
              "\n",
              "    .dataframe thead th {\n",
              "        text-align: right;\n",
              "    }\n",
              "</style>\n",
              "<table border=\"1\" class=\"dataframe\">\n",
              "  <thead>\n",
              "    <tr style=\"text-align: right;\">\n",
              "      <th></th>\n",
              "      <th>InvoiceNo</th>\n",
              "      <th>StockCode</th>\n",
              "      <th>Description</th>\n",
              "      <th>Quantity</th>\n",
              "      <th>InvoiceDate</th>\n",
              "      <th>UnitPrice</th>\n",
              "      <th>CustomerID</th>\n",
              "      <th>Country</th>\n",
              "    </tr>\n",
              "  </thead>\n",
              "  <tbody>\n",
              "    <tr>\n",
              "      <th>117054</th>\n",
              "      <td>546328</td>\n",
              "      <td>M</td>\n",
              "      <td>Manual</td>\n",
              "      <td>1</td>\n",
              "      <td>2011-03-11 10:19:00</td>\n",
              "      <td>1687.17</td>\n",
              "      <td>14911.0</td>\n",
              "      <td>EIRE</td>\n",
              "    </tr>\n",
              "    <tr>\n",
              "      <th>117055</th>\n",
              "      <td>546329</td>\n",
              "      <td>M</td>\n",
              "      <td>Manual</td>\n",
              "      <td>1</td>\n",
              "      <td>2011-03-11 10:22:00</td>\n",
              "      <td>1687.17</td>\n",
              "      <td>14911.0</td>\n",
              "      <td>EIRE</td>\n",
              "    </tr>\n",
              "    <tr>\n",
              "      <th>144826</th>\n",
              "      <td>548813</td>\n",
              "      <td>M</td>\n",
              "      <td>Manual</td>\n",
              "      <td>1</td>\n",
              "      <td>2011-04-04 13:03:00</td>\n",
              "      <td>2382.92</td>\n",
              "      <td>12744.0</td>\n",
              "      <td>Singapore</td>\n",
              "    </tr>\n",
              "    <tr>\n",
              "      <th>144828</th>\n",
              "      <td>548813</td>\n",
              "      <td>M</td>\n",
              "      <td>Manual</td>\n",
              "      <td>1</td>\n",
              "      <td>2011-04-04 13:03:00</td>\n",
              "      <td>1252.95</td>\n",
              "      <td>12744.0</td>\n",
              "      <td>Singapore</td>\n",
              "    </tr>\n",
              "    <tr>\n",
              "      <th>144829</th>\n",
              "      <td>548820</td>\n",
              "      <td>M</td>\n",
              "      <td>Manual</td>\n",
              "      <td>1</td>\n",
              "      <td>2011-04-04 13:04:00</td>\n",
              "      <td>2053.07</td>\n",
              "      <td>12744.0</td>\n",
              "      <td>Singapore</td>\n",
              "    </tr>\n",
              "    <tr>\n",
              "      <th>145831</th>\n",
              "      <td>548913</td>\n",
              "      <td>M</td>\n",
              "      <td>Manual</td>\n",
              "      <td>1</td>\n",
              "      <td>2011-04-05 09:45:00</td>\n",
              "      <td>1136.30</td>\n",
              "      <td>12669.0</td>\n",
              "      <td>France</td>\n",
              "    </tr>\n",
              "    <tr>\n",
              "      <th>150615</th>\n",
              "      <td>549468</td>\n",
              "      <td>M</td>\n",
              "      <td>Manual</td>\n",
              "      <td>1</td>\n",
              "      <td>2011-04-08 14:27:00</td>\n",
              "      <td>1867.86</td>\n",
              "      <td>17940.0</td>\n",
              "      <td>United Kingdom</td>\n",
              "    </tr>\n",
              "    <tr>\n",
              "      <th>173382</th>\n",
              "      <td>551697</td>\n",
              "      <td>POST</td>\n",
              "      <td>POSTAGE</td>\n",
              "      <td>1</td>\n",
              "      <td>2011-05-03 13:46:00</td>\n",
              "      <td>8142.75</td>\n",
              "      <td>16029.0</td>\n",
              "      <td>United Kingdom</td>\n",
              "    </tr>\n",
              "    <tr>\n",
              "      <th>200745</th>\n",
              "      <td>554155</td>\n",
              "      <td>M</td>\n",
              "      <td>Manual</td>\n",
              "      <td>1</td>\n",
              "      <td>2011-05-23 11:26:00</td>\n",
              "      <td>1241.98</td>\n",
              "      <td>12757.0</td>\n",
              "      <td>Portugal</td>\n",
              "    </tr>\n",
              "    <tr>\n",
              "      <th>201553</th>\n",
              "      <td>554301</td>\n",
              "      <td>M</td>\n",
              "      <td>Manual</td>\n",
              "      <td>1</td>\n",
              "      <td>2011-05-23 14:46:00</td>\n",
              "      <td>1241.98</td>\n",
              "      <td>12757.0</td>\n",
              "      <td>Portugal</td>\n",
              "    </tr>\n",
              "    <tr>\n",
              "      <th>297438</th>\n",
              "      <td>562946</td>\n",
              "      <td>M</td>\n",
              "      <td>Manual</td>\n",
              "      <td>1</td>\n",
              "      <td>2011-08-11 09:38:00</td>\n",
              "      <td>2500.00</td>\n",
              "      <td>15581.0</td>\n",
              "      <td>United Kingdom</td>\n",
              "    </tr>\n",
              "    <tr>\n",
              "      <th>343000</th>\n",
              "      <td>566927</td>\n",
              "      <td>M</td>\n",
              "      <td>Manual</td>\n",
              "      <td>1</td>\n",
              "      <td>2011-09-15 15:20:00</td>\n",
              "      <td>2033.10</td>\n",
              "      <td>17846.0</td>\n",
              "      <td>United Kingdom</td>\n",
              "    </tr>\n",
              "    <tr>\n",
              "      <th>374542</th>\n",
              "      <td>569382</td>\n",
              "      <td>M</td>\n",
              "      <td>Manual</td>\n",
              "      <td>1</td>\n",
              "      <td>2011-10-03 16:44:00</td>\n",
              "      <td>3155.95</td>\n",
              "      <td>15502.0</td>\n",
              "      <td>United Kingdom</td>\n",
              "    </tr>\n",
              "    <tr>\n",
              "      <th>406406</th>\n",
              "      <td>571751</td>\n",
              "      <td>M</td>\n",
              "      <td>Manual</td>\n",
              "      <td>1</td>\n",
              "      <td>2011-10-19 11:18:00</td>\n",
              "      <td>3949.32</td>\n",
              "      <td>12744.0</td>\n",
              "      <td>Singapore</td>\n",
              "    </tr>\n",
              "    <tr>\n",
              "      <th>406407</th>\n",
              "      <td>571751</td>\n",
              "      <td>M</td>\n",
              "      <td>Manual</td>\n",
              "      <td>1</td>\n",
              "      <td>2011-10-19 11:18:00</td>\n",
              "      <td>2118.74</td>\n",
              "      <td>12744.0</td>\n",
              "      <td>Singapore</td>\n",
              "    </tr>\n",
              "    <tr>\n",
              "      <th>422351</th>\n",
              "      <td>573077</td>\n",
              "      <td>M</td>\n",
              "      <td>Manual</td>\n",
              "      <td>1</td>\n",
              "      <td>2011-10-27 14:13:00</td>\n",
              "      <td>4161.06</td>\n",
              "      <td>12536.0</td>\n",
              "      <td>France</td>\n",
              "    </tr>\n",
              "    <tr>\n",
              "      <th>422376</th>\n",
              "      <td>573080</td>\n",
              "      <td>M</td>\n",
              "      <td>Manual</td>\n",
              "      <td>1</td>\n",
              "      <td>2011-10-27 14:20:00</td>\n",
              "      <td>4161.06</td>\n",
              "      <td>12536.0</td>\n",
              "      <td>France</td>\n",
              "    </tr>\n",
              "    <tr>\n",
              "      <th>467436</th>\n",
              "      <td>576339</td>\n",
              "      <td>DOT</td>\n",
              "      <td>DOTCOM POSTAGE</td>\n",
              "      <td>1</td>\n",
              "      <td>2011-11-14 15:27:00</td>\n",
              "      <td>1500.36</td>\n",
              "      <td>14096.0</td>\n",
              "      <td>United Kingdom</td>\n",
              "    </tr>\n",
              "    <tr>\n",
              "      <th>494728</th>\n",
              "      <td>578270</td>\n",
              "      <td>DOT</td>\n",
              "      <td>DOTCOM POSTAGE</td>\n",
              "      <td>1</td>\n",
              "      <td>2011-11-23 13:39:00</td>\n",
              "      <td>1270.06</td>\n",
              "      <td>14096.0</td>\n",
              "      <td>United Kingdom</td>\n",
              "    </tr>\n",
              "    <tr>\n",
              "      <th>508459</th>\n",
              "      <td>579196</td>\n",
              "      <td>DOT</td>\n",
              "      <td>DOTCOM POSTAGE</td>\n",
              "      <td>1</td>\n",
              "      <td>2011-11-28 15:54:00</td>\n",
              "      <td>1526.76</td>\n",
              "      <td>14096.0</td>\n",
              "      <td>United Kingdom</td>\n",
              "    </tr>\n",
              "    <tr>\n",
              "      <th>528082</th>\n",
              "      <td>580727</td>\n",
              "      <td>DOT</td>\n",
              "      <td>DOTCOM POSTAGE</td>\n",
              "      <td>1</td>\n",
              "      <td>2011-12-05 17:17:00</td>\n",
              "      <td>1599.26</td>\n",
              "      <td>14096.0</td>\n",
              "      <td>United Kingdom</td>\n",
              "    </tr>\n",
              "  </tbody>\n",
              "</table>\n",
              "</div>\n",
              "      <button class=\"colab-df-convert\" onclick=\"convertToInteractive('df-2d975737-beb8-479c-8d11-80bb2905f941')\"\n",
              "              title=\"Convert this dataframe to an interactive table.\"\n",
              "              style=\"display:none;\">\n",
              "        \n",
              "  <svg xmlns=\"http://www.w3.org/2000/svg\" height=\"24px\"viewBox=\"0 0 24 24\"\n",
              "       width=\"24px\">\n",
              "    <path d=\"M0 0h24v24H0V0z\" fill=\"none\"/>\n",
              "    <path d=\"M18.56 5.44l.94 2.06.94-2.06 2.06-.94-2.06-.94-.94-2.06-.94 2.06-2.06.94zm-11 1L8.5 8.5l.94-2.06 2.06-.94-2.06-.94L8.5 2.5l-.94 2.06-2.06.94zm10 10l.94 2.06.94-2.06 2.06-.94-2.06-.94-.94-2.06-.94 2.06-2.06.94z\"/><path d=\"M17.41 7.96l-1.37-1.37c-.4-.4-.92-.59-1.43-.59-.52 0-1.04.2-1.43.59L10.3 9.45l-7.72 7.72c-.78.78-.78 2.05 0 2.83L4 21.41c.39.39.9.59 1.41.59.51 0 1.02-.2 1.41-.59l7.78-7.78 2.81-2.81c.8-.78.8-2.07 0-2.86zM5.41 20L4 18.59l7.72-7.72 1.47 1.35L5.41 20z\"/>\n",
              "  </svg>\n",
              "      </button>\n",
              "      \n",
              "  <style>\n",
              "    .colab-df-container {\n",
              "      display:flex;\n",
              "      flex-wrap:wrap;\n",
              "      gap: 12px;\n",
              "    }\n",
              "\n",
              "    .colab-df-convert {\n",
              "      background-color: #E8F0FE;\n",
              "      border: none;\n",
              "      border-radius: 50%;\n",
              "      cursor: pointer;\n",
              "      display: none;\n",
              "      fill: #1967D2;\n",
              "      height: 32px;\n",
              "      padding: 0 0 0 0;\n",
              "      width: 32px;\n",
              "    }\n",
              "\n",
              "    .colab-df-convert:hover {\n",
              "      background-color: #E2EBFA;\n",
              "      box-shadow: 0px 1px 2px rgba(60, 64, 67, 0.3), 0px 1px 3px 1px rgba(60, 64, 67, 0.15);\n",
              "      fill: #174EA6;\n",
              "    }\n",
              "\n",
              "    [theme=dark] .colab-df-convert {\n",
              "      background-color: #3B4455;\n",
              "      fill: #D2E3FC;\n",
              "    }\n",
              "\n",
              "    [theme=dark] .colab-df-convert:hover {\n",
              "      background-color: #434B5C;\n",
              "      box-shadow: 0px 1px 3px 1px rgba(0, 0, 0, 0.15);\n",
              "      filter: drop-shadow(0px 1px 2px rgba(0, 0, 0, 0.3));\n",
              "      fill: #FFFFFF;\n",
              "    }\n",
              "  </style>\n",
              "\n",
              "      <script>\n",
              "        const buttonEl =\n",
              "          document.querySelector('#df-2d975737-beb8-479c-8d11-80bb2905f941 button.colab-df-convert');\n",
              "        buttonEl.style.display =\n",
              "          google.colab.kernel.accessAllowed ? 'block' : 'none';\n",
              "\n",
              "        async function convertToInteractive(key) {\n",
              "          const element = document.querySelector('#df-2d975737-beb8-479c-8d11-80bb2905f941');\n",
              "          const dataTable =\n",
              "            await google.colab.kernel.invokeFunction('convertToInteractive',\n",
              "                                                     [key], {});\n",
              "          if (!dataTable) return;\n",
              "\n",
              "          const docLinkHtml = 'Like what you see? Visit the ' +\n",
              "            '<a target=\"_blank\" href=https://colab.research.google.com/notebooks/data_table.ipynb>data table notebook</a>'\n",
              "            + ' to learn more about interactive tables.';\n",
              "          element.innerHTML = '';\n",
              "          dataTable['output_type'] = 'display_data';\n",
              "          await google.colab.output.renderOutput(dataTable, element);\n",
              "          const docLink = document.createElement('div');\n",
              "          docLink.innerHTML = docLinkHtml;\n",
              "          element.appendChild(docLink);\n",
              "        }\n",
              "      </script>\n",
              "    </div>\n",
              "  </div>\n",
              "  "
            ]
          },
          "metadata": {},
          "execution_count": 27
        }
      ]
    },
    {
      "cell_type": "code",
      "source": [
        "df[(df['UnitPrice'] > 1000) & (df['InvoiceNo'].str.contains('C'))]"
      ],
      "metadata": {
        "colab": {
          "base_uri": "https://localhost:8080/",
          "height": 833
        },
        "id": "IdjJBZX6Ru7_",
        "outputId": "8ceec5fa-9fa3-4a9d-b5eb-7c4676e06935"
      },
      "execution_count": 28,
      "outputs": [
        {
          "output_type": "execute_result",
          "data": {
            "text/plain": [
              "       InvoiceNo StockCode      Description  Quantity         InvoiceDate  \\\n",
              "45622    C540271         M           Manual        -1 2011-01-06 11:51:00   \n",
              "73446    C542348         M           Manual        -1 2011-01-27 12:09:00   \n",
              "117052   C546325         M           Manual        -1 2011-03-11 10:15:00   \n",
              "117053   C546327         M           Manual        -1 2011-03-11 10:18:00   \n",
              "144831   C548830         M           Manual        -1 2011-04-04 13:08:00   \n",
              "144833   C548830         M           Manual        -1 2011-04-04 13:08:00   \n",
              "144834   C548834         M           Manual        -1 2011-04-04 13:09:00   \n",
              "145832   C548914         M           Manual        -1 2011-04-05 09:46:00   \n",
              "150591   C549452         D         Discount        -1 2011-04-08 14:17:00   \n",
              "173277   C551685      POST          POSTAGE        -1 2011-05-03 12:51:00   \n",
              "173391   C551699         M           Manual        -1 2011-05-03 14:12:00   \n",
              "200744   C554154         M           Manual        -1 2011-05-23 11:24:00   \n",
              "201554   C554302         M           Manual        -1 2011-05-23 14:50:00   \n",
              "222681   C556445         M           Manual        -1 2011-06-10 15:31:00   \n",
              "268027   C560372         M           Manual        -1 2011-07-18 12:26:00   \n",
              "268431   C560420         M           Manual        -1 2011-07-18 15:11:00   \n",
              "271151   C560647         M           Manual        -1 2011-07-20 11:31:00   \n",
              "293842   C562647         M           Manual        -1 2011-08-08 12:56:00   \n",
              "297369   C562938         M           Manual        -1 2011-08-10 17:14:00   \n",
              "342996   C566925         M           Manual        -1 2011-09-15 15:18:00   \n",
              "406404   C571750         M           Manual        -1 2011-10-19 11:16:00   \n",
              "406405   C571750         M           Manual        -1 2011-10-19 11:16:00   \n",
              "422375   C573079         M           Manual        -2 2011-10-27 14:15:00   \n",
              "467437   C576338      CRUK  CRUK Commission        -1 2011-11-14 15:27:00   \n",
              "528087   C580726      CRUK  CRUK Commission        -1 2011-12-05 17:17:00   \n",
              "\n",
              "        UnitPrice  CustomerID         Country  \n",
              "45622     1126.00     12503.0           Spain  \n",
              "73446     1715.85     12539.0           Spain  \n",
              "117052    1687.17     14911.0            EIRE  \n",
              "117053    1687.17     14911.0            EIRE  \n",
              "144831    2382.92     12744.0       Singapore  \n",
              "144833    1252.95     12744.0       Singapore  \n",
              "144834    2053.07     12744.0       Singapore  \n",
              "145832    1136.30     12669.0          France  \n",
              "150591    1867.86     17940.0  United Kingdom  \n",
              "173277    8142.75     16029.0  United Kingdom  \n",
              "173391    6930.00     16029.0  United Kingdom  \n",
              "200744    1241.98     12757.0        Portugal  \n",
              "201554    1241.98     12757.0        Portugal  \n",
              "222681   38970.00     15098.0  United Kingdom  \n",
              "268027    4287.63     17448.0  United Kingdom  \n",
              "268431    1592.49     15369.0  United Kingdom  \n",
              "271151    3060.60     18102.0  United Kingdom  \n",
              "293842    3155.95     15502.0  United Kingdom  \n",
              "297369    1121.18     14156.0            EIRE  \n",
              "342996    1829.84     12748.0  United Kingdom  \n",
              "406404    3949.32     12744.0       Singapore  \n",
              "406405    2118.74     12744.0       Singapore  \n",
              "422375    4161.06     12536.0          France  \n",
              "467437    1038.75     14096.0  United Kingdom  \n",
              "528087    1100.44     14096.0  United Kingdom  "
            ],
            "text/html": [
              "\n",
              "  <div id=\"df-a04cbd96-4fb3-40a9-b301-fadb361ff321\">\n",
              "    <div class=\"colab-df-container\">\n",
              "      <div>\n",
              "<style scoped>\n",
              "    .dataframe tbody tr th:only-of-type {\n",
              "        vertical-align: middle;\n",
              "    }\n",
              "\n",
              "    .dataframe tbody tr th {\n",
              "        vertical-align: top;\n",
              "    }\n",
              "\n",
              "    .dataframe thead th {\n",
              "        text-align: right;\n",
              "    }\n",
              "</style>\n",
              "<table border=\"1\" class=\"dataframe\">\n",
              "  <thead>\n",
              "    <tr style=\"text-align: right;\">\n",
              "      <th></th>\n",
              "      <th>InvoiceNo</th>\n",
              "      <th>StockCode</th>\n",
              "      <th>Description</th>\n",
              "      <th>Quantity</th>\n",
              "      <th>InvoiceDate</th>\n",
              "      <th>UnitPrice</th>\n",
              "      <th>CustomerID</th>\n",
              "      <th>Country</th>\n",
              "    </tr>\n",
              "  </thead>\n",
              "  <tbody>\n",
              "    <tr>\n",
              "      <th>45622</th>\n",
              "      <td>C540271</td>\n",
              "      <td>M</td>\n",
              "      <td>Manual</td>\n",
              "      <td>-1</td>\n",
              "      <td>2011-01-06 11:51:00</td>\n",
              "      <td>1126.00</td>\n",
              "      <td>12503.0</td>\n",
              "      <td>Spain</td>\n",
              "    </tr>\n",
              "    <tr>\n",
              "      <th>73446</th>\n",
              "      <td>C542348</td>\n",
              "      <td>M</td>\n",
              "      <td>Manual</td>\n",
              "      <td>-1</td>\n",
              "      <td>2011-01-27 12:09:00</td>\n",
              "      <td>1715.85</td>\n",
              "      <td>12539.0</td>\n",
              "      <td>Spain</td>\n",
              "    </tr>\n",
              "    <tr>\n",
              "      <th>117052</th>\n",
              "      <td>C546325</td>\n",
              "      <td>M</td>\n",
              "      <td>Manual</td>\n",
              "      <td>-1</td>\n",
              "      <td>2011-03-11 10:15:00</td>\n",
              "      <td>1687.17</td>\n",
              "      <td>14911.0</td>\n",
              "      <td>EIRE</td>\n",
              "    </tr>\n",
              "    <tr>\n",
              "      <th>117053</th>\n",
              "      <td>C546327</td>\n",
              "      <td>M</td>\n",
              "      <td>Manual</td>\n",
              "      <td>-1</td>\n",
              "      <td>2011-03-11 10:18:00</td>\n",
              "      <td>1687.17</td>\n",
              "      <td>14911.0</td>\n",
              "      <td>EIRE</td>\n",
              "    </tr>\n",
              "    <tr>\n",
              "      <th>144831</th>\n",
              "      <td>C548830</td>\n",
              "      <td>M</td>\n",
              "      <td>Manual</td>\n",
              "      <td>-1</td>\n",
              "      <td>2011-04-04 13:08:00</td>\n",
              "      <td>2382.92</td>\n",
              "      <td>12744.0</td>\n",
              "      <td>Singapore</td>\n",
              "    </tr>\n",
              "    <tr>\n",
              "      <th>144833</th>\n",
              "      <td>C548830</td>\n",
              "      <td>M</td>\n",
              "      <td>Manual</td>\n",
              "      <td>-1</td>\n",
              "      <td>2011-04-04 13:08:00</td>\n",
              "      <td>1252.95</td>\n",
              "      <td>12744.0</td>\n",
              "      <td>Singapore</td>\n",
              "    </tr>\n",
              "    <tr>\n",
              "      <th>144834</th>\n",
              "      <td>C548834</td>\n",
              "      <td>M</td>\n",
              "      <td>Manual</td>\n",
              "      <td>-1</td>\n",
              "      <td>2011-04-04 13:09:00</td>\n",
              "      <td>2053.07</td>\n",
              "      <td>12744.0</td>\n",
              "      <td>Singapore</td>\n",
              "    </tr>\n",
              "    <tr>\n",
              "      <th>145832</th>\n",
              "      <td>C548914</td>\n",
              "      <td>M</td>\n",
              "      <td>Manual</td>\n",
              "      <td>-1</td>\n",
              "      <td>2011-04-05 09:46:00</td>\n",
              "      <td>1136.30</td>\n",
              "      <td>12669.0</td>\n",
              "      <td>France</td>\n",
              "    </tr>\n",
              "    <tr>\n",
              "      <th>150591</th>\n",
              "      <td>C549452</td>\n",
              "      <td>D</td>\n",
              "      <td>Discount</td>\n",
              "      <td>-1</td>\n",
              "      <td>2011-04-08 14:17:00</td>\n",
              "      <td>1867.86</td>\n",
              "      <td>17940.0</td>\n",
              "      <td>United Kingdom</td>\n",
              "    </tr>\n",
              "    <tr>\n",
              "      <th>173277</th>\n",
              "      <td>C551685</td>\n",
              "      <td>POST</td>\n",
              "      <td>POSTAGE</td>\n",
              "      <td>-1</td>\n",
              "      <td>2011-05-03 12:51:00</td>\n",
              "      <td>8142.75</td>\n",
              "      <td>16029.0</td>\n",
              "      <td>United Kingdom</td>\n",
              "    </tr>\n",
              "    <tr>\n",
              "      <th>173391</th>\n",
              "      <td>C551699</td>\n",
              "      <td>M</td>\n",
              "      <td>Manual</td>\n",
              "      <td>-1</td>\n",
              "      <td>2011-05-03 14:12:00</td>\n",
              "      <td>6930.00</td>\n",
              "      <td>16029.0</td>\n",
              "      <td>United Kingdom</td>\n",
              "    </tr>\n",
              "    <tr>\n",
              "      <th>200744</th>\n",
              "      <td>C554154</td>\n",
              "      <td>M</td>\n",
              "      <td>Manual</td>\n",
              "      <td>-1</td>\n",
              "      <td>2011-05-23 11:24:00</td>\n",
              "      <td>1241.98</td>\n",
              "      <td>12757.0</td>\n",
              "      <td>Portugal</td>\n",
              "    </tr>\n",
              "    <tr>\n",
              "      <th>201554</th>\n",
              "      <td>C554302</td>\n",
              "      <td>M</td>\n",
              "      <td>Manual</td>\n",
              "      <td>-1</td>\n",
              "      <td>2011-05-23 14:50:00</td>\n",
              "      <td>1241.98</td>\n",
              "      <td>12757.0</td>\n",
              "      <td>Portugal</td>\n",
              "    </tr>\n",
              "    <tr>\n",
              "      <th>222681</th>\n",
              "      <td>C556445</td>\n",
              "      <td>M</td>\n",
              "      <td>Manual</td>\n",
              "      <td>-1</td>\n",
              "      <td>2011-06-10 15:31:00</td>\n",
              "      <td>38970.00</td>\n",
              "      <td>15098.0</td>\n",
              "      <td>United Kingdom</td>\n",
              "    </tr>\n",
              "    <tr>\n",
              "      <th>268027</th>\n",
              "      <td>C560372</td>\n",
              "      <td>M</td>\n",
              "      <td>Manual</td>\n",
              "      <td>-1</td>\n",
              "      <td>2011-07-18 12:26:00</td>\n",
              "      <td>4287.63</td>\n",
              "      <td>17448.0</td>\n",
              "      <td>United Kingdom</td>\n",
              "    </tr>\n",
              "    <tr>\n",
              "      <th>268431</th>\n",
              "      <td>C560420</td>\n",
              "      <td>M</td>\n",
              "      <td>Manual</td>\n",
              "      <td>-1</td>\n",
              "      <td>2011-07-18 15:11:00</td>\n",
              "      <td>1592.49</td>\n",
              "      <td>15369.0</td>\n",
              "      <td>United Kingdom</td>\n",
              "    </tr>\n",
              "    <tr>\n",
              "      <th>271151</th>\n",
              "      <td>C560647</td>\n",
              "      <td>M</td>\n",
              "      <td>Manual</td>\n",
              "      <td>-1</td>\n",
              "      <td>2011-07-20 11:31:00</td>\n",
              "      <td>3060.60</td>\n",
              "      <td>18102.0</td>\n",
              "      <td>United Kingdom</td>\n",
              "    </tr>\n",
              "    <tr>\n",
              "      <th>293842</th>\n",
              "      <td>C562647</td>\n",
              "      <td>M</td>\n",
              "      <td>Manual</td>\n",
              "      <td>-1</td>\n",
              "      <td>2011-08-08 12:56:00</td>\n",
              "      <td>3155.95</td>\n",
              "      <td>15502.0</td>\n",
              "      <td>United Kingdom</td>\n",
              "    </tr>\n",
              "    <tr>\n",
              "      <th>297369</th>\n",
              "      <td>C562938</td>\n",
              "      <td>M</td>\n",
              "      <td>Manual</td>\n",
              "      <td>-1</td>\n",
              "      <td>2011-08-10 17:14:00</td>\n",
              "      <td>1121.18</td>\n",
              "      <td>14156.0</td>\n",
              "      <td>EIRE</td>\n",
              "    </tr>\n",
              "    <tr>\n",
              "      <th>342996</th>\n",
              "      <td>C566925</td>\n",
              "      <td>M</td>\n",
              "      <td>Manual</td>\n",
              "      <td>-1</td>\n",
              "      <td>2011-09-15 15:18:00</td>\n",
              "      <td>1829.84</td>\n",
              "      <td>12748.0</td>\n",
              "      <td>United Kingdom</td>\n",
              "    </tr>\n",
              "    <tr>\n",
              "      <th>406404</th>\n",
              "      <td>C571750</td>\n",
              "      <td>M</td>\n",
              "      <td>Manual</td>\n",
              "      <td>-1</td>\n",
              "      <td>2011-10-19 11:16:00</td>\n",
              "      <td>3949.32</td>\n",
              "      <td>12744.0</td>\n",
              "      <td>Singapore</td>\n",
              "    </tr>\n",
              "    <tr>\n",
              "      <th>406405</th>\n",
              "      <td>C571750</td>\n",
              "      <td>M</td>\n",
              "      <td>Manual</td>\n",
              "      <td>-1</td>\n",
              "      <td>2011-10-19 11:16:00</td>\n",
              "      <td>2118.74</td>\n",
              "      <td>12744.0</td>\n",
              "      <td>Singapore</td>\n",
              "    </tr>\n",
              "    <tr>\n",
              "      <th>422375</th>\n",
              "      <td>C573079</td>\n",
              "      <td>M</td>\n",
              "      <td>Manual</td>\n",
              "      <td>-2</td>\n",
              "      <td>2011-10-27 14:15:00</td>\n",
              "      <td>4161.06</td>\n",
              "      <td>12536.0</td>\n",
              "      <td>France</td>\n",
              "    </tr>\n",
              "    <tr>\n",
              "      <th>467437</th>\n",
              "      <td>C576338</td>\n",
              "      <td>CRUK</td>\n",
              "      <td>CRUK Commission</td>\n",
              "      <td>-1</td>\n",
              "      <td>2011-11-14 15:27:00</td>\n",
              "      <td>1038.75</td>\n",
              "      <td>14096.0</td>\n",
              "      <td>United Kingdom</td>\n",
              "    </tr>\n",
              "    <tr>\n",
              "      <th>528087</th>\n",
              "      <td>C580726</td>\n",
              "      <td>CRUK</td>\n",
              "      <td>CRUK Commission</td>\n",
              "      <td>-1</td>\n",
              "      <td>2011-12-05 17:17:00</td>\n",
              "      <td>1100.44</td>\n",
              "      <td>14096.0</td>\n",
              "      <td>United Kingdom</td>\n",
              "    </tr>\n",
              "  </tbody>\n",
              "</table>\n",
              "</div>\n",
              "      <button class=\"colab-df-convert\" onclick=\"convertToInteractive('df-a04cbd96-4fb3-40a9-b301-fadb361ff321')\"\n",
              "              title=\"Convert this dataframe to an interactive table.\"\n",
              "              style=\"display:none;\">\n",
              "        \n",
              "  <svg xmlns=\"http://www.w3.org/2000/svg\" height=\"24px\"viewBox=\"0 0 24 24\"\n",
              "       width=\"24px\">\n",
              "    <path d=\"M0 0h24v24H0V0z\" fill=\"none\"/>\n",
              "    <path d=\"M18.56 5.44l.94 2.06.94-2.06 2.06-.94-2.06-.94-.94-2.06-.94 2.06-2.06.94zm-11 1L8.5 8.5l.94-2.06 2.06-.94-2.06-.94L8.5 2.5l-.94 2.06-2.06.94zm10 10l.94 2.06.94-2.06 2.06-.94-2.06-.94-.94-2.06-.94 2.06-2.06.94z\"/><path d=\"M17.41 7.96l-1.37-1.37c-.4-.4-.92-.59-1.43-.59-.52 0-1.04.2-1.43.59L10.3 9.45l-7.72 7.72c-.78.78-.78 2.05 0 2.83L4 21.41c.39.39.9.59 1.41.59.51 0 1.02-.2 1.41-.59l7.78-7.78 2.81-2.81c.8-.78.8-2.07 0-2.86zM5.41 20L4 18.59l7.72-7.72 1.47 1.35L5.41 20z\"/>\n",
              "  </svg>\n",
              "      </button>\n",
              "      \n",
              "  <style>\n",
              "    .colab-df-container {\n",
              "      display:flex;\n",
              "      flex-wrap:wrap;\n",
              "      gap: 12px;\n",
              "    }\n",
              "\n",
              "    .colab-df-convert {\n",
              "      background-color: #E8F0FE;\n",
              "      border: none;\n",
              "      border-radius: 50%;\n",
              "      cursor: pointer;\n",
              "      display: none;\n",
              "      fill: #1967D2;\n",
              "      height: 32px;\n",
              "      padding: 0 0 0 0;\n",
              "      width: 32px;\n",
              "    }\n",
              "\n",
              "    .colab-df-convert:hover {\n",
              "      background-color: #E2EBFA;\n",
              "      box-shadow: 0px 1px 2px rgba(60, 64, 67, 0.3), 0px 1px 3px 1px rgba(60, 64, 67, 0.15);\n",
              "      fill: #174EA6;\n",
              "    }\n",
              "\n",
              "    [theme=dark] .colab-df-convert {\n",
              "      background-color: #3B4455;\n",
              "      fill: #D2E3FC;\n",
              "    }\n",
              "\n",
              "    [theme=dark] .colab-df-convert:hover {\n",
              "      background-color: #434B5C;\n",
              "      box-shadow: 0px 1px 3px 1px rgba(0, 0, 0, 0.15);\n",
              "      filter: drop-shadow(0px 1px 2px rgba(0, 0, 0, 0.3));\n",
              "      fill: #FFFFFF;\n",
              "    }\n",
              "  </style>\n",
              "\n",
              "      <script>\n",
              "        const buttonEl =\n",
              "          document.querySelector('#df-a04cbd96-4fb3-40a9-b301-fadb361ff321 button.colab-df-convert');\n",
              "        buttonEl.style.display =\n",
              "          google.colab.kernel.accessAllowed ? 'block' : 'none';\n",
              "\n",
              "        async function convertToInteractive(key) {\n",
              "          const element = document.querySelector('#df-a04cbd96-4fb3-40a9-b301-fadb361ff321');\n",
              "          const dataTable =\n",
              "            await google.colab.kernel.invokeFunction('convertToInteractive',\n",
              "                                                     [key], {});\n",
              "          if (!dataTable) return;\n",
              "\n",
              "          const docLinkHtml = 'Like what you see? Visit the ' +\n",
              "            '<a target=\"_blank\" href=https://colab.research.google.com/notebooks/data_table.ipynb>data table notebook</a>'\n",
              "            + ' to learn more about interactive tables.';\n",
              "          element.innerHTML = '';\n",
              "          dataTable['output_type'] = 'display_data';\n",
              "          await google.colab.output.renderOutput(dataTable, element);\n",
              "          const docLink = document.createElement('div');\n",
              "          docLink.innerHTML = docLinkHtml;\n",
              "          element.appendChild(docLink);\n",
              "        }\n",
              "      </script>\n",
              "    </div>\n",
              "  </div>\n",
              "  "
            ]
          },
          "metadata": {},
          "execution_count": 28
        }
      ]
    },
    {
      "cell_type": "markdown",
      "source": [
        "### Most of the transactions with 'UnitPrice' more than 1000 was already cancelled and most of their description says manual which could mean these are specially manufactured on customer's demand so it is possible that their price can be more than usual price. "
      ],
      "metadata": {
        "id": "cf7uYPIjw0R2"
      }
    },
    {
      "cell_type": "markdown",
      "source": [
        "### creating new variable 'TotalPrice' by multiplying 'Quantity' and 'UnitPrice'"
      ],
      "metadata": {
        "id": "7bS2KiNVjjq4"
      }
    },
    {
      "cell_type": "code",
      "source": [
        "# creating new variable 'TotalPrice'\n",
        "df['TotalPrice'] = df['Quantity'] * df['UnitPrice']"
      ],
      "metadata": {
        "id": "-J9pTzSeh9Vl"
      },
      "execution_count": 29,
      "outputs": []
    },
    {
      "cell_type": "markdown",
      "source": [
        "### Creating new columns by extracting different datetime components from 'InvoiceDate' for time series analysis. "
      ],
      "metadata": {
        "id": "JCRW_1jOkFvO"
      }
    },
    {
      "cell_type": "code",
      "source": [
        "# extracting 'year' from 'InvoiceDate'\n",
        "df['year'] = df['InvoiceDate'].dt.year\n",
        "\n",
        "# extracting 'month' from 'InvoiceDate'\n",
        "df['month'] = df['InvoiceDate'].dt.strftime('%b')\n",
        "\n",
        "# extracting 'day' from 'InvoiceDate'\n",
        "df['day'] = df['InvoiceDate'].dt.day\n",
        "\n",
        "# extracting 'weekday' from 'InvoiceDate'\n",
        "df['weekday'] = df['InvoiceDate'].dt.day_name()\n",
        "\n",
        "# extracting 'hour' from 'InvoiceDate'\n",
        "df['hour'] = df['InvoiceDate'].dt.hour"
      ],
      "metadata": {
        "id": "RgO9fKkHhekA"
      },
      "execution_count": 30,
      "outputs": []
    },
    {
      "cell_type": "code",
      "source": [
        "df.head()"
      ],
      "metadata": {
        "colab": {
          "base_uri": "https://localhost:8080/",
          "height": 337
        },
        "id": "4Np24pEez8dT",
        "outputId": "59369bd3-ac49-496b-f120-dffbfedcbc0d"
      },
      "execution_count": 31,
      "outputs": [
        {
          "output_type": "execute_result",
          "data": {
            "text/plain": [
              "  InvoiceNo StockCode                          Description  Quantity  \\\n",
              "0    536365    85123A   WHITE HANGING HEART T-LIGHT HOLDER         6   \n",
              "1    536365     71053                  WHITE METAL LANTERN         6   \n",
              "2    536365    84406B       CREAM CUPID HEARTS COAT HANGER         8   \n",
              "3    536365    84029G  KNITTED UNION FLAG HOT WATER BOTTLE         6   \n",
              "4    536365    84029E       RED WOOLLY HOTTIE WHITE HEART.         6   \n",
              "\n",
              "          InvoiceDate  UnitPrice  CustomerID         Country  TotalPrice  \\\n",
              "0 2010-12-01 08:26:00       2.55     17850.0  United Kingdom       15.30   \n",
              "1 2010-12-01 08:26:00       3.39     17850.0  United Kingdom       20.34   \n",
              "2 2010-12-01 08:26:00       2.75     17850.0  United Kingdom       22.00   \n",
              "3 2010-12-01 08:26:00       3.39     17850.0  United Kingdom       20.34   \n",
              "4 2010-12-01 08:26:00       3.39     17850.0  United Kingdom       20.34   \n",
              "\n",
              "   year month  day    weekday  hour  \n",
              "0  2010   Dec    1  Wednesday     8  \n",
              "1  2010   Dec    1  Wednesday     8  \n",
              "2  2010   Dec    1  Wednesday     8  \n",
              "3  2010   Dec    1  Wednesday     8  \n",
              "4  2010   Dec    1  Wednesday     8  "
            ],
            "text/html": [
              "\n",
              "  <div id=\"df-e67ebe33-9701-4441-89b7-b73d66935c19\">\n",
              "    <div class=\"colab-df-container\">\n",
              "      <div>\n",
              "<style scoped>\n",
              "    .dataframe tbody tr th:only-of-type {\n",
              "        vertical-align: middle;\n",
              "    }\n",
              "\n",
              "    .dataframe tbody tr th {\n",
              "        vertical-align: top;\n",
              "    }\n",
              "\n",
              "    .dataframe thead th {\n",
              "        text-align: right;\n",
              "    }\n",
              "</style>\n",
              "<table border=\"1\" class=\"dataframe\">\n",
              "  <thead>\n",
              "    <tr style=\"text-align: right;\">\n",
              "      <th></th>\n",
              "      <th>InvoiceNo</th>\n",
              "      <th>StockCode</th>\n",
              "      <th>Description</th>\n",
              "      <th>Quantity</th>\n",
              "      <th>InvoiceDate</th>\n",
              "      <th>UnitPrice</th>\n",
              "      <th>CustomerID</th>\n",
              "      <th>Country</th>\n",
              "      <th>TotalPrice</th>\n",
              "      <th>year</th>\n",
              "      <th>month</th>\n",
              "      <th>day</th>\n",
              "      <th>weekday</th>\n",
              "      <th>hour</th>\n",
              "    </tr>\n",
              "  </thead>\n",
              "  <tbody>\n",
              "    <tr>\n",
              "      <th>0</th>\n",
              "      <td>536365</td>\n",
              "      <td>85123A</td>\n",
              "      <td>WHITE HANGING HEART T-LIGHT HOLDER</td>\n",
              "      <td>6</td>\n",
              "      <td>2010-12-01 08:26:00</td>\n",
              "      <td>2.55</td>\n",
              "      <td>17850.0</td>\n",
              "      <td>United Kingdom</td>\n",
              "      <td>15.30</td>\n",
              "      <td>2010</td>\n",
              "      <td>Dec</td>\n",
              "      <td>1</td>\n",
              "      <td>Wednesday</td>\n",
              "      <td>8</td>\n",
              "    </tr>\n",
              "    <tr>\n",
              "      <th>1</th>\n",
              "      <td>536365</td>\n",
              "      <td>71053</td>\n",
              "      <td>WHITE METAL LANTERN</td>\n",
              "      <td>6</td>\n",
              "      <td>2010-12-01 08:26:00</td>\n",
              "      <td>3.39</td>\n",
              "      <td>17850.0</td>\n",
              "      <td>United Kingdom</td>\n",
              "      <td>20.34</td>\n",
              "      <td>2010</td>\n",
              "      <td>Dec</td>\n",
              "      <td>1</td>\n",
              "      <td>Wednesday</td>\n",
              "      <td>8</td>\n",
              "    </tr>\n",
              "    <tr>\n",
              "      <th>2</th>\n",
              "      <td>536365</td>\n",
              "      <td>84406B</td>\n",
              "      <td>CREAM CUPID HEARTS COAT HANGER</td>\n",
              "      <td>8</td>\n",
              "      <td>2010-12-01 08:26:00</td>\n",
              "      <td>2.75</td>\n",
              "      <td>17850.0</td>\n",
              "      <td>United Kingdom</td>\n",
              "      <td>22.00</td>\n",
              "      <td>2010</td>\n",
              "      <td>Dec</td>\n",
              "      <td>1</td>\n",
              "      <td>Wednesday</td>\n",
              "      <td>8</td>\n",
              "    </tr>\n",
              "    <tr>\n",
              "      <th>3</th>\n",
              "      <td>536365</td>\n",
              "      <td>84029G</td>\n",
              "      <td>KNITTED UNION FLAG HOT WATER BOTTLE</td>\n",
              "      <td>6</td>\n",
              "      <td>2010-12-01 08:26:00</td>\n",
              "      <td>3.39</td>\n",
              "      <td>17850.0</td>\n",
              "      <td>United Kingdom</td>\n",
              "      <td>20.34</td>\n",
              "      <td>2010</td>\n",
              "      <td>Dec</td>\n",
              "      <td>1</td>\n",
              "      <td>Wednesday</td>\n",
              "      <td>8</td>\n",
              "    </tr>\n",
              "    <tr>\n",
              "      <th>4</th>\n",
              "      <td>536365</td>\n",
              "      <td>84029E</td>\n",
              "      <td>RED WOOLLY HOTTIE WHITE HEART.</td>\n",
              "      <td>6</td>\n",
              "      <td>2010-12-01 08:26:00</td>\n",
              "      <td>3.39</td>\n",
              "      <td>17850.0</td>\n",
              "      <td>United Kingdom</td>\n",
              "      <td>20.34</td>\n",
              "      <td>2010</td>\n",
              "      <td>Dec</td>\n",
              "      <td>1</td>\n",
              "      <td>Wednesday</td>\n",
              "      <td>8</td>\n",
              "    </tr>\n",
              "  </tbody>\n",
              "</table>\n",
              "</div>\n",
              "      <button class=\"colab-df-convert\" onclick=\"convertToInteractive('df-e67ebe33-9701-4441-89b7-b73d66935c19')\"\n",
              "              title=\"Convert this dataframe to an interactive table.\"\n",
              "              style=\"display:none;\">\n",
              "        \n",
              "  <svg xmlns=\"http://www.w3.org/2000/svg\" height=\"24px\"viewBox=\"0 0 24 24\"\n",
              "       width=\"24px\">\n",
              "    <path d=\"M0 0h24v24H0V0z\" fill=\"none\"/>\n",
              "    <path d=\"M18.56 5.44l.94 2.06.94-2.06 2.06-.94-2.06-.94-.94-2.06-.94 2.06-2.06.94zm-11 1L8.5 8.5l.94-2.06 2.06-.94-2.06-.94L8.5 2.5l-.94 2.06-2.06.94zm10 10l.94 2.06.94-2.06 2.06-.94-2.06-.94-.94-2.06-.94 2.06-2.06.94z\"/><path d=\"M17.41 7.96l-1.37-1.37c-.4-.4-.92-.59-1.43-.59-.52 0-1.04.2-1.43.59L10.3 9.45l-7.72 7.72c-.78.78-.78 2.05 0 2.83L4 21.41c.39.39.9.59 1.41.59.51 0 1.02-.2 1.41-.59l7.78-7.78 2.81-2.81c.8-.78.8-2.07 0-2.86zM5.41 20L4 18.59l7.72-7.72 1.47 1.35L5.41 20z\"/>\n",
              "  </svg>\n",
              "      </button>\n",
              "      \n",
              "  <style>\n",
              "    .colab-df-container {\n",
              "      display:flex;\n",
              "      flex-wrap:wrap;\n",
              "      gap: 12px;\n",
              "    }\n",
              "\n",
              "    .colab-df-convert {\n",
              "      background-color: #E8F0FE;\n",
              "      border: none;\n",
              "      border-radius: 50%;\n",
              "      cursor: pointer;\n",
              "      display: none;\n",
              "      fill: #1967D2;\n",
              "      height: 32px;\n",
              "      padding: 0 0 0 0;\n",
              "      width: 32px;\n",
              "    }\n",
              "\n",
              "    .colab-df-convert:hover {\n",
              "      background-color: #E2EBFA;\n",
              "      box-shadow: 0px 1px 2px rgba(60, 64, 67, 0.3), 0px 1px 3px 1px rgba(60, 64, 67, 0.15);\n",
              "      fill: #174EA6;\n",
              "    }\n",
              "\n",
              "    [theme=dark] .colab-df-convert {\n",
              "      background-color: #3B4455;\n",
              "      fill: #D2E3FC;\n",
              "    }\n",
              "\n",
              "    [theme=dark] .colab-df-convert:hover {\n",
              "      background-color: #434B5C;\n",
              "      box-shadow: 0px 1px 3px 1px rgba(0, 0, 0, 0.15);\n",
              "      filter: drop-shadow(0px 1px 2px rgba(0, 0, 0, 0.3));\n",
              "      fill: #FFFFFF;\n",
              "    }\n",
              "  </style>\n",
              "\n",
              "      <script>\n",
              "        const buttonEl =\n",
              "          document.querySelector('#df-e67ebe33-9701-4441-89b7-b73d66935c19 button.colab-df-convert');\n",
              "        buttonEl.style.display =\n",
              "          google.colab.kernel.accessAllowed ? 'block' : 'none';\n",
              "\n",
              "        async function convertToInteractive(key) {\n",
              "          const element = document.querySelector('#df-e67ebe33-9701-4441-89b7-b73d66935c19');\n",
              "          const dataTable =\n",
              "            await google.colab.kernel.invokeFunction('convertToInteractive',\n",
              "                                                     [key], {});\n",
              "          if (!dataTable) return;\n",
              "\n",
              "          const docLinkHtml = 'Like what you see? Visit the ' +\n",
              "            '<a target=\"_blank\" href=https://colab.research.google.com/notebooks/data_table.ipynb>data table notebook</a>'\n",
              "            + ' to learn more about interactive tables.';\n",
              "          element.innerHTML = '';\n",
              "          dataTable['output_type'] = 'display_data';\n",
              "          await google.colab.output.renderOutput(dataTable, element);\n",
              "          const docLink = document.createElement('div');\n",
              "          docLink.innerHTML = docLinkHtml;\n",
              "          element.appendChild(docLink);\n",
              "        }\n",
              "      </script>\n",
              "    </div>\n",
              "  </div>\n",
              "  "
            ]
          },
          "metadata": {},
          "execution_count": 31
        }
      ]
    },
    {
      "cell_type": "markdown",
      "source": [
        "### What all manipulations have you done and insights you found?"
      ],
      "metadata": {
        "id": "MSa1f5Uengrz"
      }
    },
    {
      "cell_type": "markdown",
      "source": [
        "* Removed duplicated rows and null values.\n",
        "* InvoiceNo which starts with 'c' indicates cancellation.\n",
        "* Approx 2.26% transactions was cancelled.\n",
        "* After removing null values and duplicated rows, total number of rows reduced to 401604.\n",
        "* created new variable 'TotalPrice' by multiplying 'Quantity' and 'UnitPrice'\n",
        "* Created new columns by extracting different datetime components from 'InvoiceDate' for time series analysis."
      ],
      "metadata": {
        "id": "LbyXE7I1olp8"
      }
    },
    {
      "cell_type": "markdown",
      "source": [
        "## ***4. Data Vizualization, Storytelling & Experimenting with charts : Understand the relationships between variables***"
      ],
      "metadata": {
        "id": "GF8Ens_Soomf"
      }
    },
    {
      "cell_type": "markdown",
      "source": [
        "## Product Analysis"
      ],
      "metadata": {
        "id": "T-Ry35NPzVT1"
      }
    },
    {
      "cell_type": "markdown",
      "source": [
        "###Top 10 products with highest number of quantity sold."
      ],
      "metadata": {
        "id": "ClFJGo-8ziJx"
      }
    },
    {
      "cell_type": "code",
      "source": [
        "# Total Quantity sold by each product\n",
        "total_quantity_sold = df.groupby(['StockCode'])['Quantity'].sum().reset_index().sort_values('Quantity', ascending=False).reset_index(drop=True)\n",
        "\n",
        "# ploting bar chart for top 10 products\n",
        "plt.figure(figsize=(10,5))\n",
        "plt.title('Top 10 products by number of quantity sold', fontdict={'size': 15})\n",
        "sns.barplot(x='StockCode',y='Quantity',data=total_quantity_sold.head(10),)"
      ],
      "metadata": {
        "id": "7v_ESjsspbW7",
        "colab": {
          "base_uri": "https://localhost:8080/",
          "height": 506
        },
        "outputId": "7cc744eb-1bd5-40c2-ebed-f02161c91247"
      },
      "execution_count": 32,
      "outputs": [
        {
          "output_type": "execute_result",
          "data": {
            "text/plain": [
              "<Axes: title={'center': 'Top 10 products by number of quantity sold'}, xlabel='StockCode', ylabel='Quantity'>"
            ]
          },
          "metadata": {},
          "execution_count": 32
        },
        {
          "output_type": "display_data",
          "data": {
            "text/plain": [
              "<Figure size 1000x500 with 1 Axes>"
            ],
            "image/png": "[encoded data removed]"
          },
          "metadata": {}
        }
      ]
    },
    {
      "cell_type": "code",
      "source": [
        "# products with low quantity \n",
        "total_quantity_sold.tail(10)"
      ],
      "metadata": {
        "colab": {
          "base_uri": "https://localhost:8080/",
          "height": 363
        },
        "id": "hd8ujfWvMFXO",
        "outputId": "c532efce-49a8-4288-b4ad-4dc6c791e6eb"
      },
      "execution_count": 94,
      "outputs": [
        {
          "output_type": "execute_result",
          "data": {
            "text/plain": [
              "     StockCode  Quantity\n",
              "3674     21412        -6\n",
              "3675     20703        -6\n",
              "3676     35400        -6\n",
              "3677    79323W        -8\n",
              "3678     22034        -9\n",
              "3679     21144       -12\n",
              "3680      CRUK       -16\n",
              "3681     21645       -24\n",
              "3682         D     -1194\n",
              "3683     84347     -1475"
            ],
            "text/html": [
              "\n",
              "  <div id=\"df-44f094df-e7a0-4b69-b43d-3595815e1c82\">\n",
              "    <div class=\"colab-df-container\">\n",
              "      <div>\n",
              "<style scoped>\n",
              "    .dataframe tbody tr th:only-of-type {\n",
              "        vertical-align: middle;\n",
              "    }\n",
              "\n",
              "    .dataframe tbody tr th {\n",
              "        vertical-align: top;\n",
              "    }\n",
              "\n",
              "    .dataframe thead th {\n",
              "        text-align: right;\n",
              "    }\n",
              "</style>\n",
              "<table border=\"1\" class=\"dataframe\">\n",
              "  <thead>\n",
              "    <tr style=\"text-align: right;\">\n",
              "      <th></th>\n",
              "      <th>StockCode</th>\n",
              "      <th>Quantity</th>\n",
              "    </tr>\n",
              "  </thead>\n",
              "  <tbody>\n",
              "    <tr>\n",
              "      <th>3674</th>\n",
              "      <td>21412</td>\n",
              "      <td>-6</td>\n",
              "    </tr>\n",
              "    <tr>\n",
              "      <th>3675</th>\n",
              "      <td>20703</td>\n",
              "      <td>-6</td>\n",
              "    </tr>\n",
              "    <tr>\n",
              "      <th>3676</th>\n",
              "      <td>35400</td>\n",
              "      <td>-6</td>\n",
              "    </tr>\n",
              "    <tr>\n",
              "      <th>3677</th>\n",
              "      <td>79323W</td>\n",
              "      <td>-8</td>\n",
              "    </tr>\n",
              "    <tr>\n",
              "      <th>3678</th>\n",
              "      <td>22034</td>\n",
              "      <td>-9</td>\n",
              "    </tr>\n",
              "    <tr>\n",
              "      <th>3679</th>\n",
              "      <td>21144</td>\n",
              "      <td>-12</td>\n",
              "    </tr>\n",
              "    <tr>\n",
              "      <th>3680</th>\n",
              "      <td>CRUK</td>\n",
              "      <td>-16</td>\n",
              "    </tr>\n",
              "    <tr>\n",
              "      <th>3681</th>\n",
              "      <td>21645</td>\n",
              "      <td>-24</td>\n",
              "    </tr>\n",
              "    <tr>\n",
              "      <th>3682</th>\n",
              "      <td>D</td>\n",
              "      <td>-1194</td>\n",
              "    </tr>\n",
              "    <tr>\n",
              "      <th>3683</th>\n",
              "      <td>84347</td>\n",
              "      <td>-1475</td>\n",
              "    </tr>\n",
              "  </tbody>\n",
              "</table>\n",
              "</div>\n",
              "      <button class=\"colab-df-convert\" onclick=\"convertToInteractive('df-44f094df-e7a0-4b69-b43d-3595815e1c82')\"\n",
              "              title=\"Convert this dataframe to an interactive table.\"\n",
              "              style=\"display:none;\">\n",
              "        \n",
              "  <svg xmlns=\"http://www.w3.org/2000/svg\" height=\"24px\"viewBox=\"0 0 24 24\"\n",
              "       width=\"24px\">\n",
              "    <path d=\"M0 0h24v24H0V0z\" fill=\"none\"/>\n",
              "    <path d=\"M18.56 5.44l.94 2.06.94-2.06 2.06-.94-2.06-.94-.94-2.06-.94 2.06-2.06.94zm-11 1L8.5 8.5l.94-2.06 2.06-.94-2.06-.94L8.5 2.5l-.94 2.06-2.06.94zm10 10l.94 2.06.94-2.06 2.06-.94-2.06-.94-.94-2.06-.94 2.06-2.06.94z\"/><path d=\"M17.41 7.96l-1.37-1.37c-.4-.4-.92-.59-1.43-.59-.52 0-1.04.2-1.43.59L10.3 9.45l-7.72 7.72c-.78.78-.78 2.05 0 2.83L4 21.41c.39.39.9.59 1.41.59.51 0 1.02-.2 1.41-.59l7.78-7.78 2.81-2.81c.8-.78.8-2.07 0-2.86zM5.41 20L4 18.59l7.72-7.72 1.47 1.35L5.41 20z\"/>\n",
              "  </svg>\n",
              "      </button>\n",
              "      \n",
              "  <style>\n",
              "    .colab-df-container {\n",
              "      display:flex;\n",
              "      flex-wrap:wrap;\n",
              "      gap: 12px;\n",
              "    }\n",
              "\n",
              "    .colab-df-convert {\n",
              "      background-color: #E8F0FE;\n",
              "      border: none;\n",
              "      border-radius: 50%;\n",
              "      cursor: pointer;\n",
              "      display: none;\n",
              "      fill: #1967D2;\n",
              "      height: 32px;\n",
              "      padding: 0 0 0 0;\n",
              "      width: 32px;\n",
              "    }\n",
              "\n",
              "    .colab-df-convert:hover {\n",
              "      background-color: #E2EBFA;\n",
              "      box-shadow: 0px 1px 2px rgba(60, 64, 67, 0.3), 0px 1px 3px 1px rgba(60, 64, 67, 0.15);\n",
              "      fill: #174EA6;\n",
              "    }\n",
              "\n",
              "    [theme=dark] .colab-df-convert {\n",
              "      background-color: #3B4455;\n",
              "      fill: #D2E3FC;\n",
              "    }\n",
              "\n",
              "    [theme=dark] .colab-df-convert:hover {\n",
              "      background-color: #434B5C;\n",
              "      box-shadow: 0px 1px 3px 1px rgba(0, 0, 0, 0.15);\n",
              "      filter: drop-shadow(0px 1px 2px rgba(0, 0, 0, 0.3));\n",
              "      fill: #FFFFFF;\n",
              "    }\n",
              "  </style>\n",
              "\n",
              "      <script>\n",
              "        const buttonEl =\n",
              "          document.querySelector('#df-44f094df-e7a0-4b69-b43d-3595815e1c82 button.colab-df-convert');\n",
              "        buttonEl.style.display =\n",
              "          google.colab.kernel.accessAllowed ? 'block' : 'none';\n",
              "\n",
              "        async function convertToInteractive(key) {\n",
              "          const element = document.querySelector('#df-44f094df-e7a0-4b69-b43d-3595815e1c82');\n",
              "          const dataTable =\n",
              "            await google.colab.kernel.invokeFunction('convertToInteractive',\n",
              "                                                     [key], {});\n",
              "          if (!dataTable) return;\n",
              "\n",
              "          const docLinkHtml = 'Like what you see? Visit the ' +\n",
              "            '<a target=\"_blank\" href=https://colab.research.google.com/notebooks/data_table.ipynb>data table notebook</a>'\n",
              "            + ' to learn more about interactive tables.';\n",
              "          element.innerHTML = '';\n",
              "          dataTable['output_type'] = 'display_data';\n",
              "          await google.colab.output.renderOutput(dataTable, element);\n",
              "          const docLink = document.createElement('div');\n",
              "          docLink.innerHTML = docLinkHtml;\n",
              "          element.appendChild(docLink);\n",
              "        }\n",
              "      </script>\n",
              "    </div>\n",
              "  </div>\n",
              "  "
            ]
          },
          "metadata": {},
          "execution_count": 94
        }
      ]
    },
    {
      "cell_type": "code",
      "source": [
        "#  Number of products with less than 10 quantity sold\n",
        "least_count = (total_quantity_sold[(total_quantity_sold['Quantity'] < 10)].shape)[0]\n",
        "print(f'Number of products with less than 10 quantity sold is {least_count}')"
      ],
      "metadata": {
        "colab": {
          "base_uri": "https://localhost:8080/"
        },
        "id": "vGO0lXN5Jef8",
        "outputId": "9c3c248d-5fc4-4d1c-8776-23e8cda7ae8b"
      },
      "execution_count": 33,
      "outputs": [
        {
          "output_type": "stream",
          "name": "stdout",
          "text": [
            "Number of products with less than 10 quantity sold is 378\n"
          ]
        }
      ]
    },
    {
      "cell_type": "markdown",
      "source": [
        "Number of products with less than 10 quantity sold is 378. also there are some products having negative sold quantity count, need more data to analyze these, but in case of lack of more data i am assuming that these are dead stock or previously placed order which got cancelled out later."
      ],
      "metadata": {
        "id": "Drd6evqdP2uA"
      }
    },
    {
      "cell_type": "markdown",
      "source": [
        "##### 1. Why did you pick the specific chart?"
      ],
      "metadata": {
        "id": "K5QZ13OEpz2H"
      }
    },
    {
      "cell_type": "markdown",
      "source": [
        "Bar charts are a popular way of visualizing data and have several benefits:\n",
        "\n",
        "* Clear visual representation: Bar charts are easy to read and understand. They provide a clear visual representation of data that can be easily interpreted.\n",
        "\n",
        "* Comparison of data: Bar charts are particularly useful when comparing data. The length or height of each bar can be compared to others to quickly see which is larger or smaller.\n",
        "\n",
        "* Simple to create: Bar charts are simple to create and can be made with a variety of software and tools, including Excel and Google Sheets.\n",
        "\n",
        "* Flexibility: Bar charts can be used to display a wide variety of data types, including categorical, ordinal, and numerical data.\n",
        "\n",
        "* Easy to customize: Bar charts are easy to customize, allowing you to change colors, labels, and other elements to create a chart that fits your needs.\n",
        "\n",
        "* Attention-grabbing: Bar charts are attention-grabbing and can quickly draw the viewer's eye to important data.\n",
        "\n",
        "Overall, bar charts are a powerful tool for visualizing data, making it easier to compare and understand large sets of information."
      ],
      "metadata": {
        "id": "XESiWehPqBRc"
      }
    },
    {
      "cell_type": "markdown",
      "source": [
        "##### 2. What is/are the insight(s) found from the chart?"
      ],
      "metadata": {
        "id": "lQ7QKXXCp7Bj"
      }
    },
    {
      "cell_type": "markdown",
      "source": [
        "* Producs with stockcode 84077 is most sold product with total number of quantity sold over 50000.\n",
        "* Producs with stockcode 2219 and 85099B are 2nd and 3rd most sold product with total number of quantity sold over 40000.\n",
        "* The minimum quantity sold is over 24000 by 10th most sold product.\n",
        "* Also Number of products with less than 10 quantity sold is more than 300."
      ],
      "metadata": {
        "id": "C_j1G7yiqdRP"
      }
    },
    {
      "cell_type": "markdown",
      "source": [
        "##### 3. Will the gained insights help creating a positive business impact? \n",
        "Are there any insights that lead to negative growth? Justify with specific reason."
      ],
      "metadata": {
        "id": "448CDAPjqfQr"
      }
    },
    {
      "cell_type": "markdown",
      "source": [
        "* Yes, These top 10 products are doing great, business can keep extra stocks of these products, also business could try increasing their price to make more profit.\n",
        "* There are more than 300 products with less than 10 total quantity sold, we need to check these products are worth keeping or it can lead to negative business growth."
      ],
      "metadata": {
        "id": "3cspy4FjqxJW"
      }
    },
    {
      "cell_type": "markdown",
      "source": [
        "### Top most and least frequent products."
      ],
      "metadata": {
        "id": "KSlN3yHqYklG"
      }
    },
    {
      "cell_type": "code",
      "source": [
        "# transaction count for each product\n",
        "count_df = df[df['Quantity'] > 0].groupby(['StockCode']).StockCode.count().reset_index(name='count').sort_values(['count'], ascending=False).reset_index(drop = True)\n",
        "\n",
        "# ploting horizontal bar chart for top 20 most frequent products\n",
        "plt.figure(figsize=(8,8))\n",
        "plt.title('top 20 most frequent products', fontdict={'size': 15})\n",
        "sns.barplot(y='StockCode',x='count',data=count_df.head(20),orient = 'h')"
      ],
      "metadata": {
        "id": "R4YgtaqtYklH",
        "colab": {
          "base_uri": "https://localhost:8080/",
          "height": 737
        },
        "outputId": "0218adcd-615d-4dab-a136-a503013aa158"
      },
      "execution_count": 34,
      "outputs": [
        {
          "output_type": "execute_result",
          "data": {
            "text/plain": [
              "<Axes: title={'center': 'top 20 most frequent products'}, xlabel='count', ylabel='StockCode'>"
            ]
          },
          "metadata": {},
          "execution_count": 34
        },
        {
          "output_type": "display_data",
          "data": {
            "text/plain": [
              "<Figure size 800x800 with 1 Axes>"
            ],
            "image/png": "[encoded data removed]"
          },
          "metadata": {}
        }
      ]
    },
    {
      "cell_type": "code",
      "source": [
        "# least frequent products with total transaction count less than 5\n",
        "least_count = (count_df[(count_df['count'] < 5)].shape)[0]\n",
        "print(f'Products with total transaction count less than 5 is {least_count}')"
      ],
      "metadata": {
        "colab": {
          "base_uri": "https://localhost:8080/"
        },
        "id": "RjP__ab9TAzK",
        "outputId": "5f5b2cd4-dc0f-4ff5-fbf7-2820149ecc70"
      },
      "execution_count": 35,
      "outputs": [
        {
          "output_type": "stream",
          "name": "stdout",
          "text": [
            "Products with total transaction count less than 5 is 476\n"
          ]
        }
      ]
    },
    {
      "cell_type": "markdown",
      "source": [
        "##### 1. Why did you pick the specific chart?"
      ],
      "metadata": {
        "id": "t6dVpIINYklI"
      }
    },
    {
      "cell_type": "markdown",
      "source": [
        "Horizontal bar graphs are a type of chart that displays data using horizontal bars to represent values. They are useful for visualizing comparisons between categories, where the length of the bar represents the value of the category.\n",
        "\n",
        "Some benifits of using Horizontal Bar graphs are:\n",
        "\n",
        "* Efficient use of space\n",
        "* Easier to compare values\n",
        "* Better for showing rank order\n",
        "* More visually appealing"
      ],
      "metadata": {
        "id": "5aaW0BYyYklI"
      }
    },
    {
      "cell_type": "markdown",
      "source": [
        "##### 2. What is/are the insight(s) found from the chart?"
      ],
      "metadata": {
        "id": "ijmpgYnKYklI"
      }
    },
    {
      "cell_type": "markdown",
      "source": [
        "* some of most frequents products are 85123A, 22423, 85099B, 84879, 20725 and 47566 with more than 1300 transaction count.\n",
        "* count of least frequent products with total transaction count less than 5 is more than 400."
      ],
      "metadata": {
        "id": "PSx9atu2YklI"
      }
    },
    {
      "cell_type": "markdown",
      "source": [
        "##### 3. Will the gained insights help creating a positive business impact? \n",
        "Are there any insights that lead to negative growth? Justify with specific reason."
      ],
      "metadata": {
        "id": "-JiQyfWJYklI"
      }
    },
    {
      "cell_type": "markdown",
      "source": [
        "* Yes , bussiness should keep above products in stocks every time as these are most frequents products, it will help improve availability and create possitive bussiness impact.\n",
        "\n",
        "* There are more than 400 least frequent products with total transaction count less than 10, keeping their stock lead to waste of space, it can cause negative impact on business. "
      ],
      "metadata": {
        "id": "BcBbebzrYklV"
      }
    },
    {
      "cell_type": "markdown",
      "source": [
        "### Most expensive products and their quantity sold."
      ],
      "metadata": {
        "id": "EM7whBJCYoAo"
      }
    },
    {
      "cell_type": "markdown",
      "source": [
        "Not considering ['BANK CHARGES', 'C2', 'CRUK', 'D', 'DOT', 'M', 'PADS', 'POST'] as these stockcodes not look similar to regular stockcodes."
      ],
      "metadata": {
        "id": "RMqefiqujt8u"
      }
    },
    {
      "cell_type": "code",
      "source": [
        "# extracting the 'StockCode' and their 'UnitPrice'\n",
        "non_regular_stockcodes = ['BANK CHARGES', 'C2', 'CRUK', 'D', 'DOT', 'M', 'PADS', 'POST']\n",
        "unit_price_df = df[(~df['StockCode'].isin(non_regular_stockcodes))].groupby(['StockCode'])['UnitPrice'].agg(lambda x: pd.Series.mode(x)[0]).to_frame().sort_values('UnitPrice', ascending = False).reset_index()\n",
        "unit_price_df = pd.merge(unit_price_df, total_quantity_sold, on = 'StockCode')"
      ],
      "metadata": {
        "id": "t6GMdE67YoAp"
      },
      "execution_count": 36,
      "outputs": []
    },
    {
      "cell_type": "code",
      "source": [
        "# defining figure size\n",
        "fig = plt.figure(figsize=(15,6))\n",
        "# ploting bar chart for top 10 most expensive products\n",
        "plt.subplot(1, 2, 1)\n",
        "plt.title('top 10 most expensive products', fontdict={'size': 15})\n",
        "sns.barplot(x='StockCode',y='UnitPrice',data=unit_price_df.head(10), order=unit_price_df['StockCode'].head(10))\n",
        "\n",
        "# ploting qunatity sold by each of 10 most expensive products'\n",
        "plt.subplot(1, 2, 2)\n",
        "plt.title('respective quantity sold by them', fontdict={'size': 15})\n",
        "sns.barplot(x='StockCode',y='Quantity',data=unit_price_df.head(10), order=unit_price_df['StockCode'].head(10))\n",
        "plt.tight_layout()"
      ],
      "metadata": {
        "colab": {
          "base_uri": "https://localhost:8080/",
          "height": 510
        },
        "id": "ePp7aTZmoLL1",
        "outputId": "664663f9-dbaf-4c6f-86ef-965a469dbebb"
      },
      "execution_count": 111,
      "outputs": [
        {
          "output_type": "display_data",
          "data": {
            "text/plain": [
              "<Figure size 1500x600 with 2 Axes>"
            ],
            "image/png": "[encoded data removed]"
          },
          "metadata": {}
        }
      ]
    },
    {
      "cell_type": "markdown",
      "source": [
        "### Least expensive products and their quantity sold."
      ],
      "metadata": {
        "id": "6_Ea2YtSs-PW"
      }
    },
    {
      "cell_type": "code",
      "source": [
        "# defining figure size\n",
        "fig = plt.figure(figsize=(15,6))\n",
        "# ploting bar chart for 10 least expensive products\n",
        "plt.subplot(1, 2, 1)\n",
        "plt.title('10 least expensive products', fontdict={'size': 15})\n",
        "sns.barplot(x='StockCode',y='UnitPrice',data=unit_price_df.tail(10))\n",
        "\n",
        "# ploting qunatity sold by each of 10 least expensive products'\n",
        "plt.subplot(1, 2, 2)\n",
        "plt.title('respective quantity sold by them', fontdict={'size': 15})\n",
        "sns.barplot(x='StockCode',y='Quantity',data=unit_price_df.tail(10))\n",
        "plt.tight_layout()"
      ],
      "metadata": {
        "colab": {
          "base_uri": "https://localhost:8080/",
          "height": 510
        },
        "id": "4nwgL_CztMN-",
        "outputId": "a6ee13b7-f293-4a0a-e2ca-b5c1b0deb63b"
      },
      "execution_count": 38,
      "outputs": [
        {
          "output_type": "display_data",
          "data": {
            "text/plain": [
              "<Figure size 1500x600 with 2 Axes>"
            ],
            "image/png": "[encoded data removed]"
          },
          "metadata": {}
        }
      ]
    },
    {
      "cell_type": "markdown",
      "source": [
        "##### 2. What is/are the insight(s) found from the chart?"
      ],
      "metadata": {
        "id": "85gYPyotYoAp"
      }
    },
    {
      "cell_type": "markdown",
      "source": [
        "insights from 10 most expensive products : \n",
        "* most expensive products are 22828 and 22827  with unit price of 165 dollar.\n",
        "* 23064 is 10th most expensive product with unit price of 49.95 dollar but it has highest quantity sold of 149 units among all 10 most expensive.\n",
        "* lowest quantity sold by 84632 which is 8th most expensive product with unit price of 59.95 and qunatity sold is only 5 units.\n",
        "\n",
        "insights from 10 least expensive products:\n",
        "* 16045 and 16219 are least expensive products with unit price of 0.04 and 0.06 dollars respectively.\n",
        "* 16045 is cheapest product among all but it has highest quantity sold of 8900 among all 10 least expensive products.\n",
        "* 47013C has lowest qunatity sold of 31 units only with unit price of 0.12 dollar only.\n"
      ],
      "metadata": {
        "id": "4jstXR6OYoAp"
      }
    },
    {
      "cell_type": "markdown",
      "source": [
        "### Products with highest and lowest sale value."
      ],
      "metadata": {
        "id": "4Of9eVA-YrdM"
      }
    },
    {
      "cell_type": "code",
      "source": [
        "# Total sale by each product\n",
        "sale_df = df.groupby(['StockCode'])['TotalPrice'].sum().reset_index().sort_values('TotalPrice', ascending=False).reset_index(drop=True)\n",
        "\n",
        "# percenatge of top 10 product with highest sale\n",
        "percentage_of_top_10 = round(sale_df['TotalPrice'].head(10).sum() / sale_df['TotalPrice'].sum() * 100, 2)\n",
        "\n",
        "# ploting bar chart for top 10 products with highest sale\n",
        "plt.figure(figsize=(10,5))\n",
        "plt.title(f'{percentage_of_top_10}% of total sale is made by top 10 products ', fontdict={'size': 15})\n",
        "sns.barplot(x='StockCode',y='TotalPrice',data=sale_df.head(10),)"
      ],
      "metadata": {
        "colab": {
          "base_uri": "https://localhost:8080/",
          "height": 506
        },
        "id": "h-Zlm7H48ZKH",
        "outputId": "5fda458f-90ad-48d1-9d1b-8986d6656552"
      },
      "execution_count": 128,
      "outputs": [
        {
          "output_type": "execute_result",
          "data": {
            "text/plain": [
              "<Axes: title={'center': '8.28% of total sale is made by top 10 products '}, xlabel='StockCode', ylabel='TotalPrice'>"
            ]
          },
          "metadata": {},
          "execution_count": 128
        },
        {
          "output_type": "display_data",
          "data": {
            "text/plain": [
              "<Figure size 1000x500 with 1 Axes>"
            ],
            "image/png": "[encoded data removed]"
          },
          "metadata": {}
        }
      ]
    },
    {
      "cell_type": "code",
      "source": [
        "# products with lowest sale\n",
        "sale_df.tail(10)"
      ],
      "metadata": {
        "colab": {
          "base_uri": "https://localhost:8080/",
          "height": 363
        },
        "id": "64ddRrHeU1VG",
        "outputId": "eb4c9766-08b5-44af-8dbb-891491c91728"
      },
      "execution_count": 124,
      "outputs": [
        {
          "output_type": "execute_result",
          "data": {
            "text/plain": [
              "     StockCode  TotalPrice\n",
              "3674     20703      -25.50\n",
              "3675    79323P      -27.00\n",
              "3676     21645      -39.60\n",
              "3677     35400      -45.70\n",
              "3678     85063      -46.85\n",
              "3679    79323W      -54.00\n",
              "3680     22769      -87.80\n",
              "3681         D    -5696.22\n",
              "3682      CRUK    -7933.43\n",
              "3683         M   -58745.46"
            ],
            "text/html": [
              "\n",
              "  <div id=\"df-e53fae65-b145-4b4e-a476-e35d0150dbb2\">\n",
              "    <div class=\"colab-df-container\">\n",
              "      <div>\n",
              "<style scoped>\n",
              "    .dataframe tbody tr th:only-of-type {\n",
              "        vertical-align: middle;\n",
              "    }\n",
              "\n",
              "    .dataframe tbody tr th {\n",
              "        vertical-align: top;\n",
              "    }\n",
              "\n",
              "    .dataframe thead th {\n",
              "        text-align: right;\n",
              "    }\n",
              "</style>\n",
              "<table border=\"1\" class=\"dataframe\">\n",
              "  <thead>\n",
              "    <tr style=\"text-align: right;\">\n",
              "      <th></th>\n",
              "      <th>StockCode</th>\n",
              "      <th>TotalPrice</th>\n",
              "    </tr>\n",
              "  </thead>\n",
              "  <tbody>\n",
              "    <tr>\n",
              "      <th>3674</th>\n",
              "      <td>20703</td>\n",
              "      <td>-25.50</td>\n",
              "    </tr>\n",
              "    <tr>\n",
              "      <th>3675</th>\n",
              "      <td>79323P</td>\n",
              "      <td>-27.00</td>\n",
              "    </tr>\n",
              "    <tr>\n",
              "      <th>3676</th>\n",
              "      <td>21645</td>\n",
              "      <td>-39.60</td>\n",
              "    </tr>\n",
              "    <tr>\n",
              "      <th>3677</th>\n",
              "      <td>35400</td>\n",
              "      <td>-45.70</td>\n",
              "    </tr>\n",
              "    <tr>\n",
              "      <th>3678</th>\n",
              "      <td>85063</td>\n",
              "      <td>-46.85</td>\n",
              "    </tr>\n",
              "    <tr>\n",
              "      <th>3679</th>\n",
              "      <td>79323W</td>\n",
              "      <td>-54.00</td>\n",
              "    </tr>\n",
              "    <tr>\n",
              "      <th>3680</th>\n",
              "      <td>22769</td>\n",
              "      <td>-87.80</td>\n",
              "    </tr>\n",
              "    <tr>\n",
              "      <th>3681</th>\n",
              "      <td>D</td>\n",
              "      <td>-5696.22</td>\n",
              "    </tr>\n",
              "    <tr>\n",
              "      <th>3682</th>\n",
              "      <td>CRUK</td>\n",
              "      <td>-7933.43</td>\n",
              "    </tr>\n",
              "    <tr>\n",
              "      <th>3683</th>\n",
              "      <td>M</td>\n",
              "      <td>-58745.46</td>\n",
              "    </tr>\n",
              "  </tbody>\n",
              "</table>\n",
              "</div>\n",
              "      <button class=\"colab-df-convert\" onclick=\"convertToInteractive('df-e53fae65-b145-4b4e-a476-e35d0150dbb2')\"\n",
              "              title=\"Convert this dataframe to an interactive table.\"\n",
              "              style=\"display:none;\">\n",
              "        \n",
              "  <svg xmlns=\"http://www.w3.org/2000/svg\" height=\"24px\"viewBox=\"0 0 24 24\"\n",
              "       width=\"24px\">\n",
              "    <path d=\"M0 0h24v24H0V0z\" fill=\"none\"/>\n",
              "    <path d=\"M18.56 5.44l.94 2.06.94-2.06 2.06-.94-2.06-.94-.94-2.06-.94 2.06-2.06.94zm-11 1L8.5 8.5l.94-2.06 2.06-.94-2.06-.94L8.5 2.5l-.94 2.06-2.06.94zm10 10l.94 2.06.94-2.06 2.06-.94-2.06-.94-.94-2.06-.94 2.06-2.06.94z\"/><path d=\"M17.41 7.96l-1.37-1.37c-.4-.4-.92-.59-1.43-.59-.52 0-1.04.2-1.43.59L10.3 9.45l-7.72 7.72c-.78.78-.78 2.05 0 2.83L4 21.41c.39.39.9.59 1.41.59.51 0 1.02-.2 1.41-.59l7.78-7.78 2.81-2.81c.8-.78.8-2.07 0-2.86zM5.41 20L4 18.59l7.72-7.72 1.47 1.35L5.41 20z\"/>\n",
              "  </svg>\n",
              "      </button>\n",
              "      \n",
              "  <style>\n",
              "    .colab-df-container {\n",
              "      display:flex;\n",
              "      flex-wrap:wrap;\n",
              "      gap: 12px;\n",
              "    }\n",
              "\n",
              "    .colab-df-convert {\n",
              "      background-color: #E8F0FE;\n",
              "      border: none;\n",
              "      border-radius: 50%;\n",
              "      cursor: pointer;\n",
              "      display: none;\n",
              "      fill: #1967D2;\n",
              "      height: 32px;\n",
              "      padding: 0 0 0 0;\n",
              "      width: 32px;\n",
              "    }\n",
              "\n",
              "    .colab-df-convert:hover {\n",
              "      background-color: #E2EBFA;\n",
              "      box-shadow: 0px 1px 2px rgba(60, 64, 67, 0.3), 0px 1px 3px 1px rgba(60, 64, 67, 0.15);\n",
              "      fill: #174EA6;\n",
              "    }\n",
              "\n",
              "    [theme=dark] .colab-df-convert {\n",
              "      background-color: #3B4455;\n",
              "      fill: #D2E3FC;\n",
              "    }\n",
              "\n",
              "    [theme=dark] .colab-df-convert:hover {\n",
              "      background-color: #434B5C;\n",
              "      box-shadow: 0px 1px 3px 1px rgba(0, 0, 0, 0.15);\n",
              "      filter: drop-shadow(0px 1px 2px rgba(0, 0, 0, 0.3));\n",
              "      fill: #FFFFFF;\n",
              "    }\n",
              "  </style>\n",
              "\n",
              "      <script>\n",
              "        const buttonEl =\n",
              "          document.querySelector('#df-e53fae65-b145-4b4e-a476-e35d0150dbb2 button.colab-df-convert');\n",
              "        buttonEl.style.display =\n",
              "          google.colab.kernel.accessAllowed ? 'block' : 'none';\n",
              "\n",
              "        async function convertToInteractive(key) {\n",
              "          const element = document.querySelector('#df-e53fae65-b145-4b4e-a476-e35d0150dbb2');\n",
              "          const dataTable =\n",
              "            await google.colab.kernel.invokeFunction('convertToInteractive',\n",
              "                                                     [key], {});\n",
              "          if (!dataTable) return;\n",
              "\n",
              "          const docLinkHtml = 'Like what you see? Visit the ' +\n",
              "            '<a target=\"_blank\" href=https://colab.research.google.com/notebooks/data_table.ipynb>data table notebook</a>'\n",
              "            + ' to learn more about interactive tables.';\n",
              "          element.innerHTML = '';\n",
              "          dataTable['output_type'] = 'display_data';\n",
              "          await google.colab.output.renderOutput(dataTable, element);\n",
              "          const docLink = document.createElement('div');\n",
              "          docLink.innerHTML = docLinkHtml;\n",
              "          element.appendChild(docLink);\n",
              "        }\n",
              "      </script>\n",
              "    </div>\n",
              "  </div>\n",
              "  "
            ]
          },
          "metadata": {},
          "execution_count": 124
        }
      ]
    },
    {
      "cell_type": "code",
      "source": [
        "# products with lowest sale value less than 10 dollar\n",
        "lowest_count = (sale_df[(sale_df['TotalPrice'] < 10)].shape)[0]\n",
        "print(f'products with lowest sale value less than 10 dollar is {lowest_count}')"
      ],
      "metadata": {
        "colab": {
          "base_uri": "https://localhost:8080/"
        },
        "id": "belXPW7lasph",
        "outputId": "4e985ebb-a2b7-4596-f794-4d9aaf817829"
      },
      "execution_count": 130,
      "outputs": [
        {
          "output_type": "stream",
          "name": "stdout",
          "text": [
            "products with lowest sale value less than 10 dollar is 201\n"
          ]
        }
      ]
    },
    {
      "cell_type": "markdown",
      "source": [
        "There are around 200 products having sale value less than 10 dollars including negative sales."
      ],
      "metadata": {
        "id": "NrUGnMBRbzdA"
      }
    },
    {
      "cell_type": "markdown",
      "source": [
        "##### 2. What is/are the insight(s) found from the chart?"
      ],
      "metadata": {
        "id": "F6T5p64dYrdO"
      }
    },
    {
      "cell_type": "markdown",
      "source": [
        "* 8.28% of total sale is made by top 10 products.\n",
        "* Stockcode 22423 has highest sale value of more than 130k dollars.\n",
        "* Stockcode 85123A has 2nd highest sale amount of more than 90k dollars.\n",
        "* There are around 200 products having sale value less than 10 dollars including negative sales."
      ],
      "metadata": {
        "id": "Xx8WAJvtYrdO"
      }
    },
    {
      "cell_type": "markdown",
      "source": [
        "##### 3. Will the gained insights help creating a positive business impact? \n",
        "Are there any insights that lead to negative growth? Justify with specific reason."
      ],
      "metadata": {
        "id": "y-Ehk30pYrdP"
      }
    },
    {
      "cell_type": "markdown",
      "source": [
        "* There are around 200 products having sale value less than 10 dollars including negative sales. we need to further analyze these products worth or keeping these blindly will lead to negative bussiness growth."
      ],
      "metadata": {
        "id": "jLNxxz7MYrdP"
      }
    },
    {
      "cell_type": "markdown",
      "source": [
        "### "
      ],
      "metadata": {
        "id": "bamQiAODYuh1"
      }
    },
    {
      "cell_type": "code",
      "source": [
        "df.head()"
      ],
      "metadata": {
        "colab": {
          "base_uri": "https://localhost:8080/",
          "height": 337
        },
        "id": "qYoL5V_Ai-iR",
        "outputId": "400ac344-0cb7-498a-e8f5-b6b446eb3a0e"
      },
      "execution_count": 156,
      "outputs": [
        {
          "output_type": "execute_result",
          "data": {
            "text/plain": [
              "  InvoiceNo StockCode                          Description  Quantity  \\\n",
              "0    536365    85123A   WHITE HANGING HEART T-LIGHT HOLDER         6   \n",
              "1    536365     71053                  WHITE METAL LANTERN         6   \n",
              "2    536365    84406B       CREAM CUPID HEARTS COAT HANGER         8   \n",
              "3    536365    84029G  KNITTED UNION FLAG HOT WATER BOTTLE         6   \n",
              "4    536365    84029E       RED WOOLLY HOTTIE WHITE HEART.         6   \n",
              "\n",
              "          InvoiceDate  UnitPrice  CustomerID         Country  TotalPrice  \\\n",
              "0 2010-12-01 08:26:00       2.55     17850.0  United Kingdom       15.30   \n",
              "1 2010-12-01 08:26:00       3.39     17850.0  United Kingdom       20.34   \n",
              "2 2010-12-01 08:26:00       2.75     17850.0  United Kingdom       22.00   \n",
              "3 2010-12-01 08:26:00       3.39     17850.0  United Kingdom       20.34   \n",
              "4 2010-12-01 08:26:00       3.39     17850.0  United Kingdom       20.34   \n",
              "\n",
              "   year month  day    weekday  hour  \n",
              "0  2010   Dec    1  Wednesday     8  \n",
              "1  2010   Dec    1  Wednesday     8  \n",
              "2  2010   Dec    1  Wednesday     8  \n",
              "3  2010   Dec    1  Wednesday     8  \n",
              "4  2010   Dec    1  Wednesday     8  "
            ],
            "text/html": [
              "\n",
              "  <div id=\"df-63c53570-90ef-478f-9dcf-296082310500\">\n",
              "    <div class=\"colab-df-container\">\n",
              "      <div>\n",
              "<style scoped>\n",
              "    .dataframe tbody tr th:only-of-type {\n",
              "        vertical-align: middle;\n",
              "    }\n",
              "\n",
              "    .dataframe tbody tr th {\n",
              "        vertical-align: top;\n",
              "    }\n",
              "\n",
              "    .dataframe thead th {\n",
              "        text-align: right;\n",
              "    }\n",
              "</style>\n",
              "<table border=\"1\" class=\"dataframe\">\n",
              "  <thead>\n",
              "    <tr style=\"text-align: right;\">\n",
              "      <th></th>\n",
              "      <th>InvoiceNo</th>\n",
              "      <th>StockCode</th>\n",
              "      <th>Description</th>\n",
              "      <th>Quantity</th>\n",
              "      <th>InvoiceDate</th>\n",
              "      <th>UnitPrice</th>\n",
              "      <th>CustomerID</th>\n",
              "      <th>Country</th>\n",
              "      <th>TotalPrice</th>\n",
              "      <th>year</th>\n",
              "      <th>month</th>\n",
              "      <th>day</th>\n",
              "      <th>weekday</th>\n",
              "      <th>hour</th>\n",
              "    </tr>\n",
              "  </thead>\n",
              "  <tbody>\n",
              "    <tr>\n",
              "      <th>0</th>\n",
              "      <td>536365</td>\n",
              "      <td>85123A</td>\n",
              "      <td>WHITE HANGING HEART T-LIGHT HOLDER</td>\n",
              "      <td>6</td>\n",
              "      <td>2010-12-01 08:26:00</td>\n",
              "      <td>2.55</td>\n",
              "      <td>17850.0</td>\n",
              "      <td>United Kingdom</td>\n",
              "      <td>15.30</td>\n",
              "      <td>2010</td>\n",
              "      <td>Dec</td>\n",
              "      <td>1</td>\n",
              "      <td>Wednesday</td>\n",
              "      <td>8</td>\n",
              "    </tr>\n",
              "    <tr>\n",
              "      <th>1</th>\n",
              "      <td>536365</td>\n",
              "      <td>71053</td>\n",
              "      <td>WHITE METAL LANTERN</td>\n",
              "      <td>6</td>\n",
              "      <td>2010-12-01 08:26:00</td>\n",
              "      <td>3.39</td>\n",
              "      <td>17850.0</td>\n",
              "      <td>United Kingdom</td>\n",
              "      <td>20.34</td>\n",
              "      <td>2010</td>\n",
              "      <td>Dec</td>\n",
              "      <td>1</td>\n",
              "      <td>Wednesday</td>\n",
              "      <td>8</td>\n",
              "    </tr>\n",
              "    <tr>\n",
              "      <th>2</th>\n",
              "      <td>536365</td>\n",
              "      <td>84406B</td>\n",
              "      <td>CREAM CUPID HEARTS COAT HANGER</td>\n",
              "      <td>8</td>\n",
              "      <td>2010-12-01 08:26:00</td>\n",
              "      <td>2.75</td>\n",
              "      <td>17850.0</td>\n",
              "      <td>United Kingdom</td>\n",
              "      <td>22.00</td>\n",
              "      <td>2010</td>\n",
              "      <td>Dec</td>\n",
              "      <td>1</td>\n",
              "      <td>Wednesday</td>\n",
              "      <td>8</td>\n",
              "    </tr>\n",
              "    <tr>\n",
              "      <th>3</th>\n",
              "      <td>536365</td>\n",
              "      <td>84029G</td>\n",
              "      <td>KNITTED UNION FLAG HOT WATER BOTTLE</td>\n",
              "      <td>6</td>\n",
              "      <td>2010-12-01 08:26:00</td>\n",
              "      <td>3.39</td>\n",
              "      <td>17850.0</td>\n",
              "      <td>United Kingdom</td>\n",
              "      <td>20.34</td>\n",
              "      <td>2010</td>\n",
              "      <td>Dec</td>\n",
              "      <td>1</td>\n",
              "      <td>Wednesday</td>\n",
              "      <td>8</td>\n",
              "    </tr>\n",
              "    <tr>\n",
              "      <th>4</th>\n",
              "      <td>536365</td>\n",
              "      <td>84029E</td>\n",
              "      <td>RED WOOLLY HOTTIE WHITE HEART.</td>\n",
              "      <td>6</td>\n",
              "      <td>2010-12-01 08:26:00</td>\n",
              "      <td>3.39</td>\n",
              "      <td>17850.0</td>\n",
              "      <td>United Kingdom</td>\n",
              "      <td>20.34</td>\n",
              "      <td>2010</td>\n",
              "      <td>Dec</td>\n",
              "      <td>1</td>\n",
              "      <td>Wednesday</td>\n",
              "      <td>8</td>\n",
              "    </tr>\n",
              "  </tbody>\n",
              "</table>\n",
              "</div>\n",
              "      <button class=\"colab-df-convert\" onclick=\"convertToInteractive('df-63c53570-90ef-478f-9dcf-296082310500')\"\n",
              "              title=\"Convert this dataframe to an interactive table.\"\n",
              "              style=\"display:none;\">\n",
              "        \n",
              "  <svg xmlns=\"http://www.w3.org/2000/svg\" height=\"24px\"viewBox=\"0 0 24 24\"\n",
              "       width=\"24px\">\n",
              "    <path d=\"M0 0h24v24H0V0z\" fill=\"none\"/>\n",
              "    <path d=\"M18.56 5.44l.94 2.06.94-2.06 2.06-.94-2.06-.94-.94-2.06-.94 2.06-2.06.94zm-11 1L8.5 8.5l.94-2.06 2.06-.94-2.06-.94L8.5 2.5l-.94 2.06-2.06.94zm10 10l.94 2.06.94-2.06 2.06-.94-2.06-.94-.94-2.06-.94 2.06-2.06.94z\"/><path d=\"M17.41 7.96l-1.37-1.37c-.4-.4-.92-.59-1.43-.59-.52 0-1.04.2-1.43.59L10.3 9.45l-7.72 7.72c-.78.78-.78 2.05 0 2.83L4 21.41c.39.39.9.59 1.41.59.51 0 1.02-.2 1.41-.59l7.78-7.78 2.81-2.81c.8-.78.8-2.07 0-2.86zM5.41 20L4 18.59l7.72-7.72 1.47 1.35L5.41 20z\"/>\n",
              "  </svg>\n",
              "      </button>\n",
              "      \n",
              "  <style>\n",
              "    .colab-df-container {\n",
              "      display:flex;\n",
              "      flex-wrap:wrap;\n",
              "      gap: 12px;\n",
              "    }\n",
              "\n",
              "    .colab-df-convert {\n",
              "      background-color: #E8F0FE;\n",
              "      border: none;\n",
              "      border-radius: 50%;\n",
              "      cursor: pointer;\n",
              "      display: none;\n",
              "      fill: #1967D2;\n",
              "      height: 32px;\n",
              "      padding: 0 0 0 0;\n",
              "      width: 32px;\n",
              "    }\n",
              "\n",
              "    .colab-df-convert:hover {\n",
              "      background-color: #E2EBFA;\n",
              "      box-shadow: 0px 1px 2px rgba(60, 64, 67, 0.3), 0px 1px 3px 1px rgba(60, 64, 67, 0.15);\n",
              "      fill: #174EA6;\n",
              "    }\n",
              "\n",
              "    [theme=dark] .colab-df-convert {\n",
              "      background-color: #3B4455;\n",
              "      fill: #D2E3FC;\n",
              "    }\n",
              "\n",
              "    [theme=dark] .colab-df-convert:hover {\n",
              "      background-color: #434B5C;\n",
              "      box-shadow: 0px 1px 3px 1px rgba(0, 0, 0, 0.15);\n",
              "      filter: drop-shadow(0px 1px 2px rgba(0, 0, 0, 0.3));\n",
              "      fill: #FFFFFF;\n",
              "    }\n",
              "  </style>\n",
              "\n",
              "      <script>\n",
              "        const buttonEl =\n",
              "          document.querySelector('#df-63c53570-90ef-478f-9dcf-296082310500 button.colab-df-convert');\n",
              "        buttonEl.style.display =\n",
              "          google.colab.kernel.accessAllowed ? 'block' : 'none';\n",
              "\n",
              "        async function convertToInteractive(key) {\n",
              "          const element = document.querySelector('#df-63c53570-90ef-478f-9dcf-296082310500');\n",
              "          const dataTable =\n",
              "            await google.colab.kernel.invokeFunction('convertToInteractive',\n",
              "                                                     [key], {});\n",
              "          if (!dataTable) return;\n",
              "\n",
              "          const docLinkHtml = 'Like what you see? Visit the ' +\n",
              "            '<a target=\"_blank\" href=https://colab.research.google.com/notebooks/data_table.ipynb>data table notebook</a>'\n",
              "            + ' to learn more about interactive tables.';\n",
              "          element.innerHTML = '';\n",
              "          dataTable['output_type'] = 'display_data';\n",
              "          await google.colab.output.renderOutput(dataTable, element);\n",
              "          const docLink = document.createElement('div');\n",
              "          docLink.innerHTML = docLinkHtml;\n",
              "          element.appendChild(docLink);\n",
              "        }\n",
              "      </script>\n",
              "    </div>\n",
              "  </div>\n",
              "  "
            ]
          },
          "metadata": {},
          "execution_count": 156
        }
      ]
    },
    {
      "cell_type": "markdown",
      "source": [
        "##### 1. Why did you pick the specific chart?"
      ],
      "metadata": {
        "id": "QHF8YVU7Yuh3"
      }
    },
    {
      "cell_type": "markdown",
      "source": [
        "Answer Here."
      ],
      "metadata": {
        "id": "dcxuIMRPYuh3"
      }
    },
    {
      "cell_type": "markdown",
      "source": [
        "##### 2. What is/are the insight(s) found from the chart?"
      ],
      "metadata": {
        "id": "GwzvFGzlYuh3"
      }
    },
    {
      "cell_type": "markdown",
      "source": [
        "Answer Here"
      ],
      "metadata": {
        "id": "uyqkiB8YYuh3"
      }
    },
    {
      "cell_type": "markdown",
      "source": [
        "##### 3. Will the gained insights help creating a positive business impact? \n",
        "Are there any insights that lead to negative growth? Justify with specific reason."
      ],
      "metadata": {
        "id": "qYpmQ266Yuh3"
      }
    },
    {
      "cell_type": "markdown",
      "source": [
        "Answer Here"
      ],
      "metadata": {
        "id": "_WtzZ_hCYuh4"
      }
    },
    {
      "cell_type": "markdown",
      "source": [
        "#### Chart - 6"
      ],
      "metadata": {
        "id": "OH-pJp9IphqM"
      }
    },
    {
      "cell_type": "code",
      "source": [
        "# Chart - 6 visualization code"
      ],
      "metadata": {
        "id": "kuRf4wtuphqN"
      },
      "execution_count": 43,
      "outputs": []
    },
    {
      "cell_type": "markdown",
      "source": [
        "##### 1. Why did you pick the specific chart?"
      ],
      "metadata": {
        "id": "bbFf2-_FphqN"
      }
    },
    {
      "cell_type": "markdown",
      "source": [
        "Answer Here."
      ],
      "metadata": {
        "id": "loh7H2nzphqN"
      }
    },
    {
      "cell_type": "markdown",
      "source": [
        "##### 2. What is/are the insight(s) found from the chart?"
      ],
      "metadata": {
        "id": "_ouA3fa0phqN"
      }
    },
    {
      "cell_type": "markdown",
      "source": [
        "Answer Here"
      ],
      "metadata": {
        "id": "VECbqPI7phqN"
      }
    },
    {
      "cell_type": "markdown",
      "source": [
        "##### 3. Will the gained insights help creating a positive business impact? \n",
        "Are there any insights that lead to negative growth? Justify with specific reason."
      ],
      "metadata": {
        "id": "Seke61FWphqN"
      }
    },
    {
      "cell_type": "markdown",
      "source": [
        "Answer Here"
      ],
      "metadata": {
        "id": "DW4_bGpfphqN"
      }
    },
    {
      "cell_type": "markdown",
      "source": [
        "#### Chart - 7"
      ],
      "metadata": {
        "id": "PIIx-8_IphqN"
      }
    },
    {
      "cell_type": "code",
      "source": [
        "# Chart - 7 visualization code"
      ],
      "metadata": {
        "id": "lqAIGUfyphqO"
      },
      "execution_count": 44,
      "outputs": []
    },
    {
      "cell_type": "markdown",
      "source": [
        "##### 1. Why did you pick the specific chart?"
      ],
      "metadata": {
        "id": "t27r6nlMphqO"
      }
    },
    {
      "cell_type": "markdown",
      "source": [
        "Answer Here."
      ],
      "metadata": {
        "id": "iv6ro40sphqO"
      }
    },
    {
      "cell_type": "markdown",
      "source": [
        "##### 2. What is/are the insight(s) found from the chart?"
      ],
      "metadata": {
        "id": "r2jJGEOYphqO"
      }
    },
    {
      "cell_type": "markdown",
      "source": [
        "Answer Here"
      ],
      "metadata": {
        "id": "Po6ZPi4hphqO"
      }
    },
    {
      "cell_type": "markdown",
      "source": [
        "##### 3. Will the gained insights help creating a positive business impact? \n",
        "Are there any insights that lead to negative growth? Justify with specific reason."
      ],
      "metadata": {
        "id": "b0JNsNcRphqO"
      }
    },
    {
      "cell_type": "markdown",
      "source": [
        "Answer Here"
      ],
      "metadata": {
        "id": "xvSq8iUTphqO"
      }
    },
    {
      "cell_type": "markdown",
      "source": [
        "#### Chart - 8"
      ],
      "metadata": {
        "id": "BZR9WyysphqO"
      }
    },
    {
      "cell_type": "code",
      "source": [
        "# Chart - 8 visualization code"
      ],
      "metadata": {
        "id": "TdPTWpAVphqO"
      },
      "execution_count": 45,
      "outputs": []
    },
    {
      "cell_type": "markdown",
      "source": [
        "##### 1. Why did you pick the specific chart?"
      ],
      "metadata": {
        "id": "jj7wYXLtphqO"
      }
    },
    {
      "cell_type": "markdown",
      "source": [
        "Answer Here."
      ],
      "metadata": {
        "id": "Ob8u6rCTphqO"
      }
    },
    {
      "cell_type": "markdown",
      "source": [
        "##### 2. What is/are the insight(s) found from the chart?"
      ],
      "metadata": {
        "id": "eZrbJ2SmphqO"
      }
    },
    {
      "cell_type": "markdown",
      "source": [
        "Answer Here"
      ],
      "metadata": {
        "id": "mZtgC_hjphqO"
      }
    },
    {
      "cell_type": "markdown",
      "source": [
        "##### 3. Will the gained insights help creating a positive business impact? \n",
        "Are there any insights that lead to negative growth? Justify with specific reason."
      ],
      "metadata": {
        "id": "rFu4xreNphqO"
      }
    },
    {
      "cell_type": "markdown",
      "source": [
        "Answer Here"
      ],
      "metadata": {
        "id": "ey_0qi68phqO"
      }
    },
    {
      "cell_type": "markdown",
      "source": [
        "#### Chart - 9"
      ],
      "metadata": {
        "id": "YJ55k-q6phqO"
      }
    },
    {
      "cell_type": "code",
      "source": [
        "# Chart - 9 visualization code"
      ],
      "metadata": {
        "id": "B2aS4O1ophqO"
      },
      "execution_count": 46,
      "outputs": []
    },
    {
      "cell_type": "markdown",
      "source": [
        "##### 1. Why did you pick the specific chart?"
      ],
      "metadata": {
        "id": "gCFgpxoyphqP"
      }
    },
    {
      "cell_type": "markdown",
      "source": [
        "Answer Here."
      ],
      "metadata": {
        "id": "TVxDimi2phqP"
      }
    },
    {
      "cell_type": "markdown",
      "source": [
        "##### 2. What is/are the insight(s) found from the chart?"
      ],
      "metadata": {
        "id": "OVtJsKN_phqQ"
      }
    },
    {
      "cell_type": "markdown",
      "source": [
        "Answer Here"
      ],
      "metadata": {
        "id": "ngGi97qjphqQ"
      }
    },
    {
      "cell_type": "markdown",
      "source": [
        "##### 3. Will the gained insights help creating a positive business impact? \n",
        "Are there any insights that lead to negative growth? Justify with specific reason."
      ],
      "metadata": {
        "id": "lssrdh5qphqQ"
      }
    },
    {
      "cell_type": "markdown",
      "source": [
        "Answer Here"
      ],
      "metadata": {
        "id": "tBpY5ekJphqQ"
      }
    },
    {
      "cell_type": "markdown",
      "source": [
        "#### Chart - 10"
      ],
      "metadata": {
        "id": "U2RJ9gkRphqQ"
      }
    },
    {
      "cell_type": "code",
      "source": [
        "# Chart - 10 visualization code"
      ],
      "metadata": {
        "id": "GM7a4YP4phqQ"
      },
      "execution_count": 47,
      "outputs": []
    },
    {
      "cell_type": "markdown",
      "source": [
        "##### 1. Why did you pick the specific chart?"
      ],
      "metadata": {
        "id": "1M8mcRywphqQ"
      }
    },
    {
      "cell_type": "markdown",
      "source": [
        "Answer Here."
      ],
      "metadata": {
        "id": "8agQvks0phqQ"
      }
    },
    {
      "cell_type": "markdown",
      "source": [
        "##### 2. What is/are the insight(s) found from the chart?"
      ],
      "metadata": {
        "id": "tgIPom80phqQ"
      }
    },
    {
      "cell_type": "markdown",
      "source": [
        "Answer Here"
      ],
      "metadata": {
        "id": "Qp13pnNzphqQ"
      }
    },
    {
      "cell_type": "markdown",
      "source": [
        "##### 3. Will the gained insights help creating a positive business impact? \n",
        "Are there any insights that lead to negative growth? Justify with specific reason."
      ],
      "metadata": {
        "id": "JMzcOPDDphqR"
      }
    },
    {
      "cell_type": "markdown",
      "source": [
        "Answer Here"
      ],
      "metadata": {
        "id": "R4Ka1PC2phqR"
      }
    },
    {
      "cell_type": "markdown",
      "source": [
        "#### Chart - 11"
      ],
      "metadata": {
        "id": "x-EpHcCOp1ci"
      }
    },
    {
      "cell_type": "code",
      "source": [
        "# Chart - 11 visualization code"
      ],
      "metadata": {
        "id": "mAQTIvtqp1cj"
      },
      "execution_count": 48,
      "outputs": []
    },
    {
      "cell_type": "markdown",
      "source": [
        "##### 1. Why did you pick the specific chart?"
      ],
      "metadata": {
        "id": "X_VqEhTip1ck"
      }
    },
    {
      "cell_type": "markdown",
      "source": [
        "Answer Here."
      ],
      "metadata": {
        "id": "-vsMzt_np1ck"
      }
    },
    {
      "cell_type": "markdown",
      "source": [
        "##### 2. What is/are the insight(s) found from the chart?"
      ],
      "metadata": {
        "id": "8zGJKyg5p1ck"
      }
    },
    {
      "cell_type": "markdown",
      "source": [
        "Answer Here"
      ],
      "metadata": {
        "id": "ZYdMsrqVp1ck"
      }
    },
    {
      "cell_type": "markdown",
      "source": [
        "##### 3. Will the gained insights help creating a positive business impact? \n",
        "Are there any insights that lead to negative growth? Justify with specific reason."
      ],
      "metadata": {
        "id": "PVzmfK_Ep1ck"
      }
    },
    {
      "cell_type": "markdown",
      "source": [
        "Answer Here"
      ],
      "metadata": {
        "id": "druuKYZpp1ck"
      }
    },
    {
      "cell_type": "markdown",
      "source": [
        "#### Chart - 12"
      ],
      "metadata": {
        "id": "n3dbpmDWp1ck"
      }
    },
    {
      "cell_type": "code",
      "source": [
        "# Chart - 12 visualization code"
      ],
      "metadata": {
        "id": "bwevp1tKp1ck"
      },
      "execution_count": 49,
      "outputs": []
    },
    {
      "cell_type": "markdown",
      "source": [
        "##### 1. Why did you pick the specific chart?"
      ],
      "metadata": {
        "id": "ylSl6qgtp1ck"
      }
    },
    {
      "cell_type": "markdown",
      "source": [
        "Answer Here."
      ],
      "metadata": {
        "id": "m2xqNkiQp1ck"
      }
    },
    {
      "cell_type": "markdown",
      "source": [
        "##### 2. What is/are the insight(s) found from the chart?"
      ],
      "metadata": {
        "id": "ZWILFDl5p1ck"
      }
    },
    {
      "cell_type": "markdown",
      "source": [
        "Answer Here"
      ],
      "metadata": {
        "id": "x-lUsV2mp1ck"
      }
    },
    {
      "cell_type": "markdown",
      "source": [
        "##### 3. Will the gained insights help creating a positive business impact? \n",
        "Are there any insights that lead to negative growth? Justify with specific reason."
      ],
      "metadata": {
        "id": "M7G43BXep1ck"
      }
    },
    {
      "cell_type": "markdown",
      "source": [
        "Answer Here"
      ],
      "metadata": {
        "id": "5wwDJXsLp1cl"
      }
    },
    {
      "cell_type": "markdown",
      "source": [
        "#### Chart - 13"
      ],
      "metadata": {
        "id": "Ag9LCva-p1cl"
      }
    },
    {
      "cell_type": "code",
      "source": [
        "# Chart - 13 visualization code"
      ],
      "metadata": {
        "id": "EUfxeq9-p1cl"
      },
      "execution_count": 50,
      "outputs": []
    },
    {
      "cell_type": "markdown",
      "source": [
        "##### 1. Why did you pick the specific chart?"
      ],
      "metadata": {
        "id": "E6MkPsBcp1cl"
      }
    },
    {
      "cell_type": "markdown",
      "source": [
        "Answer Here."
      ],
      "metadata": {
        "id": "V22bRsFWp1cl"
      }
    },
    {
      "cell_type": "markdown",
      "source": [
        "##### 2. What is/are the insight(s) found from the chart?"
      ],
      "metadata": {
        "id": "2cELzS2fp1cl"
      }
    },
    {
      "cell_type": "markdown",
      "source": [
        "Answer Here"
      ],
      "metadata": {
        "id": "ozQPc2_Ip1cl"
      }
    },
    {
      "cell_type": "markdown",
      "source": [
        "##### 3. Will the gained insights help creating a positive business impact? \n",
        "Are there any insights that lead to negative growth? Justify with specific reason."
      ],
      "metadata": {
        "id": "3MPXvC8up1cl"
      }
    },
    {
      "cell_type": "markdown",
      "source": [
        "Answer Here"
      ],
      "metadata": {
        "id": "GL8l1tdLp1cl"
      }
    },
    {
      "cell_type": "markdown",
      "source": [
        "#### Chart - 14 - Correlation Heatmap"
      ],
      "metadata": {
        "id": "NC_X3p0fY2L0"
      }
    },
    {
      "cell_type": "code",
      "source": [
        "# Correlation Heatmap visualization code"
      ],
      "metadata": {
        "id": "xyC9zolEZNRQ"
      },
      "execution_count": 51,
      "outputs": []
    },
    {
      "cell_type": "markdown",
      "source": [
        "##### 1. Why did you pick the specific chart?"
      ],
      "metadata": {
        "id": "UV0SzAkaZNRQ"
      }
    },
    {
      "cell_type": "markdown",
      "source": [
        "Answer Here."
      ],
      "metadata": {
        "id": "DVPuT8LYZNRQ"
      }
    },
    {
      "cell_type": "markdown",
      "source": [
        "##### 2. What is/are the insight(s) found from the chart?"
      ],
      "metadata": {
        "id": "YPEH6qLeZNRQ"
      }
    },
    {
      "cell_type": "markdown",
      "source": [
        "Answer Here"
      ],
      "metadata": {
        "id": "bfSqtnDqZNRR"
      }
    },
    {
      "cell_type": "markdown",
      "source": [
        "#### Chart - 15 - Pair Plot "
      ],
      "metadata": {
        "id": "q29F0dvdveiT"
      }
    },
    {
      "cell_type": "code",
      "source": [
        "# Pair Plot visualization code"
      ],
      "metadata": {
        "id": "o58-TEIhveiU"
      },
      "execution_count": 52,
      "outputs": []
    },
    {
      "cell_type": "markdown",
      "source": [
        "##### 1. Why did you pick the specific chart?"
      ],
      "metadata": {
        "id": "EXh0U9oCveiU"
      }
    },
    {
      "cell_type": "markdown",
      "source": [
        "Answer Here."
      ],
      "metadata": {
        "id": "eMmPjTByveiU"
      }
    },
    {
      "cell_type": "markdown",
      "source": [
        "##### 2. What is/are the insight(s) found from the chart?"
      ],
      "metadata": {
        "id": "22aHeOlLveiV"
      }
    },
    {
      "cell_type": "markdown",
      "source": [
        "Answer Here"
      ],
      "metadata": {
        "id": "uPQ8RGwHveiV"
      }
    },
    {
      "cell_type": "markdown",
      "source": [
        "## ***5. Hypothesis Testing***"
      ],
      "metadata": {
        "id": "g-ATYxFrGrvw"
      }
    },
    {
      "cell_type": "markdown",
      "source": [
        "### Based on your chart experiments, define three hypothetical statements from the dataset. In the next three questions, perform hypothesis testing to obtain final conclusion about the statements through your code and statistical testing."
      ],
      "metadata": {
        "id": "Yfr_Vlr8HBkt"
      }
    },
    {
      "cell_type": "markdown",
      "source": [
        "Answer Here."
      ],
      "metadata": {
        "id": "-7MS06SUHkB-"
      }
    },
    {
      "cell_type": "markdown",
      "source": [
        "### Hypothetical Statement - 1"
      ],
      "metadata": {
        "id": "8yEUt7NnHlrM"
      }
    },
    {
      "cell_type": "markdown",
      "source": [
        "#### 1. State Your research hypothesis as a null hypothesis and alternate hypothesis."
      ],
      "metadata": {
        "id": "tEA2Xm5dHt1r"
      }
    },
    {
      "cell_type": "markdown",
      "source": [
        "Answer Here."
      ],
      "metadata": {
        "id": "HI9ZP0laH0D-"
      }
    },
    {
      "cell_type": "markdown",
      "source": [
        "#### 2. Perform an appropriate statistical test."
      ],
      "metadata": {
        "id": "I79__PHVH19G"
      }
    },
    {
      "cell_type": "code",
      "source": [
        "# Perform Statistical Test to obtain P-Value"
      ],
      "metadata": {
        "id": "oZrfquKtyian"
      },
      "execution_count": 53,
      "outputs": []
    },
    {
      "cell_type": "markdown",
      "source": [
        "##### Which statistical test have you done to obtain P-Value?"
      ],
      "metadata": {
        "id": "Ou-I18pAyIpj"
      }
    },
    {
      "cell_type": "markdown",
      "source": [
        "Answer Here."
      ],
      "metadata": {
        "id": "s2U0kk00ygSB"
      }
    },
    {
      "cell_type": "markdown",
      "source": [
        "##### Why did you choose the specific statistical test?"
      ],
      "metadata": {
        "id": "fF3858GYyt-u"
      }
    },
    {
      "cell_type": "markdown",
      "source": [
        "Answer Here."
      ],
      "metadata": {
        "id": "HO4K0gP5y3B4"
      }
    },
    {
      "cell_type": "markdown",
      "source": [
        "### Hypothetical Statement - 2"
      ],
      "metadata": {
        "id": "4_0_7-oCpUZd"
      }
    },
    {
      "cell_type": "markdown",
      "source": [
        "#### 1. State Your research hypothesis as a null hypothesis and alternate hypothesis."
      ],
      "metadata": {
        "id": "hwyV_J3ipUZe"
      }
    },
    {
      "cell_type": "markdown",
      "source": [
        "Answer Here."
      ],
      "metadata": {
        "id": "FnpLGJ-4pUZe"
      }
    },
    {
      "cell_type": "markdown",
      "source": [
        "#### 2. Perform an appropriate statistical test."
      ],
      "metadata": {
        "id": "3yB-zSqbpUZe"
      }
    },
    {
      "cell_type": "code",
      "source": [
        "# Perform Statistical Test to obtain P-Value"
      ],
      "metadata": {
        "id": "sWxdNTXNpUZe"
      },
      "execution_count": 54,
      "outputs": []
    },
    {
      "cell_type": "markdown",
      "source": [
        "##### Which statistical test have you done to obtain P-Value?"
      ],
      "metadata": {
        "id": "dEUvejAfpUZe"
      }
    },
    {
      "cell_type": "markdown",
      "source": [
        "Answer Here."
      ],
      "metadata": {
        "id": "oLDrPz7HpUZf"
      }
    },
    {
      "cell_type": "markdown",
      "source": [
        "##### Why did you choose the specific statistical test?"
      ],
      "metadata": {
        "id": "Fd15vwWVpUZf"
      }
    },
    {
      "cell_type": "markdown",
      "source": [
        "Answer Here."
      ],
      "metadata": {
        "id": "4xOGYyiBpUZf"
      }
    },
    {
      "cell_type": "markdown",
      "source": [
        "### Hypothetical Statement - 3"
      ],
      "metadata": {
        "id": "bn_IUdTipZyH"
      }
    },
    {
      "cell_type": "markdown",
      "source": [
        "#### 1. State Your research hypothesis as a null hypothesis and alternate hypothesis."
      ],
      "metadata": {
        "id": "49K5P_iCpZyH"
      }
    },
    {
      "cell_type": "markdown",
      "source": [
        "Answer Here."
      ],
      "metadata": {
        "id": "7gWI5rT9pZyH"
      }
    },
    {
      "cell_type": "markdown",
      "source": [
        "#### 2. Perform an appropriate statistical test."
      ],
      "metadata": {
        "id": "Nff-vKELpZyI"
      }
    },
    {
      "cell_type": "code",
      "source": [
        "# Perform Statistical Test to obtain P-Value"
      ],
      "metadata": {
        "id": "s6AnJQjtpZyI"
      },
      "execution_count": 55,
      "outputs": []
    },
    {
      "cell_type": "markdown",
      "source": [
        "##### Which statistical test have you done to obtain P-Value?"
      ],
      "metadata": {
        "id": "kLW572S8pZyI"
      }
    },
    {
      "cell_type": "markdown",
      "source": [
        "Answer Here."
      ],
      "metadata": {
        "id": "ytWJ8v15pZyI"
      }
    },
    {
      "cell_type": "markdown",
      "source": [
        "##### Why did you choose the specific statistical test?"
      ],
      "metadata": {
        "id": "dWbDXHzopZyI"
      }
    },
    {
      "cell_type": "markdown",
      "source": [
        "Answer Here."
      ],
      "metadata": {
        "id": "M99G98V6pZyI"
      }
    },
    {
      "cell_type": "markdown",
      "source": [
        "## ***6. Feature Engineering & Data Pre-processing***"
      ],
      "metadata": {
        "id": "yLjJCtPM0KBk"
      }
    },
    {
      "cell_type": "markdown",
      "source": [
        "### 1. Handling Missing Values"
      ],
      "metadata": {
        "id": "xiyOF9F70UgQ"
      }
    },
    {
      "cell_type": "code",
      "source": [
        "# Handling Missing Values & Missing Value Imputation"
      ],
      "metadata": {
        "id": "iRsAHk1K0fpS"
      },
      "execution_count": 56,
      "outputs": []
    },
    {
      "cell_type": "markdown",
      "source": [
        "#### What all missing value imputation techniques have you used and why did you use those techniques?"
      ],
      "metadata": {
        "id": "7wuGOrhz0itI"
      }
    },
    {
      "cell_type": "markdown",
      "source": [
        "Answer Here."
      ],
      "metadata": {
        "id": "1ixusLtI0pqI"
      }
    },
    {
      "cell_type": "markdown",
      "source": [
        "### 2. Handling Outliers"
      ],
      "metadata": {
        "id": "id1riN9m0vUs"
      }
    },
    {
      "cell_type": "code",
      "source": [
        "# Handling Outliers & Outlier treatments"
      ],
      "metadata": {
        "id": "M6w2CzZf04JK"
      },
      "execution_count": 57,
      "outputs": []
    },
    {
      "cell_type": "markdown",
      "source": [
        "##### What all outlier treatment techniques have you used and why did you use those techniques?"
      ],
      "metadata": {
        "id": "578E2V7j08f6"
      }
    },
    {
      "cell_type": "markdown",
      "source": [
        "Answer Here."
      ],
      "metadata": {
        "id": "uGZz5OrT1HH-"
      }
    },
    {
      "cell_type": "markdown",
      "source": [
        "### 3. Categorical Encoding"
      ],
      "metadata": {
        "id": "89xtkJwZ18nB"
      }
    },
    {
      "cell_type": "code",
      "source": [
        "# Encode your categorical columns"
      ],
      "metadata": {
        "id": "21JmIYMG2hEo"
      },
      "execution_count": 58,
      "outputs": []
    },
    {
      "cell_type": "markdown",
      "source": [
        "#### What all categorical encoding techniques have you used & why did you use those techniques?"
      ],
      "metadata": {
        "id": "67NQN5KX2AMe"
      }
    },
    {
      "cell_type": "markdown",
      "source": [
        "Answer Here."
      ],
      "metadata": {
        "id": "UDaue5h32n_G"
      }
    },
    {
      "cell_type": "markdown",
      "source": [
        "### 4. Textual Data Preprocessing \n",
        "(It's mandatory for textual dataset i.e., NLP, Sentiment Analysis, Text Clustering etc.)"
      ],
      "metadata": {
        "id": "Iwf50b-R2tYG"
      }
    },
    {
      "cell_type": "markdown",
      "source": [
        "#### 1. Expand Contraction"
      ],
      "metadata": {
        "id": "GMQiZwjn3iu7"
      }
    },
    {
      "cell_type": "code",
      "source": [
        "# Expand Contraction"
      ],
      "metadata": {
        "id": "PTouz10C3oNN"
      },
      "execution_count": 59,
      "outputs": []
    },
    {
      "cell_type": "markdown",
      "source": [
        "#### 2. Lower Casing"
      ],
      "metadata": {
        "id": "WVIkgGqN3qsr"
      }
    },
    {
      "cell_type": "code",
      "source": [
        "# Lower Casing"
      ],
      "metadata": {
        "id": "88JnJ1jN3w7j"
      },
      "execution_count": 60,
      "outputs": []
    },
    {
      "cell_type": "markdown",
      "source": [
        "#### 3. Removing Punctuations"
      ],
      "metadata": {
        "id": "XkPnILGE3zoT"
      }
    },
    {
      "cell_type": "code",
      "source": [
        "# Remove Punctuations"
      ],
      "metadata": {
        "id": "vqbBqNaA33c0"
      },
      "execution_count": 61,
      "outputs": []
    },
    {
      "cell_type": "markdown",
      "source": [
        "#### 4. Removing URLs & Removing words and digits contain digits."
      ],
      "metadata": {
        "id": "Hlsf0x5436Go"
      }
    },
    {
      "cell_type": "code",
      "source": [
        "# Remove URLs & Remove words and digits contain digits"
      ],
      "metadata": {
        "id": "2sxKgKxu4Ip3"
      },
      "execution_count": 62,
      "outputs": []
    },
    {
      "cell_type": "markdown",
      "source": [
        "#### 5. Removing Stopwords & Removing White spaces"
      ],
      "metadata": {
        "id": "mT9DMSJo4nBL"
      }
    },
    {
      "cell_type": "code",
      "source": [
        "# Remove Stopwords"
      ],
      "metadata": {
        "id": "T2LSJh154s8W"
      },
      "execution_count": 63,
      "outputs": []
    },
    {
      "cell_type": "code",
      "source": [
        "# Remove White spaces"
      ],
      "metadata": {
        "id": "EgLJGffy4vm0"
      },
      "execution_count": 64,
      "outputs": []
    },
    {
      "cell_type": "markdown",
      "source": [
        "#### 6. Rephrase Text"
      ],
      "metadata": {
        "id": "c49ITxTc407N"
      }
    },
    {
      "cell_type": "code",
      "source": [
        "# Rephrase Text"
      ],
      "metadata": {
        "id": "foqY80Qu48N2"
      },
      "execution_count": 65,
      "outputs": []
    },
    {
      "cell_type": "markdown",
      "source": [
        "#### 7. Tokenization"
      ],
      "metadata": {
        "id": "OeJFEK0N496M"
      }
    },
    {
      "cell_type": "code",
      "source": [
        "# Tokenization"
      ],
      "metadata": {
        "id": "ijx1rUOS5CUU"
      },
      "execution_count": 66,
      "outputs": []
    },
    {
      "cell_type": "markdown",
      "source": [
        "#### 8. Text Normalization"
      ],
      "metadata": {
        "id": "9ExmJH0g5HBk"
      }
    },
    {
      "cell_type": "code",
      "source": [
        "# Normalizing Text (i.e., Stemming, Lemmatization etc.)"
      ],
      "metadata": {
        "id": "AIJ1a-Zc5PY8"
      },
      "execution_count": 67,
      "outputs": []
    },
    {
      "cell_type": "markdown",
      "source": [
        "##### Which text normalization technique have you used and why?"
      ],
      "metadata": {
        "id": "cJNqERVU536h"
      }
    },
    {
      "cell_type": "markdown",
      "source": [
        "Answer Here."
      ],
      "metadata": {
        "id": "Z9jKVxE06BC1"
      }
    },
    {
      "cell_type": "markdown",
      "source": [
        "#### 9. Part of speech tagging"
      ],
      "metadata": {
        "id": "k5UmGsbsOxih"
      }
    },
    {
      "cell_type": "code",
      "source": [
        "# POS Taging"
      ],
      "metadata": {
        "id": "btT3ZJBAO6Ik"
      },
      "execution_count": 68,
      "outputs": []
    },
    {
      "cell_type": "markdown",
      "source": [
        "#### 10. Text Vectorization"
      ],
      "metadata": {
        "id": "T0VqWOYE6DLQ"
      }
    },
    {
      "cell_type": "code",
      "source": [
        "# Vectorizing Text"
      ],
      "metadata": {
        "id": "yBRtdhth6JDE"
      },
      "execution_count": 69,
      "outputs": []
    },
    {
      "cell_type": "markdown",
      "source": [
        "##### Which text vectorization technique have you used and why?"
      ],
      "metadata": {
        "id": "qBMux9mC6MCf"
      }
    },
    {
      "cell_type": "markdown",
      "source": [
        "Answer Here."
      ],
      "metadata": {
        "id": "su2EnbCh6UKQ"
      }
    },
    {
      "cell_type": "markdown",
      "source": [
        "### 4. Feature Manipulation & Selection"
      ],
      "metadata": {
        "id": "-oLEiFgy-5Pf"
      }
    },
    {
      "cell_type": "markdown",
      "source": [
        "#### 1. Feature Manipulation"
      ],
      "metadata": {
        "id": "C74aWNz2AliB"
      }
    },
    {
      "cell_type": "code",
      "source": [
        "# Manipulate Features to minimize feature correlation and create new features"
      ],
      "metadata": {
        "id": "h1qC4yhBApWC"
      },
      "execution_count": 70,
      "outputs": []
    },
    {
      "cell_type": "markdown",
      "source": [
        "#### 2. Feature Selection"
      ],
      "metadata": {
        "id": "2DejudWSA-a0"
      }
    },
    {
      "cell_type": "code",
      "source": [
        "# Select your features wisely to avoid overfitting"
      ],
      "metadata": {
        "id": "YLhe8UmaBCEE"
      },
      "execution_count": 71,
      "outputs": []
    },
    {
      "cell_type": "markdown",
      "source": [
        "##### What all feature selection methods have you used  and why?"
      ],
      "metadata": {
        "id": "pEMng2IbBLp7"
      }
    },
    {
      "cell_type": "markdown",
      "source": [
        "Answer Here."
      ],
      "metadata": {
        "id": "rb2Lh6Z8BgGs"
      }
    },
    {
      "cell_type": "markdown",
      "source": [
        "##### Which all features you found important and why?"
      ],
      "metadata": {
        "id": "rAdphbQ9Bhjc"
      }
    },
    {
      "cell_type": "markdown",
      "source": [
        "Answer Here."
      ],
      "metadata": {
        "id": "fGgaEstsBnaf"
      }
    },
    {
      "cell_type": "markdown",
      "source": [
        "### 5. Data Transformation"
      ],
      "metadata": {
        "id": "TNVZ9zx19K6k"
      }
    },
    {
      "cell_type": "markdown",
      "source": [
        "#### Do you think that your data needs to be transformed? If yes, which transformation have you used. Explain Why?"
      ],
      "metadata": {
        "id": "nqoHp30x9hH9"
      }
    },
    {
      "cell_type": "code",
      "source": [
        "# Transform Your data"
      ],
      "metadata": {
        "id": "I6quWQ1T9rtH"
      },
      "execution_count": 72,
      "outputs": []
    },
    {
      "cell_type": "markdown",
      "source": [
        "### 6. Data Scaling"
      ],
      "metadata": {
        "id": "rMDnDkt2B6du"
      }
    },
    {
      "cell_type": "code",
      "source": [
        "# Scaling your data"
      ],
      "metadata": {
        "id": "dL9LWpySC6x_"
      },
      "execution_count": 73,
      "outputs": []
    },
    {
      "cell_type": "markdown",
      "source": [
        "##### Which method have you used to scale you data and why?"
      ],
      "metadata": {
        "id": "yiiVWRdJDDil"
      }
    },
    {
      "cell_type": "markdown",
      "source": [
        "### 7. Dimesionality Reduction"
      ],
      "metadata": {
        "id": "1UUpS68QDMuG"
      }
    },
    {
      "cell_type": "markdown",
      "source": [
        "##### Do you think that dimensionality reduction is needed? Explain Why?"
      ],
      "metadata": {
        "id": "kexQrXU-DjzY"
      }
    },
    {
      "cell_type": "markdown",
      "source": [
        "Answer Here."
      ],
      "metadata": {
        "id": "GGRlBsSGDtTQ"
      }
    },
    {
      "cell_type": "code",
      "source": [
        "# DImensionality Reduction (If needed)"
      ],
      "metadata": {
        "id": "kQfvxBBHDvCa"
      },
      "execution_count": 74,
      "outputs": []
    },
    {
      "cell_type": "markdown",
      "source": [
        "##### Which dimensionality reduction technique have you used and why? (If dimensionality reduction done on dataset.)"
      ],
      "metadata": {
        "id": "T5CmagL3EC8N"
      }
    },
    {
      "cell_type": "markdown",
      "source": [
        "Answer Here."
      ],
      "metadata": {
        "id": "ZKr75IDuEM7t"
      }
    },
    {
      "cell_type": "markdown",
      "source": [
        "### 8. Data Splitting"
      ],
      "metadata": {
        "id": "BhH2vgX9EjGr"
      }
    },
    {
      "cell_type": "code",
      "source": [
        "# Split your data to train and test. Choose Splitting ratio wisely."
      ],
      "metadata": {
        "id": "0CTyd2UwEyNM"
      },
      "execution_count": 75,
      "outputs": []
    },
    {
      "cell_type": "markdown",
      "source": [
        "##### What data splitting ratio have you used and why? "
      ],
      "metadata": {
        "id": "qjKvONjwE8ra"
      }
    },
    {
      "cell_type": "markdown",
      "source": [
        "Answer Here."
      ],
      "metadata": {
        "id": "Y2lJ8cobFDb_"
      }
    },
    {
      "cell_type": "markdown",
      "source": [
        "### 9. Handling Imbalanced Dataset"
      ],
      "metadata": {
        "id": "P1XJ9OREExlT"
      }
    },
    {
      "cell_type": "markdown",
      "source": [
        "##### Do you think the dataset is imbalanced? Explain Why."
      ],
      "metadata": {
        "id": "VFOzZv6IFROw"
      }
    },
    {
      "cell_type": "markdown",
      "source": [
        "Answer Here."
      ],
      "metadata": {
        "id": "GeKDIv7pFgcC"
      }
    },
    {
      "cell_type": "code",
      "source": [
        "# Handling Imbalanced Dataset (If needed)"
      ],
      "metadata": {
        "id": "nQsRhhZLFiDs"
      },
      "execution_count": 76,
      "outputs": []
    },
    {
      "cell_type": "markdown",
      "source": [
        "##### What technique did you use to handle the imbalance dataset and why? (If needed to be balanced)"
      ],
      "metadata": {
        "id": "TIqpNgepFxVj"
      }
    },
    {
      "cell_type": "markdown",
      "source": [
        "Answer Here."
      ],
      "metadata": {
        "id": "qbet1HwdGDTz"
      }
    },
    {
      "cell_type": "markdown",
      "source": [
        "## ***7. ML Model Implementation***"
      ],
      "metadata": {
        "id": "VfCC591jGiD4"
      }
    },
    {
      "cell_type": "markdown",
      "source": [
        "### ML Model - 1"
      ],
      "metadata": {
        "id": "OB4l2ZhMeS1U"
      }
    },
    {
      "cell_type": "code",
      "source": [
        "# ML Model - 1 Implementation\n",
        "\n",
        "# Fit the Algorithm\n",
        "\n",
        "# Predict on the model"
      ],
      "metadata": {
        "id": "7ebyywQieS1U"
      },
      "execution_count": 77,
      "outputs": []
    },
    {
      "cell_type": "markdown",
      "source": [
        "#### 1. Explain the ML Model used and it's performance using Evaluation metric Score Chart."
      ],
      "metadata": {
        "id": "ArJBuiUVfxKd"
      }
    },
    {
      "cell_type": "code",
      "source": [
        "# Visualizing evaluation Metric Score chart"
      ],
      "metadata": {
        "id": "rqD5ZohzfxKe"
      },
      "execution_count": 78,
      "outputs": []
    },
    {
      "cell_type": "markdown",
      "source": [
        "#### 2. Cross- Validation & Hyperparameter Tuning"
      ],
      "metadata": {
        "id": "4qY1EAkEfxKe"
      }
    },
    {
      "cell_type": "code",
      "source": [
        "# ML Model - 1 Implementation with hyperparameter optimization techniques (i.e., GridSearch CV, RandomSearch CV, Bayesian Optimization etc.)\n",
        "\n",
        "# Fit the Algorithm\n",
        "\n",
        "# Predict on the model"
      ],
      "metadata": {
        "id": "Dy61ujd6fxKe"
      },
      "execution_count": 79,
      "outputs": []
    },
    {
      "cell_type": "markdown",
      "source": [
        "##### Which hyperparameter optimization technique have you used and why?"
      ],
      "metadata": {
        "id": "PiV4Ypx8fxKe"
      }
    },
    {
      "cell_type": "markdown",
      "source": [
        "Answer Here."
      ],
      "metadata": {
        "id": "negyGRa7fxKf"
      }
    },
    {
      "cell_type": "markdown",
      "source": [
        "##### Have you seen any improvement? Note down the improvement with updates Evaluation metric Score Chart."
      ],
      "metadata": {
        "id": "TfvqoZmBfxKf"
      }
    },
    {
      "cell_type": "markdown",
      "source": [
        "Answer Here."
      ],
      "metadata": {
        "id": "OaLui8CcfxKf"
      }
    },
    {
      "cell_type": "markdown",
      "source": [
        "### ML Model - 2"
      ],
      "metadata": {
        "id": "dJ2tPlVmpsJ0"
      }
    },
    {
      "cell_type": "markdown",
      "source": [
        "#### 1. Explain the ML Model used and it's performance using Evaluation metric Score Chart."
      ],
      "metadata": {
        "id": "JWYfwnehpsJ1"
      }
    },
    {
      "cell_type": "code",
      "source": [
        "# Visualizing evaluation Metric Score chart"
      ],
      "metadata": {
        "id": "yEl-hgQWpsJ1"
      },
      "execution_count": 80,
      "outputs": []
    },
    {
      "cell_type": "markdown",
      "source": [
        "#### 2. Cross- Validation & Hyperparameter Tuning"
      ],
      "metadata": {
        "id": "-jK_YjpMpsJ2"
      }
    },
    {
      "cell_type": "code",
      "source": [
        "# ML Model - 1 Implementation with hyperparameter optimization techniques (i.e., GridSearch CV, RandomSearch CV, Bayesian Optimization etc.)\n",
        "\n",
        "# Fit the Algorithm\n",
        "\n",
        "# Predict on the model"
      ],
      "metadata": {
        "id": "Dn0EOfS6psJ2"
      },
      "execution_count": 81,
      "outputs": []
    },
    {
      "cell_type": "markdown",
      "source": [
        "##### Which hyperparameter optimization technique have you used and why?"
      ],
      "metadata": {
        "id": "HAih1iBOpsJ2"
      }
    },
    {
      "cell_type": "markdown",
      "source": [
        "Answer Here."
      ],
      "metadata": {
        "id": "9kBgjYcdpsJ2"
      }
    },
    {
      "cell_type": "markdown",
      "source": [
        "##### Have you seen any improvement? Note down the improvement with updates Evaluation metric Score Chart."
      ],
      "metadata": {
        "id": "zVGeBEFhpsJ2"
      }
    },
    {
      "cell_type": "markdown",
      "source": [
        "Answer Here."
      ],
      "metadata": {
        "id": "74yRdG6UpsJ3"
      }
    },
    {
      "cell_type": "markdown",
      "source": [
        "#### 3. Explain each evaluation metric's indication towards business and the business impact pf the ML model used."
      ],
      "metadata": {
        "id": "bmKjuQ-FpsJ3"
      }
    },
    {
      "cell_type": "markdown",
      "source": [
        "Answer Here."
      ],
      "metadata": {
        "id": "BDKtOrBQpsJ3"
      }
    },
    {
      "cell_type": "markdown",
      "source": [
        "### ML Model - 3"
      ],
      "metadata": {
        "id": "Fze-IPXLpx6K"
      }
    },
    {
      "cell_type": "code",
      "source": [
        "# ML Model - 3 Implementation\n",
        "\n",
        "# Fit the Algorithm\n",
        "\n",
        "# Predict on the model"
      ],
      "metadata": {
        "id": "FFrSXAtrpx6M"
      },
      "execution_count": 82,
      "outputs": []
    },
    {
      "cell_type": "markdown",
      "source": [
        "#### 1. Explain the ML Model used and it's performance using Evaluation metric Score Chart."
      ],
      "metadata": {
        "id": "7AN1z2sKpx6M"
      }
    },
    {
      "cell_type": "code",
      "source": [
        "# Visualizing evaluation Metric Score chart"
      ],
      "metadata": {
        "id": "xIY4lxxGpx6M"
      },
      "execution_count": 83,
      "outputs": []
    },
    {
      "cell_type": "markdown",
      "source": [
        "#### 2. Cross- Validation & Hyperparameter Tuning"
      ],
      "metadata": {
        "id": "9PIHJqyupx6M"
      }
    },
    {
      "cell_type": "code",
      "source": [
        "# ML Model - 3 Implementation with hyperparameter optimization techniques (i.e., GridSearch CV, RandomSearch CV, Bayesian Optimization etc.)\n",
        "\n",
        "# Fit the Algorithm\n",
        "\n",
        "# Predict on the model"
      ],
      "metadata": {
        "id": "eSVXuaSKpx6M"
      },
      "execution_count": 84,
      "outputs": []
    },
    {
      "cell_type": "markdown",
      "source": [
        "##### Which hyperparameter optimization technique have you used and why?"
      ],
      "metadata": {
        "id": "_-qAgymDpx6N"
      }
    },
    {
      "cell_type": "markdown",
      "source": [
        "Answer Here."
      ],
      "metadata": {
        "id": "lQMffxkwpx6N"
      }
    },
    {
      "cell_type": "markdown",
      "source": [
        "##### Have you seen any improvement? Note down the improvement with updates Evaluation metric Score Chart."
      ],
      "metadata": {
        "id": "Z-hykwinpx6N"
      }
    },
    {
      "cell_type": "markdown",
      "source": [
        "Answer Here."
      ],
      "metadata": {
        "id": "MzVzZC6opx6N"
      }
    },
    {
      "cell_type": "markdown",
      "source": [
        "### 1. Which Evaluation metrics did you consider for a positive business impact and why?"
      ],
      "metadata": {
        "id": "h_CCil-SKHpo"
      }
    },
    {
      "cell_type": "markdown",
      "source": [
        "Answer Here."
      ],
      "metadata": {
        "id": "jHVz9hHDKFms"
      }
    },
    {
      "cell_type": "markdown",
      "source": [
        "### 2. Which ML model did you choose from the above created models as your final prediction model and why?"
      ],
      "metadata": {
        "id": "cBFFvTBNJzUa"
      }
    },
    {
      "cell_type": "markdown",
      "source": [
        "Answer Here."
      ],
      "metadata": {
        "id": "6ksF5Q1LKTVm"
      }
    },
    {
      "cell_type": "markdown",
      "source": [
        "### 3. Explain the model which you have used and the feature importance using any model explainability tool?"
      ],
      "metadata": {
        "id": "HvGl1hHyA_VK"
      }
    },
    {
      "cell_type": "markdown",
      "source": [
        "Answer Here."
      ],
      "metadata": {
        "id": "YnvVTiIxBL-C"
      }
    },
    {
      "cell_type": "markdown",
      "source": [
        "## ***8.*** ***Future Work (Optional)***"
      ],
      "metadata": {
        "id": "EyNgTHvd2WFk"
      }
    },
    {
      "cell_type": "markdown",
      "source": [
        "### 1. Save the best performing ml model in a pickle file or joblib file format for deployment process.\n"
      ],
      "metadata": {
        "id": "KH5McJBi2d8v"
      }
    },
    {
      "cell_type": "code",
      "source": [
        "# Save the File"
      ],
      "metadata": {
        "id": "bQIANRl32f4J"
      },
      "execution_count": 85,
      "outputs": []
    },
    {
      "cell_type": "markdown",
      "source": [
        "### 2. Again Load the saved model file and try to predict unseen data for a sanity check.\n"
      ],
      "metadata": {
        "id": "iW_Lq9qf2h6X"
      }
    },
    {
      "cell_type": "code",
      "source": [
        "# Load the File and predict unseen data."
      ],
      "metadata": {
        "id": "oEXk9ydD2nVC"
      },
      "execution_count": 86,
      "outputs": []
    },
    {
      "cell_type": "markdown",
      "source": [
        "### ***Congrats! Your model is successfully created and ready for deployment on a live server for a real user interaction !!!***"
      ],
      "metadata": {
        "id": "-Kee-DAl2viO"
      }
    },
    {
      "cell_type": "markdown",
      "source": [
        "# **Conclusion**"
      ],
      "metadata": {
        "id": "gCX9965dhzqZ"
      }
    },
    {
      "cell_type": "markdown",
      "source": [
        "Write the conclusion here."
      ],
      "metadata": {
        "id": "Fjb1IsQkh3yE"
      }
    },
    {
      "cell_type": "markdown",
      "source": [
        "### ***Hurrah! You have successfully completed your Machine Learning Capstone Project !!!***"
      ],
      "metadata": {
        "id": "gIfDvo9L0UH2"
      }
    }
  ]
}